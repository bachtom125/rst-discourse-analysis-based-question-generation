{
 "cells": [
  {
   "cell_type": "code",
   "execution_count": 25,
   "metadata": {},
   "outputs": [],
   "source": [
    "import pandas as pd\n",
    "import numpy as np\n",
    "import matplotlib.pyplot as plt\n",
    "import regex as re\n",
    "import os\n",
    "\n",
    "pd.set_option('display.max_colwidth', None)"
   ]
  },
  {
   "cell_type": "markdown",
   "metadata": {},
   "source": [
    "Get Inputs"
   ]
  },
  {
   "cell_type": "code",
   "execution_count": 10,
   "metadata": {},
   "outputs": [
    {
     "name": "stdout",
     "output_type": "stream",
     "text": [
      "0600.out.dis\n",
      "0600.out.edus\n",
      "0600.out.sents\n"
     ]
    }
   ],
   "source": [
    "import os\n",
    "data_path = os.path.join(os.getcwd(), 'Datasets/RST-DT/training_data/original_data')\n",
    "for file_name in os.listdir(data_path):\n",
    "    if file_name.endswith('.out'):\n",
    "        os.rename(os.path.join(data_path, file_name), os.path.join(data_path, file_name) + '.sents')\n",
    "\n",
    "for file_name in os.listdir(data_path)[:3]:\n",
    "    print(file_name)\n",
    "    \n",
    "# .dis files are tree files\n",
    "# .edus files are files separeated by EDUs (one line each)\n",
    "# .sents files are files separated by sentences (one line each)"
   ]
  },
  {
   "cell_type": "markdown",
   "metadata": {},
   "source": [
    "Process Data"
   ]
  },
  {
   "cell_type": "code",
   "execution_count": 95,
   "metadata": {},
   "outputs": [],
   "source": [
    "def get_edus_from_edu_files(edu_files):\n",
    "    \"\"\"\n",
    "    Read .edus file and return a list of EDUs\n",
    "\n",
    "    Args:\n",
    "        edu_files: file handler\n",
    "\n",
    "    Returns:\n",
    "        A list of EDU with index corresponding to each EDU's id\n",
    "    \"\"\"\n",
    "    edu_list = ['dummy_node']\n",
    "    for line in edu_files:\n",
    "        edu_list.append(line.strip())\n",
    "    \n",
    "    return edu_list"
   ]
  },
  {
   "cell_type": "code",
   "execution_count": 96,
   "metadata": {},
   "outputs": [],
   "source": [
    "def read_dis_line(line: str):\n",
    "    \"\"\"\n",
    "    Processes a line containing nuclearity, edu span, relation, (potentially) text and return the relavent data to the relation\n",
    "\n",
    "    Args:\n",
    "        line: A string containing the line\n",
    "\n",
    "    Returns:\n",
    "        A tuple of this type (num_indents, nuclearity, start_edu, end_edu, relation)\n",
    "    \"\"\"\n",
    "    nucleus_pattern = r'\\( Nucleus \\((?:leaf|span) (\\d+)(?: (\\d+))?\\) \\(rel2par ([^)]*)\\).*'\n",
    "    satellite_pattern = r'\\( Satellite \\((?:leaf|span) (\\d+)(?: (\\d+))?\\) \\(rel2par ([^)]*)\\).*'\n",
    "    \n",
    "    nucleus_match = re.match(nucleus_pattern, line.strip())\n",
    "    satellite_match = re.match(satellite_pattern, line.strip())\n",
    "    assert bool(nucleus_match) != bool(satellite_match)\n",
    "\n",
    "    num_indents = len(line) - len(line.lstrip())\n",
    "    nuclearity = \"nucleus\" if nucleus_match is not None else \"satellite\"\n",
    "    group_match = nucleus_match if nucleus_match is not None else satellite_match\n",
    "    start_edu = group_match.group(1) # first number after span|leaf\n",
    "    end_edu = start_edu if group_match.group(2) is None else group_match.group(2)\n",
    "    relation = group_match.group(3)\n",
    "\n",
    "    return (num_indents, nuclearity, start_edu, end_edu, relation)"
   ]
  },
  {
   "cell_type": "code",
   "execution_count": 97,
   "metadata": {},
   "outputs": [],
   "source": [
    "def read_dis_file(doc_name, dis_file, edu_list):\n",
    "    \"\"\"\n",
    "    Processes EDU data and returns a dictionary containing relations with their nucleus and satellite EDUs.\n",
    "\n",
    "    Args:\n",
    "        data: A string containing the EDU data, with each line representing an EDU.\n",
    "\n",
    "    Returns:\n",
    "        A df with keys being doc name, nucleus text, satellite (or another nucleus) text, and relation label\n",
    "    \"\"\"\n",
    "    relation_map = {\"dummy\": {\"doc_name\": \"\", \"nucleus\": \"\", \"satellite\": \"\", \"relation\": \"\"}} # to store relations that have not find their corresponding partners (nucleus/satellite)\n",
    "    final_relations = pd.DataFrame(columns=['doc_name', 'nucleus', 'satellite', 'relation'])\n",
    "    for line in dis_file:\n",
    "        if not line.strip() or len(line.strip()) == 1 or line.startswith(\"( Root\"):\n",
    "            continue\n",
    "        num_indents, nuclearity, start_edu, end_edu, relation = read_dis_line(line)\n",
    "        text = \"\"\n",
    "\n",
    "        # get associated text (EDU(s)) of either the nucleus or satellite\n",
    "        for i in range(int(start_edu), int(end_edu) + 1):\n",
    "            text += edu_list[i] + ' '\n",
    "\n",
    "        if relation_map.get(num_indents) is None: # value with this indents as key is empty\n",
    "            relation_map[num_indents] = {'doc_name': \"\", 'nucleus': \"\", 'satellite': \"\", 'relation': \"\"}\n",
    "            cur_relation = relation_map[num_indents]\n",
    "            cur_relation['doc_name'] = doc_name\n",
    "\n",
    "            cur_relation[nuclearity] = text\n",
    "            # if relation in RELATIONS:\n",
    "            if relation != \"span\":\n",
    "                cur_relation['relation'] = relation\n",
    "        else:\n",
    "            cur_relation = relation_map[num_indents]\n",
    "            if len(cur_relation[nuclearity].strip()):\n",
    "                assert nuclearity == 'nucleus'\n",
    "                nuclearity = 'satellite'\n",
    "\n",
    "            cur_relation[nuclearity] = text\n",
    "            if relation != \"span\":\n",
    "                cur_relation['relation'] = relation\n",
    "            else:\n",
    "                try: \n",
    "                    assert len(cur_relation['relation'].strip()) != 0\n",
    "                except:\n",
    "                    print(cur_relation)\n",
    "            \n",
    "            if \"it would set off a political earthquake\" in cur_relation['nucleus']:\n",
    "                print(cur_relation)\n",
    "            final_relations.loc[len(final_relations)] = cur_relation\n",
    "            # remove dictionary of this indents after processing the full relation\n",
    "            del relation_map[num_indents]\n",
    "\n",
    "    return final_relations"
   ]
  },
  {
   "cell_type": "code",
   "execution_count": 98,
   "metadata": {},
   "outputs": [
    {
     "name": "stdout",
     "output_type": "stream",
     "text": [
      "\n",
      "GOT EDUS!\n",
      "\n",
      "{'doc_name': '0609', 'nucleus': 'President Bush badly wants a line-item veto and has long called for a law giving it to the president. Now the White House is declaring that he might not rely on Congress -- which hasn\\'t shown any willingness to surrender such authority -- to pass the line-item veto law he seeks. White House spokesmen last week said Mr. Bush is considering simply declaring that the Constitution gives him the power, exercising a line-item veto and inviting a court challenge to decide whether he has the right. Although that may sound like an arcane maneuver of little interest outside Washington, it would set off a political earthquake. \"The ramifications are enormous,\" says Rep. Don Edwards, a California Democrat who is a senior member of the House Judiciary Committee. \"It\\'s a real face-to-face arm wrestling challenge to Congress.\" White House aides know it\\'s a step that can\\'t be taken lightly -- and for that reason, the president may back down from launching a test case this year. Some senior advisers argue that with further fights over a capital-gains tax cut and a budget-reduction bill looming, Mr. Bush already has enough pending confrontations with Congress. They prefer to put off the line-item veto until at least next year. Still, Mr. Bush and some other aides are strongly drawn to the idea of trying out a line-item veto. The issue arose last week when Vice President Dan Quayle told an audience in Chicago that Mr. Bush was looking for a test case. White House Press Secretary Marlin Fitzwater confirmed that Mr. Bush was interested in the idea, but cautioned that there wasn\\'t a firm decision to try it. ', 'satellite': 'President Bush insists it would be a great tool for curbing the budget deficit and slicing the lard out of government programs. He wants it now. Not so fast, says Rep. Mickey Edwards of Oklahoma, a fellow Republican. \"I consider it one of the stupidest ideas of the 20th century,\" he says. It\\'s the line-item veto, a procedure that would allow the president to kill individual items in a big spending bill passed by Congress without vetoing the entire bill. Whatever one thinks of the idea, it\\'s far more than the budgetary gimmick it may seem at first glance. Rather, it\\'s a device that could send shock waves through the president\\'s entire relationship with Democrats and Republicans alike in Congress, fundamentally enhance the power of the presidency and transform the way the government does its business. ', 'relation': 'background'}\n",
      "{'doc_name': '0609', 'nucleus': 'White House spokesmen last week said Mr. Bush is considering simply declaring that the Constitution gives him the power, exercising a line-item veto and inviting a court challenge to decide whether he has the right. Although that may sound like an arcane maneuver of little interest outside Washington, it would set off a political earthquake. \"The ramifications are enormous,\" says Rep. Don Edwards, a California Democrat who is a senior member of the House Judiciary Committee. \"It\\'s a real face-to-face arm wrestling challenge to Congress.\" White House aides know it\\'s a step that can\\'t be taken lightly -- and for that reason, the president may back down from launching a test case this year. Some senior advisers argue that with further fights over a capital-gains tax cut and a budget-reduction bill looming, Mr. Bush already has enough pending confrontations with Congress. They prefer to put off the line-item veto until at least next year. Still, Mr. Bush and some other aides are strongly drawn to the idea of trying out a line-item veto. The issue arose last week when Vice President Dan Quayle told an audience in Chicago that Mr. Bush was looking for a test case. White House Press Secretary Marlin Fitzwater confirmed that Mr. Bush was interested in the idea, but cautioned that there wasn\\'t a firm decision to try it. ', 'satellite': \"President Bush badly wants a line-item veto and has long called for a law giving it to the president. Now the White House is declaring that he might not rely on Congress -- which hasn't shown any willingness to surrender such authority -- to pass the line-item veto law he seeks. \", 'relation': 'circumstance'}\n",
      "{'doc_name': '0609', 'nucleus': 'Although that may sound like an arcane maneuver of little interest outside Washington, it would set off a political earthquake. ', 'satellite': '\"The ramifications are enormous,\" says Rep. Don Edwards, a California Democrat who is a senior member of the House Judiciary Committee. \"It\\'s a real face-to-face arm wrestling challenge to Congress.\" ', 'relation': 'elaboration-additional'}\n",
      "{'doc_name': '0609', 'nucleus': 'it would set off a political earthquake. ', 'satellite': '\"The ramifications are enormous,\" says Rep. Don Edwards, a California Democrat who is a senior member of the House Judiciary Committee. ', 'relation': ''}\n",
      "{'doc_name': '0609', 'nucleus': 'it would set off a political earthquake. ', 'satellite': '\"The ramifications are enormous,\" says Rep. Don Edwards, a California Democrat who is a senior member of the House Judiciary Committee. ', 'relation': ''}\n",
      "{'doc_name': '0609', 'nucleus': 'White House spokesmen last week said Mr. Bush is considering simply declaring that the Constitution gives him the power, exercising a line-item veto and inviting a court challenge to decide whether he has the right. Although that may sound like an arcane maneuver of little interest outside Washington, it would set off a political earthquake. \"The ramifications are enormous,\" says Rep. Don Edwards, a California Democrat who is a senior member of the House Judiciary Committee. \"It\\'s a real face-to-face arm wrestling challenge to Congress.\" ', 'satellite': \"White House aides know it's a step that can't be taken lightly -- and for that reason, the president may back down from launching a test case this year. Some senior advisers argue that with further fights over a capital-gains tax cut and a budget-reduction bill looming, Mr. Bush already has enough pending confrontations with Congress. They prefer to put off the line-item veto until at least next year. Still, Mr. Bush and some other aides are strongly drawn to the idea of trying out a line-item veto. The issue arose last week when Vice President Dan Quayle told an audience in Chicago that Mr. Bush was looking for a test case. White House Press Secretary Marlin Fitzwater confirmed that Mr. Bush was interested in the idea, but cautioned that there wasn't a firm decision to try it. \", 'relation': 'elaboration-additional'}\n"
     ]
    },
    {
     "ename": "AssertionError",
     "evalue": "",
     "output_type": "error",
     "traceback": [
      "\u001b[0;31m---------------------------------------------------------------------------\u001b[0m",
      "\u001b[0;31mAssertionError\u001b[0m                            Traceback (most recent call last)",
      "Cell \u001b[0;32mIn[98], line 6\u001b[0m\n\u001b[1;32m      4\u001b[0m edu_list \u001b[38;5;241m=\u001b[39m get_edus_from_edu_files(edu_file)\n\u001b[1;32m      5\u001b[0m \u001b[38;5;28mprint\u001b[39m(\u001b[38;5;124m\"\u001b[39m\u001b[38;5;130;01m\\n\u001b[39;00m\u001b[38;5;124mGOT EDUS!\u001b[39m\u001b[38;5;130;01m\\n\u001b[39;00m\u001b[38;5;124m\"\u001b[39m)\n\u001b[0;32m----> 6\u001b[0m relation_df \u001b[38;5;241m=\u001b[39m \u001b[43mread_dis_file\u001b[49m\u001b[43m(\u001b[49m\u001b[38;5;124;43m\"\u001b[39;49m\u001b[38;5;124;43m0609\u001b[39;49m\u001b[38;5;124;43m\"\u001b[39;49m\u001b[43m,\u001b[49m\u001b[43m \u001b[49m\u001b[43mdis_file\u001b[49m\u001b[43m,\u001b[49m\u001b[43m \u001b[49m\u001b[43medu_list\u001b[49m\u001b[43m)\u001b[49m\n\u001b[1;32m      7\u001b[0m \u001b[38;5;28mprint\u001b[39m(\u001b[38;5;124m\"\u001b[39m\u001b[38;5;130;01m\\n\u001b[39;00m\u001b[38;5;124mGOT RELATIONS\u001b[39m\u001b[38;5;130;01m\\n\u001b[39;00m\u001b[38;5;124m\"\u001b[39m)       \n",
      "Cell \u001b[0;32mIn[97], line 35\u001b[0m, in \u001b[0;36mread_dis_file\u001b[0;34m(doc_name, dis_file, edu_list)\u001b[0m\n\u001b[1;32m     33\u001b[0m cur_relation \u001b[38;5;241m=\u001b[39m relation_map[num_indents]\n\u001b[1;32m     34\u001b[0m \u001b[38;5;28;01mif\u001b[39;00m \u001b[38;5;28mlen\u001b[39m(cur_relation[nuclearity]\u001b[38;5;241m.\u001b[39mstrip()):\n\u001b[0;32m---> 35\u001b[0m     \u001b[38;5;28;01massert\u001b[39;00m nuclearity \u001b[38;5;241m==\u001b[39m \u001b[38;5;124m'\u001b[39m\u001b[38;5;124mnucleus\u001b[39m\u001b[38;5;124m'\u001b[39m\n\u001b[1;32m     36\u001b[0m     nuclearity \u001b[38;5;241m=\u001b[39m \u001b[38;5;124m'\u001b[39m\u001b[38;5;124msatellite\u001b[39m\u001b[38;5;124m'\u001b[39m\n\u001b[1;32m     38\u001b[0m cur_relation[nuclearity] \u001b[38;5;241m=\u001b[39m text\n",
      "\u001b[0;31mAssertionError\u001b[0m: "
     ]
    }
   ],
   "source": [
    "# test run\n",
    "with open(os.path.join(data_path, '0609.out.edus'), 'r') as edu_file: \n",
    "    with open(os.path.join(data_path, '0609.out.dis'), 'r') as dis_file:\n",
    "        edu_list = get_edus_from_edu_files(edu_file)\n",
    "        print(\"\\nGOT EDUS!\\n\")\n",
    "        relation_df = read_dis_file(\"0609\", dis_file, edu_list)\n",
    "        print(\"\\nGOT RELATIONS\\n\")       "
   ]
  },
  {
   "cell_type": "code",
   "execution_count": 70,
   "metadata": {},
   "outputs": [
    {
     "name": "stdout",
     "output_type": "stream",
     "text": [
      "Finished processing 0600.out.dis : (2, 4)\n",
      "Finished processing 0603.out.dis : (6, 4)\n",
      "Finished processing 0604.out.dis : (154, 4)\n",
      "Finished processing 0605.out.dis : (6, 4)\n",
      "Finished processing 0606.out.dis : (56, 4)\n",
      "Finished processing 0608.out.dis : (6, 4)\n",
      "{'doc_name': '0609', 'nucleus': 'it would set off a political earthquake. ', 'satellite': '\"The ramifications are enormous,\" says Rep. Don Edwards, a California Democrat who is a senior member of the House Judiciary Committee. ', 'relation': ''}\n"
     ]
    },
    {
     "ename": "AssertionError",
     "evalue": "",
     "output_type": "error",
     "traceback": [
      "\u001b[0;31m---------------------------------------------------------------------------\u001b[0m",
      "\u001b[0;31mAssertionError\u001b[0m                            Traceback (most recent call last)",
      "Cell \u001b[0;32mIn[70], line 25\u001b[0m\n\u001b[1;32m     22\u001b[0m doc_name \u001b[38;5;241m=\u001b[39m dis_file[:\u001b[38;5;241m-\u001b[39m\u001b[38;5;241m8\u001b[39m]\n\u001b[1;32m     24\u001b[0m \u001b[38;5;28;01mwith\u001b[39;00m \u001b[38;5;28mopen\u001b[39m(dis_file_path, \u001b[38;5;124m'\u001b[39m\u001b[38;5;124mr\u001b[39m\u001b[38;5;124m'\u001b[39m) \u001b[38;5;28;01mas\u001b[39;00m dis_f:\n\u001b[0;32m---> 25\u001b[0m     relation_df \u001b[38;5;241m=\u001b[39m \u001b[43mread_dis_file\u001b[49m\u001b[43m(\u001b[49m\u001b[43mdoc_name\u001b[49m\u001b[43m,\u001b[49m\u001b[43m \u001b[49m\u001b[43mdis_f\u001b[49m\u001b[43m,\u001b[49m\u001b[43m \u001b[49m\u001b[43medu_list\u001b[49m\u001b[43m)\u001b[49m\n\u001b[1;32m     26\u001b[0m     total_relations \u001b[38;5;241m=\u001b[39m pd\u001b[38;5;241m.\u001b[39mconcat([total_relations, relation_df])\n\u001b[1;32m     28\u001b[0m file_cnt \u001b[38;5;241m+\u001b[39m\u001b[38;5;241m=\u001b[39m \u001b[38;5;241m1\u001b[39m\n",
      "Cell \u001b[0;32mIn[69], line 35\u001b[0m, in \u001b[0;36mread_dis_file\u001b[0;34m(doc_name, dis_file, edu_list)\u001b[0m\n\u001b[1;32m     33\u001b[0m cur_relation \u001b[38;5;241m=\u001b[39m relation_map[num_indents]\n\u001b[1;32m     34\u001b[0m \u001b[38;5;28;01mif\u001b[39;00m \u001b[38;5;28mlen\u001b[39m(cur_relation[nuclearity]\u001b[38;5;241m.\u001b[39mstrip()):\n\u001b[0;32m---> 35\u001b[0m     \u001b[38;5;28;01massert\u001b[39;00m nuclearity \u001b[38;5;241m==\u001b[39m \u001b[38;5;124m'\u001b[39m\u001b[38;5;124mnucleus\u001b[39m\u001b[38;5;124m'\u001b[39m\n\u001b[1;32m     36\u001b[0m     nuclearity \u001b[38;5;241m=\u001b[39m \u001b[38;5;124m'\u001b[39m\u001b[38;5;124msatellite\u001b[39m\u001b[38;5;124m'\u001b[39m\n\u001b[1;32m     38\u001b[0m cur_relation[nuclearity] \u001b[38;5;241m=\u001b[39m text\n",
      "\u001b[0;31mAssertionError\u001b[0m: "
     ]
    }
   ],
   "source": [
    "# actual run\n",
    "\n",
    "edu_files = [file_name for file_name in os.listdir(data_path) if file_name.endswith('.edus')]\n",
    "dis_files = [file_name for file_name in os.listdir(data_path) if file_name.endswith('.dis')]\n",
    "\n",
    "total_edus = []\n",
    "total_relations = pd.DataFrame()\n",
    "file_cnt = 0\n",
    "\n",
    "for edu_file in edu_files: # edu file to get EDUs\n",
    "    if not edu_file.endswith('.edus'):\n",
    "        print(\"Not .edu file at \", edu_file)\n",
    "        break\n",
    "\n",
    "    edu_file_path = os.path.join(data_path, edu_file)\n",
    "    with open(edu_file_path, 'r') as edu_f:\n",
    "        edu_list = get_edus_from_edu_files(edu_f)\n",
    "        total_edus.append(edu_list)\n",
    "\n",
    "    dis_file = edu_file.replace('.edus', '.dis')\n",
    "    dis_file_path = os.path.join(data_path, dis_file)\n",
    "    doc_name = dis_file[:-8]\n",
    "\n",
    "    with open(dis_file_path, 'r') as dis_f:\n",
    "        relation_df = read_dis_file(doc_name, dis_f, edu_list)\n",
    "        total_relations = pd.concat([total_relations, relation_df])\n",
    "        \n",
    "    file_cnt += 1\n",
    "    print(\"Finished processing\", dis_file, \":\", relation_df.shape)"
   ]
  },
  {
   "cell_type": "code",
   "execution_count": 102,
   "metadata": {},
   "outputs": [
    {
     "data": {
      "text/html": [
       "<div>\n",
       "<style scoped>\n",
       "    .dataframe tbody tr th:only-of-type {\n",
       "        vertical-align: middle;\n",
       "    }\n",
       "\n",
       "    .dataframe tbody tr th {\n",
       "        vertical-align: top;\n",
       "    }\n",
       "\n",
       "    .dataframe thead th {\n",
       "        text-align: right;\n",
       "    }\n",
       "</style>\n",
       "<table border=\"1\" class=\"dataframe\">\n",
       "  <thead>\n",
       "    <tr style=\"text-align: right;\">\n",
       "      <th></th>\n",
       "      <th>doc_name</th>\n",
       "      <th>nucleus</th>\n",
       "      <th>satellite</th>\n",
       "      <th>relation</th>\n",
       "    </tr>\n",
       "  </thead>\n",
       "  <tbody>\n",
       "    <tr>\n",
       "      <th>0</th>\n",
       "      <td>0608</td>\n",
       "      <td>THE YALE POLITICAL UNION doesn't pay an honorarium to speakers.</td>\n",
       "      <td>In Thursday's edition, it was incorrectly indicated that the union had paid a fee to former House Speaker Jim Wright.</td>\n",
       "      <td>Contrast</td>\n",
       "    </tr>\n",
       "    <tr>\n",
       "      <th>1</th>\n",
       "      <td>0608</td>\n",
       "      <td>In Thursday's edition, it was incorrectly indicated</td>\n",
       "      <td>that the union had paid a fee to former House Speaker Jim Wright.</td>\n",
       "      <td>elaboration-additional</td>\n",
       "    </tr>\n",
       "    <tr>\n",
       "      <th>2</th>\n",
       "      <td>0608</td>\n",
       "      <td>THE YALE POLITICAL UNION doesn't pay an honorarium to speakers. In Thursday's edition, it was incorrectly indicated that the union had paid a fee to former House Speaker Jim Wright.</td>\n",
       "      <td>(See: \"In Nation's Capital, Scandal Needn't Cut One's Speaking Fee --- Jim Wright, Michael Deaver and Host of Others Find Careers After Disgrace\" -- WSJ Oct. 26, 1989)</td>\n",
       "      <td>explanation-argumentative</td>\n",
       "    </tr>\n",
       "    <tr>\n",
       "      <th>3</th>\n",
       "      <td>0608</td>\n",
       "      <td>\"In Nation's Capital, Scandal Needn't Cut One's Speaking Fee --- Jim Wright, Michael Deaver and Host of Others Find Careers After Disgrace\" -- WSJ Oct. 26, 1989)</td>\n",
       "      <td>(See:</td>\n",
       "      <td>comment</td>\n",
       "    </tr>\n",
       "    <tr>\n",
       "      <th>4</th>\n",
       "      <td>0608</td>\n",
       "      <td>\"In Nation's Capital, Scandal Needn't Cut One's Speaking Fee</td>\n",
       "      <td>--- Jim Wright, Michael Deaver and Host of Others Find Careers After Disgrace\"</td>\n",
       "      <td>elaboration-additional</td>\n",
       "    </tr>\n",
       "    <tr>\n",
       "      <th>5</th>\n",
       "      <td>0608</td>\n",
       "      <td>\"In Nation's Capital, Scandal Needn't Cut One's Speaking Fee --- Jim Wright, Michael Deaver and Host of Others Find Careers After Disgrace\"</td>\n",
       "      <td>-- WSJ Oct. 26, 1989)</td>\n",
       "      <td>attribution</td>\n",
       "    </tr>\n",
       "  </tbody>\n",
       "</table>\n",
       "</div>"
      ],
      "text/plain": [
       "  doc_name  \\\n",
       "0     0608   \n",
       "1     0608   \n",
       "2     0608   \n",
       "3     0608   \n",
       "4     0608   \n",
       "5     0608   \n",
       "\n",
       "                                                                                                                                                                                  nucleus  \\\n",
       "0                                                                                                                        THE YALE POLITICAL UNION doesn't pay an honorarium to speakers.    \n",
       "1                                                                                                                                    In Thursday's edition, it was incorrectly indicated    \n",
       "2  THE YALE POLITICAL UNION doesn't pay an honorarium to speakers. In Thursday's edition, it was incorrectly indicated that the union had paid a fee to former House Speaker Jim Wright.    \n",
       "3                      \"In Nation's Capital, Scandal Needn't Cut One's Speaking Fee --- Jim Wright, Michael Deaver and Host of Others Find Careers After Disgrace\" -- WSJ Oct. 26, 1989)    \n",
       "4                                                                                                                           \"In Nation's Capital, Scandal Needn't Cut One's Speaking Fee    \n",
       "5                                            \"In Nation's Capital, Scandal Needn't Cut One's Speaking Fee --- Jim Wright, Michael Deaver and Host of Others Find Careers After Disgrace\"    \n",
       "\n",
       "                                                                                                                                                                  satellite  \\\n",
       "0                                                    In Thursday's edition, it was incorrectly indicated that the union had paid a fee to former House Speaker Jim Wright.    \n",
       "1                                                                                                        that the union had paid a fee to former House Speaker Jim Wright.    \n",
       "2  (See: \"In Nation's Capital, Scandal Needn't Cut One's Speaking Fee --- Jim Wright, Michael Deaver and Host of Others Find Careers After Disgrace\" -- WSJ Oct. 26, 1989)    \n",
       "3                                                                                                                                                                    (See:    \n",
       "4                                                                                           --- Jim Wright, Michael Deaver and Host of Others Find Careers After Disgrace\"    \n",
       "5                                                                                                                                                    -- WSJ Oct. 26, 1989)    \n",
       "\n",
       "                    relation  \n",
       "0                   Contrast  \n",
       "1     elaboration-additional  \n",
       "2  explanation-argumentative  \n",
       "3                    comment  \n",
       "4     elaboration-additional  \n",
       "5                attribution  "
      ]
     },
     "execution_count": 102,
     "metadata": {},
     "output_type": "execute_result"
    }
   ],
   "source": [
    "total_relations[total_relations['doc_name'] == '0608']"
   ]
  },
  {
   "cell_type": "code",
   "execution_count": null,
   "metadata": {},
   "outputs": [],
   "source": []
  }
 ],
 "metadata": {
  "kernelspec": {
   "display_name": ".venv",
   "language": "python",
   "name": "python3"
  },
  "language_info": {
   "codemirror_mode": {
    "name": "ipython",
    "version": 3
   },
   "file_extension": ".py",
   "mimetype": "text/x-python",
   "name": "python",
   "nbconvert_exporter": "python",
   "pygments_lexer": "ipython3",
   "version": "3.11.9"
  }
 },
 "nbformat": 4,
 "nbformat_minor": 2
}
