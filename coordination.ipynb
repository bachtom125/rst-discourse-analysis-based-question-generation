{
 "cells": [
  {
   "cell_type": "markdown",
   "metadata": {},
   "source": [
    "# Utils"
   ]
  },
  {
   "cell_type": "code",
   "execution_count": 2,
   "metadata": {},
   "outputs": [],
   "source": [
    "import pandas as pd\n",
    "import numpy as np\n",
    "import matplotlib.pyplot as plt\n",
    "pd.set_option('display.max_colwidth', None)"
   ]
  },
  {
   "cell_type": "code",
   "execution_count": 3,
   "metadata": {},
   "outputs": [],
   "source": [
    "import pickle\n",
    "\n",
    "def get_tree_dict(pickle_path):\n",
    "    try: \n",
    "        with open(pickle_path, 'rb') as file:\n",
    "            tree = pickle.load(file)\n",
    "            return tree\n",
    "    except:\n",
    "        print(\"Can't open file!\")"
   ]
  },
  {
   "cell_type": "code",
   "execution_count": 4,
   "metadata": {},
   "outputs": [],
   "source": [
    "def get_root_id(tree_dict):\n",
    "    for key, item in tree_dict.items():\n",
    "        if item['pnode_id'] == -1:\n",
    "            root_id = key\n",
    "    return root_id"
   ]
  },
  {
   "cell_type": "code",
   "execution_count": 5,
   "metadata": {},
   "outputs": [],
   "source": [
    "import treelib\n",
    "\n",
    "def visualize_rst_tree(tree_dict, root_id, edu_list, new_relation=False, get_edu_text=False):\n",
    "    rst_tree = treelib.Tree()\n",
    "    relation_key = 'relation' if not new_relation else 'new_relation'\n",
    "    node_list = [root_id]\n",
    "\n",
    "    while node_list:\n",
    "        id = node_list.pop()\n",
    "        node = tree_dict[id]\n",
    "        if (tree_dict.get(node['lnode_id']) is None) and (tree_dict.get(node['rnode_id']) is None):\n",
    "            node_text = \" EDU \" + str(node['edu_span'])\n",
    "            if get_edu_text:\n",
    "                node_text += \": \" + edu_list[node['edu_span'][0] - 1]\n",
    "            rst_tree.create_node(node_text, id, parent=node['pnode_id'])\n",
    "        else:\n",
    "            node_text = node['node_form']\n",
    "\n",
    "            if node['node_form'] == 'NN':\n",
    "                node_text += \"-\" + tree_dict[node['rnode_id']][relation_key]\n",
    "            elif node['node_form'] == 'NS':\n",
    "                node_text += \"-\" + tree_dict[node['rnode_id']][relation_key]\n",
    "            elif node['node_form'] == 'SN':\n",
    "                node_text += \"-\" + tree_dict[node['lnode_id']][relation_key]\n",
    "            else:\n",
    "                raise ValueError(\"Unrecognized N-S form\")\n",
    "            \n",
    "            if rst_tree.get_node(node['pnode_id']) is not None:\n",
    "                rst_tree.create_node(node_text, id, parent=node['pnode_id'])\n",
    "            else:\n",
    "                rst_tree.create_node(node_text, id)\n",
    "                print(\"\\nNo parent at node: \", node_text, '\\n')\n",
    "\n",
    "        if tree_dict.get(node['rnode_id']) is not None:\n",
    "            node_list.append(node['rnode_id'])\n",
    "        if tree_dict.get(node['lnode_id']) is not None:\n",
    "            node_list.append(node['lnode_id'])\n",
    "\n",
    "    return rst_tree"
   ]
  },
  {
   "cell_type": "code",
   "execution_count": 6,
   "metadata": {},
   "outputs": [],
   "source": [
    "def get_edus_from_file(edu_path):\n",
    "    \"\"\"Get EDUs from .edu file and return a list of EDUs\n",
    "    \"\"\"\n",
    "    edus = []\n",
    "    try: \n",
    "        with open(edu_path, 'r') as file:\n",
    "            for line in file:\n",
    "                if not line.strip():\n",
    "                    continue\n",
    "                edus.append(line.rstrip('\\n'))\n",
    "        return edus    \n",
    "    except FileNotFoundError:\n",
    "        print(\"Error: File not found!\")\n"
   ]
  },
  {
   "cell_type": "code",
   "execution_count": 74,
   "metadata": {},
   "outputs": [],
   "source": [
    "def extract_segments(edu_list, tree_dict, root_id): # use this when unpickling\n",
    "    \"\"\"Extract text segments from (1 or several EDUs) for relation labeller to read from (and make predictions)\n",
    "\n",
    "    Args:\n",
    "        edu_list: list containing EDUs (list)\n",
    "        tree_dict: dict containing tree (dict)\n",
    "\n",
    "    Return:\n",
    "        Dict containing text of nucleus, satellite, and original relation from StageDP (dict)\n",
    "    \"\"\"\n",
    "\n",
    "    segments = {'pnode_id': [], 'nucleus': [], 'satellite': [], 'original_relation': []} # if multi-nuclear, satellite represent second nucleus\n",
    "    node_list = [root_id]\n",
    "    while node_list:\n",
    "        id = node_list.pop()\n",
    "        node = tree_dict[id]\n",
    "\n",
    "        if (tree_dict.get(node['lnode_id']) is None) and (tree_dict.get(node['rnode_id']) is None): # node is EDU\n",
    "            continue\n",
    "    \n",
    "        left_edu_span = tree_dict[node['lnode_id']]['edu_span'] # tuple: (from, to)\n",
    "        right_edu_span = tree_dict[node['rnode_id']]['edu_span'] # tuple: (from, to)\n",
    "        \n",
    "        # get corresponding text segments\n",
    "        left_segment = \"\"\n",
    "        for edu in range(left_edu_span[0], left_edu_span[1] + 1):\n",
    "            left_segment += edu_list[edu - 1].strip() + ' '\n",
    "\n",
    "        right_segment = \"\"\n",
    "        for edu in range(right_edu_span[0], right_edu_span[1] + 1):\n",
    "            right_segment += edu_list[edu - 1].strip() + ' '\n",
    "\n",
    "        if node['node_form'] == 'NN':\n",
    "            nucleus = left_segment\n",
    "            satellite = right_segment\n",
    "            relation = tree_dict[node['rnode_id']]['relation']\n",
    "        elif node['node_form'] == 'NS':\n",
    "            nucleus = left_segment\n",
    "            satellite = right_segment\n",
    "            relation = tree_dict[node['rnode_id']]['relation']\n",
    "        elif node['node_form'] == 'SN':\n",
    "            nucleus = right_segment\n",
    "            satellite = left_segment\n",
    "            relation = tree_dict[node['lnode_id']]['relation']\n",
    "\n",
    "        segments['nucleus'].append(nucleus)\n",
    "        segments['satellite'].append(satellite)\n",
    "        segments['original_relation'].append(relation)\n",
    "        segments['pnode_id'].append(id)  \n",
    "        \n",
    "        if tree_dict.get(node['lnode_id']) is not None:\n",
    "            node_list.append(node['lnode_id'])\n",
    "        if tree_dict.get(node['rnode_id']) is not None:\n",
    "            node_list.append(node['rnode_id'])\n",
    "    \n",
    "    return segments"
   ]
  },
  {
   "cell_type": "code",
   "execution_count": 75,
   "metadata": {},
   "outputs": [],
   "source": [
    "import copy\n",
    "def add_new_relations_to_tree_dict(tree_dict, new_relations):\n",
    "    \"\"\"Extract text segments from (1 or several EDUs) for relation labeller to read from (and make predictions)\n",
    "\n",
    "    Args:\n",
    "        tree_dict: dict containing tree (dict)\n",
    "        new_relations: df containing parent id and new relations (and other components no considered in this method)\n",
    "\n",
    "    Return:\n",
    "        New modified tree_dict according to new relations identified\n",
    "    \"\"\"\n",
    "    tree_dict_c = copy.deepcopy(tree_dict)\n",
    "    for _, r in new_relations.iterrows():\n",
    "        p_id = r['pnode_id']\n",
    "        rel = r['new_relation']\n",
    "        if tree_dict_c[p_id]['node_form'] == 'NN':\n",
    "            tree_dict_c[tree_dict_c[p_id]['rnode_id']]['new_relation'] = rel\n",
    "            tree_dict_c[tree_dict_c[p_id]['lnode_id']]['new_relation'] = rel\n",
    "        elif tree_dict_c[p_id]['node_form'] == 'NS':\n",
    "            tree_dict_c[tree_dict_c[p_id]['rnode_id']]['new_relation'] = rel\n",
    "        elif tree_dict_c[p_id]['node_form'] == 'SN':\n",
    "            tree_dict_c[tree_dict_c[p_id]['lnode_id']]['new_relation'] = rel\n",
    "        \n",
    "    return tree_dict_c "
   ]
  },
  {
   "cell_type": "code",
   "execution_count": 9,
   "metadata": {},
   "outputs": [],
   "source": [
    "def write_to_text_file(text_path, text):\n",
    "    \"\"\"Write string in text to text_path. The text is to be analyzed using RST and generated questions from. \n",
    "\n",
    "    Args:\n",
    "        text_path (str): path of file to write to\n",
    "        text (str): text to write to (informational text to extract questions from)\n",
    "    \"\"\"\n",
    "\n",
    "    try:\n",
    "        with open(text_path, 'w') as f:\n",
    "            f.write(text)\n",
    "    except:\n",
    "        print(\"Can't open text file!\\n\")"
   ]
  },
  {
   "cell_type": "code",
   "execution_count": 12,
   "metadata": {},
   "outputs": [],
   "source": [
    "# run this cell to start processing text\n",
    "\n",
    "original_text = \"\"\"A transformer model is a type of deep learning model that was introduced in 2017. These models have quickly become fundamental in natural language processing (NLP), and have been applied to a wide range of tasks in machine learning and artificial intelligence.\n",
    "\n",
    "The model was first described in a 2017 paper called \"Attention is All You Need\" by Ashish Vaswani, a team at Google Brain, and a group from the University of Toronto. The release of this paper is considered a watershed moment in the field, given how widespread transformers are now used in applications such as training LLMs.\n",
    "\n",
    "These models can translate text and speech in near-real-time. For example, there are apps that now allow tourists to communicate with locals on the street in their primary language. They help researchers better understand DNA and speed up drug design. They can hep detect anomalies and prevent fraud in finance and security. Vision transformers are similarly used for computer vision tasks.\n",
    "\n",
    "OpenAI’s popular ChatGPT text generation tool makes use of transformer architectures for prediction, summarization, question answering and more, because they allow the model to focus on the most relevant segments of input text. The “GPT” seen in the tool’s various versions (e.g. GPT-2, GPT-3) stands for “generative pre-trained transformer.” Text-based generative AI tools such as ChatGPT benefit from transformer models because they can more readily predict the next word in a sequence of text, based on a large, complex data sets.\n",
    "\n",
    "The BERT model, or Bidirectional Encoder Representations from Transformers, is based on the transformer architecture. As of 2019, BERT was used for nearly all English-language Google search results, and has been rolled out to over 70 other languages.\n",
    "\n",
    "The key innovation of the transformer model is not having to rely on recurrent neural networks (RNNs) or convolutional neural networks (CNNs), neural network approaches which have significant drawbacks. Transformers process input sequences in parallel, making it highly efficient for training and inference — because you can’t just speed things up by adding more GPUs. Transformer models need less training time than previous recurrent neural network architectures such as long short-term memory (LSTM).\n",
    "\n",
    "RNNs and LSTM date back to the 1920s and 1990s, respectively. These techniques compute each component of an input in sequence (e.g. word by word), so computation can take a long time. What’s more, both approaches run into limitations in retaining context when the “distance” between pieces of information in an input is long.\n",
    "\n",
    "There are two primary innovations that transformer models bring to the table. Consider these two innovations within the context of predicting text.\n",
    "\n",
    "Positional encoding: Instead of looking at each word in the order that it appears in a sentence, a unique number is assigned to each word. This provides information about the position of each token (parts of the input such as words or subword pieces in NLP) in the sequence, allowing the model to consider the sequence's sequential information.\n",
    "\n",
    "Self-attention: Attention is a mechanism that calculates weights for every word in a sentence as they relate to every other word in the sentence, so the model can predict words which are likely to be used in sequence. This understanding is learned over time as a model is trained on lots of data. The self-attention mechanism allows each word to attend to every other word in the sequence in parallel, weighing their importance for the current token. In this way, it can be said that machine learning models can “learn” the rules of grammar, based on statistical probabilities of how words are typically used in language.\n",
    "\n",
    "Transformer models work by processing input data, which can be sequences of tokens or other structured data, through a series of layers that contain self-attention mechanisms and feedforward neural networks. The core idea behind how transformer models work can be broken down into several key steps.\n",
    "\n",
    "Let’s imagine that you need to convert an English sentence into French. These are the steps you’d need to take to accomplish this task with a transformer model.\n",
    "\n",
    "Input embeddings: The input sentence is first transformed into numerical representations called embeddings. These capture the semantic meaning of the tokens in the input sequence. For sequences of words, these embeddings can be learned during training or obtained from pre-trained word embeddings.\n",
    "\n",
    "Positional encoding: Positional encoding is typically introduced as a set of additional values or vectors that are added to the token embeddings before feeding them into the transformer model. These positional encodings have specific patterns that encode the position information.\n",
    "\n",
    "Multi-head attention: Self-attention operates in multiple \"attention heads\" to capture different types of relationships between tokens. Softmax functions, a type of activation function, are used to calculate attention weights in the self-attention mechanism.\n",
    "\n",
    "Layer normalization and residual connections: The model uses layer normalization and residual connections to stabilize and speed up training.\n",
    "\n",
    "Feedforward neural networks: The output of the self-attention layer is passed through feedforward layers. These networks apply non-linear transformations to the token representations, allowing the model to capture complex patterns and relationships in the data.\n",
    "\n",
    "Stacked layers: Transformers typically consist of multiple layers stacked on top of each other. Each layer processes the output of the previous layer, gradually refining the representations. Stacking multiple layers enables the model to capture hierarchical and abstract features in the data.\n",
    "\n",
    "Output layer: In sequence-to-sequence tasks like neural machine translation, a separate decoder module can be added on top of the encoder to generate the output sequence.\n",
    "\n",
    "Training: Transformer models are trained using supervised learning, where they learn to minimize a loss function that quantifies the difference between the model's predictions and the ground truth for the given task. Training typically involves optimization techniques like Adam or stochastic gradient descent (SGD).\n",
    "\n",
    "Inference: After training, the model can be used for inference on new data. During inference, the input sequence is passed through the pre-trained model, and the model generates predictions or representations for the given task.\n",
    "\n",
    "\"\"\" \n",
    "original_text = original_text.replace(u\"\\u2018\", \"'\").replace(u\"\\u2019\", \"'\").replace(u\"\\u2013\", \"-\").replace(u\"\\u2014\", \"-\").replace(u\"\\u201C\", \"-\").replace(u\"\\u201D\", \"-\") \n",
    "text_path = \"../parsers-from-github/StageDP_2/data/my_sample/sample\"\n",
    "\n",
    "write_to_text_file(text_path, original_text)"
   ]
  },
  {
   "cell_type": "code",
   "execution_count": 78,
   "metadata": {},
   "outputs": [
    {
     "data": {
      "text/plain": [
       "984"
      ]
     },
     "execution_count": 78,
     "metadata": {},
     "output_type": "execute_result"
    }
   ],
   "source": [
    "len(original_text.split())"
   ]
  },
  {
   "cell_type": "code",
   "execution_count": 76,
   "metadata": {},
   "outputs": [
    {
     "name": "stdout",
     "output_type": "stream",
     "text": [
      "\n",
      "No parent at node:  NS-Elaboration \n",
      "\n"
     ]
    },
    {
     "data": {
      "text/plain": [
       "(130, 4)"
      ]
     },
     "execution_count": 76,
     "metadata": {},
     "output_type": "execute_result"
    }
   ],
   "source": [
    "# run this cell to process new data, adjust paths if necessary\n",
    "\n",
    "pickle_path = \"../parsers-from-github/StageDP_2/data/my_sample/sample.pickle\"\n",
    "edu_path = \"../parsers-from-github/StageDP_2/data/my_sample/sample.edus\"\n",
    "\n",
    "tree_dict = get_tree_dict(pickle_path)\n",
    "root_id = get_root_id(tree_dict)\n",
    "edus = get_edus_from_file(edu_path)\n",
    "rst_tree = visualize_rst_tree(tree_dict, root_id, edus, get_edu_text=True)\n",
    "\n",
    "# print(rst_tree.show(stdout=False, sorting=False)) # uncomment to visualize RST tree\n",
    "# print(edus)\n",
    "\n",
    "segments = extract_segments(edus, tree_dict, root_id)\n",
    "df = pd.DataFrame(segments)\n",
    "df.shape"
   ]
  },
  {
   "cell_type": "code",
   "execution_count": 77,
   "metadata": {},
   "outputs": [],
   "source": [
    "# assembly the whole piece of text from EDUs, to ensure allignment\n",
    "\n",
    "original_text = \"\"\n",
    "for edu in edus:\n",
    "    original_text += edu + ' '"
   ]
  },
  {
   "cell_type": "code",
   "execution_count": 15,
   "metadata": {},
   "outputs": [],
   "source": [
    "# map \"Comparison\" to \"Join\" since GUM does not contain \"Comparison\"\n",
    "for row in df[df['original_relation'] == 'Comparison'].iterrows():\n",
    "    df.at[row[0], 'original_relation'] = \"Joint\""
   ]
  },
  {
   "cell_type": "markdown",
   "metadata": {},
   "source": [
    "# Relation Labeller"
   ]
  },
  {
   "cell_type": "code",
   "execution_count": 79,
   "metadata": {},
   "outputs": [],
   "source": [
    "# run this cell only once\n",
    "import torch\n",
    "from transformers import AutoTokenizer, AutoModelForSequenceClassification\n",
    "\n",
    "model_path = \"output_train_all_with_additional_reverse_dataset1/checkpoint-45000\"\n",
    "if 'tokenizer' not in locals(): # prevent accidental re-run of cell\n",
    "    tokenizer = AutoTokenizer.from_pretrained(model_path)\n",
    "\n",
    "if 'model' not in locals(): # prevent accidental re-run of cell\n",
    "    model = AutoModelForSequenceClassification.from_pretrained(model_path).to(torch.device('cuda'))"
   ]
  },
  {
   "cell_type": "markdown",
   "metadata": {},
   "source": [
    "Preprocess Data"
   ]
  },
  {
   "cell_type": "code",
   "execution_count": 80,
   "metadata": {},
   "outputs": [],
   "source": [
    "# get labels\n",
    "from sklearn.preprocessing import LabelEncoder\n",
    "label_text = ['Attribution', 'Background', 'Cause', 'Condition', 'Contrast',\n",
    "       'Elaboration', 'Enablement', 'Evaluation', 'Explanation', 'Joint',\n",
    "       'Manner-Means', 'Same-Unit', 'Summary', 'Temporal',\n",
    "       'Textual-Organization', 'Topic-Change', 'Topic-Comment']\n",
    "\n",
    "label_shorthand = ['Attr', 'Bckg', 'Cause', 'Cond', 'Contst',\n",
    "       'Elab', 'Enab', 'Eval', 'Expl', 'Joint',\n",
    "       'Man-Mean', 'Same-Un', 'Sum', 'Temp',\n",
    "       'Text-Org', 'Top-Chang', 'Top-Com']\n",
    "\n",
    "le = LabelEncoder()\n",
    "le.fit(label_text)\n",
    "labels = le.transform(df.original_relation)"
   ]
  },
  {
   "cell_type": "code",
   "execution_count": 81,
   "metadata": {},
   "outputs": [],
   "source": [
    "# adding <sep> token between nucleus and satellite\n",
    "separation_token = \"[SEP]\"\n",
    "input_sentences = df.apply(lambda x: ''.join([x['nucleus'], separation_token, x['satellite']]), axis=1)"
   ]
  },
  {
   "cell_type": "code",
   "execution_count": 82,
   "metadata": {},
   "outputs": [],
   "source": [
    "# merge input sentence and labels onto one list (to form dataset object later)\n",
    "data = []\n",
    "for text in input_sentences:\n",
    "    datapoint = {'text': text}\n",
    "    data.append(datapoint)\n",
    "data = np.array(data)"
   ]
  },
  {
   "cell_type": "code",
   "execution_count": 83,
   "metadata": {},
   "outputs": [],
   "source": [
    "# tokenize\n",
    "import datasets\n",
    "\n",
    "def tokenize_function(dataset):\n",
    "    return tokenizer(dataset[\"text\"], padding=True, truncation=True, return_tensors='pt')"
   ]
  },
  {
   "cell_type": "markdown",
   "metadata": {},
   "source": [
    "# Inference"
   ]
  },
  {
   "cell_type": "markdown",
   "metadata": {},
   "source": [
    "Batch Inference"
   ]
  },
  {
   "cell_type": "code",
   "execution_count": 84,
   "metadata": {},
   "outputs": [],
   "source": [
    "device = 'cuda'\n",
    "model.to(device)\n",
    "model.eval()\n",
    "\n",
    "batch_size = 32\n",
    "dataset = datasets.Dataset.from_list(list(data))\n",
    "dataloader = torch.utils.data.DataLoader(dataset, batch_size=batch_size, shuffle=False)\n",
    "\n",
    "pred_labels = []\n",
    "\n",
    "with torch.no_grad():\n",
    "    for batch in dataloader:\n",
    "        tokens = tokenizer(batch['text'], padding=True, truncation=True, return_tensors='pt').to(device)\n",
    "        output = model(**tokens)\n",
    "        logits = torch.Tensor.cpu(output.logits)\n",
    "        pred_labels.extend(np.argmax(logits, axis=-1).tolist())"
   ]
  },
  {
   "cell_type": "code",
   "execution_count": 85,
   "metadata": {},
   "outputs": [],
   "source": [
    "preds = le.inverse_transform(pred_labels)\n",
    "df['new_relation'] = preds"
   ]
  },
  {
   "cell_type": "code",
   "execution_count": 86,
   "metadata": {},
   "outputs": [
    {
     "name": "stdout",
     "output_type": "stream",
     "text": [
      "61 changed relations out of 130 (0.47)\n"
     ]
    },
    {
     "data": {
      "text/html": [
       "<div>\n",
       "<style scoped>\n",
       "    .dataframe tbody tr th:only-of-type {\n",
       "        vertical-align: middle;\n",
       "    }\n",
       "\n",
       "    .dataframe tbody tr th {\n",
       "        vertical-align: top;\n",
       "    }\n",
       "\n",
       "    .dataframe thead th {\n",
       "        text-align: right;\n",
       "    }\n",
       "</style>\n",
       "<table border=\"1\" class=\"dataframe\">\n",
       "  <thead>\n",
       "    <tr style=\"text-align: right;\">\n",
       "      <th></th>\n",
       "      <th>pnode_id</th>\n",
       "      <th>nucleus</th>\n",
       "      <th>satellite</th>\n",
       "      <th>original_relation</th>\n",
       "      <th>new_relation</th>\n",
       "    </tr>\n",
       "  </thead>\n",
       "  <tbody>\n",
       "    <tr>\n",
       "      <th>0</th>\n",
       "      <td>140334317846256</td>\n",
       "      <td>A transformer model is a type of deep learning model that was introduced in 2017. These models have quickly become fundamental in natural language processing (NLP), and have been applied to a wide range of tasks in machine learning and artificial intelligence. The model was first described in a 2017 paper called \"Attention is All You Need\" by Ashish Vaswani, a team at Google Brain, and a group from the University of Toronto. The release of this paper is considered a watershed moment in the field, given how widespread transformers are now used in applications such as training LLMs. These models can translate text and speech in near-real-time. For example, there are apps that now allow tourists to communicate with locals on the street in their primary language. They help researchers better understand DNA and speed up drug design. They can hep detect anomalies and prevent fraud in finance and security. Vision transformers are similarly used for computer vision tasks.</td>\n",
       "      <td>OpenAI's popular ChatGPT text generation tool makes use of transformer architectures for prediction, summarization, question answering and more, because they allow the model to focus on the most relevant segments of input text. The - GPT- seen in the tool's various versions (e.g. GPT-2, GPT-3) stands for - generative pre-trained transformer.- Text-based generative AI tools such as ChatGPT benefit from transformer models because they can more readily predict the next word in a sequence of text, based on a large, complex data sets. The BERT model, or Bidirectional Encoder Representations from Transformers, is based on the transformer architecture. As of 2019, BERT was used for nearly all English-language Google search results, and has been rolled out to over 70 other languages. The key innovation of the transformer model is not having to rely on recurrent neural networks (RNNs) or convolutional neural networks (CNNs), neural network approaches which have significant drawbacks. Transformers process input sequences in parallel, making it highly efficient for training and inference - because you can't just speed things up by adding more GPUs. Transformer models need less training time than previous recurrent neural network architectures such as long short-term memory (LSTM). RNNs and LSTM date back to the 1920s and 1990s, respectively. These techniques compute each component of an input in sequence (e.g. word by word), so computation can take a long time. What's more, both approaches run into limitations in retaining context when the -distance- between pieces of information in an input is long. There are two primary innovations that transformer models bring to the table. Consider these two innovations within the context of predicting text. Positional encoding: Instead of looking at each word in the order that it appears in a sentence, a unique number is assigned to each word. This provides information about the position of each token (parts of the input such as words or subword pieces in NLP) in the sequence, allowing the model to consider the sequence's sequential information. Self-attention: Attention is a mechanism that calculates weights for every word in a sentence as they relate to every other word in the sentence, so the model can predict words which are likely to be used in sequence. This understanding is learned over time as a model is trained on lots of data. The self-attention mechanism allows each word to attend to every other word in the sequence in parallel, weighing their importance for the current token. In this way, it can be said that machine learning models can -learn- the rules of grammar, based on statistical probabilities of how words are typically used in language. Transformer models work by processing input data, which can be sequences of tokens or other structured data, through a series of layers that contain self-attention mechanisms and feedforward neural networks. The core idea behind how transformer models work can be broken down into several key steps. Let's imagine that you need to convert an English sentence into French. These are the steps you'd need to take to accomplish this task with a transformer model. Input embeddings: The input sentence is first transformed into numerical representations called embeddings. These capture the semantic meaning of the tokens in the input sequence. For sequences of words, these embeddings can be learned during training or obtained from pre-trained word embeddings. Positional encoding: Positional encoding is typically introduced as a set of additional values or vectors that are added to the token embeddings before feeding them into the transformer model. These positional encodings have specific patterns that encode the position information. Multi-head attention: Self-attention operates in multiple \"attention heads\" to capture different types of relationships between tokens. Softmax functions, a type of activation function, are used to calculate attention weights in the self-attention mechanism. Layer normalization and residual connections: The model uses layer normalization and residual connections to stabilize and speed up training. Feedforward neural networks: The output of the self-attention layer is passed through feedforward layers. These networks apply non-linear transformations to the token representations, allowing the model to capture complex patterns and relationships in the data. Stacked layers: Transformers typically consist of multiple layers stacked on top of each other. Each layer processes the output of the previous layer, gradually refining the representations. Stacking multiple layers enables the model to capture hierarchical and abstract features in the data. Output layer: In sequence-to-sequence tasks like neural machine translation, a separate decoder module can be added on top of the encoder to generate the output sequence. Training: Transformer models are trained using supervised learning, where they learn to minimize a loss function that quantifies the difference between the model's predictions and the ground truth for the given task. Training typically involves optimization techniques like Adam or stochastic gradient descent (SGD). Inference: After training, the model can be used for inference on new data. During inference, the input sequence is passed through the pre-trained model, and the model generates predictions or representations for the given task.</td>\n",
       "      <td>Elaboration</td>\n",
       "      <td>Background</td>\n",
       "    </tr>\n",
       "    <tr>\n",
       "      <th>1</th>\n",
       "      <td>140334317846144</td>\n",
       "      <td>OpenAI's popular ChatGPT text generation tool makes use of transformer architectures for prediction, summarization, question answering and more, because they allow the model to focus on the most relevant segments of input text. The - GPT- seen in the tool's various versions (e.g. GPT-2, GPT-3) stands for - generative pre-trained transformer.- Text-based generative AI tools such as ChatGPT benefit from transformer models because they can more readily predict the next word in a sequence of text, based on a large, complex data sets. The BERT model, or Bidirectional Encoder Representations from Transformers, is based on the transformer architecture. As of 2019, BERT was used for nearly all English-language Google search results, and has been rolled out to over 70 other languages. The key innovation of the transformer model is not having to rely on recurrent neural networks (RNNs) or convolutional neural networks (CNNs), neural network approaches which have significant drawbacks. Transformers process input sequences in parallel, making it highly efficient for training and inference - because you can't just speed things up by adding more GPUs. Transformer models need less training time than previous recurrent neural network architectures such as long short-term memory (LSTM). RNNs and LSTM date back to the 1920s and 1990s, respectively. These techniques compute each component of an input in sequence (e.g. word by word), so computation can take a long time.</td>\n",
       "      <td>What's more, both approaches run into limitations in retaining context when the -distance- between pieces of information in an input is long. There are two primary innovations that transformer models bring to the table. Consider these two innovations within the context of predicting text. Positional encoding: Instead of looking at each word in the order that it appears in a sentence, a unique number is assigned to each word. This provides information about the position of each token (parts of the input such as words or subword pieces in NLP) in the sequence, allowing the model to consider the sequence's sequential information. Self-attention: Attention is a mechanism that calculates weights for every word in a sentence as they relate to every other word in the sentence, so the model can predict words which are likely to be used in sequence. This understanding is learned over time as a model is trained on lots of data. The self-attention mechanism allows each word to attend to every other word in the sequence in parallel, weighing their importance for the current token. In this way, it can be said that machine learning models can -learn- the rules of grammar, based on statistical probabilities of how words are typically used in language. Transformer models work by processing input data, which can be sequences of tokens or other structured data, through a series of layers that contain self-attention mechanisms and feedforward neural networks. The core idea behind how transformer models work can be broken down into several key steps. Let's imagine that you need to convert an English sentence into French. These are the steps you'd need to take to accomplish this task with a transformer model. Input embeddings: The input sentence is first transformed into numerical representations called embeddings. These capture the semantic meaning of the tokens in the input sequence. For sequences of words, these embeddings can be learned during training or obtained from pre-trained word embeddings. Positional encoding: Positional encoding is typically introduced as a set of additional values or vectors that are added to the token embeddings before feeding them into the transformer model. These positional encodings have specific patterns that encode the position information. Multi-head attention: Self-attention operates in multiple \"attention heads\" to capture different types of relationships between tokens. Softmax functions, a type of activation function, are used to calculate attention weights in the self-attention mechanism. Layer normalization and residual connections: The model uses layer normalization and residual connections to stabilize and speed up training. Feedforward neural networks: The output of the self-attention layer is passed through feedforward layers. These networks apply non-linear transformations to the token representations, allowing the model to capture complex patterns and relationships in the data. Stacked layers: Transformers typically consist of multiple layers stacked on top of each other. Each layer processes the output of the previous layer, gradually refining the representations. Stacking multiple layers enables the model to capture hierarchical and abstract features in the data. Output layer: In sequence-to-sequence tasks like neural machine translation, a separate decoder module can be added on top of the encoder to generate the output sequence. Training: Transformer models are trained using supervised learning, where they learn to minimize a loss function that quantifies the difference between the model's predictions and the ground truth for the given task. Training typically involves optimization techniques like Adam or stochastic gradient descent (SGD). Inference: After training, the model can be used for inference on new data. During inference, the input sequence is passed through the pre-trained model, and the model generates predictions or representations for the given task.</td>\n",
       "      <td>Elaboration</td>\n",
       "      <td>Background</td>\n",
       "    </tr>\n",
       "    <tr>\n",
       "      <th>2</th>\n",
       "      <td>140334317846312</td>\n",
       "      <td>What's more, both approaches run into limitations in retaining context when the -distance- between pieces of information in an input is long.</td>\n",
       "      <td>There are two primary innovations that transformer models bring to the table. Consider these two innovations within the context of predicting text. Positional encoding: Instead of looking at each word in the order that it appears in a sentence, a unique number is assigned to each word. This provides information about the position of each token (parts of the input such as words or subword pieces in NLP) in the sequence, allowing the model to consider the sequence's sequential information. Self-attention: Attention is a mechanism that calculates weights for every word in a sentence as they relate to every other word in the sentence, so the model can predict words which are likely to be used in sequence. This understanding is learned over time as a model is trained on lots of data. The self-attention mechanism allows each word to attend to every other word in the sequence in parallel, weighing their importance for the current token. In this way, it can be said that machine learning models can -learn- the rules of grammar, based on statistical probabilities of how words are typically used in language. Transformer models work by processing input data, which can be sequences of tokens or other structured data, through a series of layers that contain self-attention mechanisms and feedforward neural networks. The core idea behind how transformer models work can be broken down into several key steps. Let's imagine that you need to convert an English sentence into French. These are the steps you'd need to take to accomplish this task with a transformer model. Input embeddings: The input sentence is first transformed into numerical representations called embeddings. These capture the semantic meaning of the tokens in the input sequence. For sequences of words, these embeddings can be learned during training or obtained from pre-trained word embeddings. Positional encoding: Positional encoding is typically introduced as a set of additional values or vectors that are added to the token embeddings before feeding them into the transformer model. These positional encodings have specific patterns that encode the position information. Multi-head attention: Self-attention operates in multiple \"attention heads\" to capture different types of relationships between tokens. Softmax functions, a type of activation function, are used to calculate attention weights in the self-attention mechanism. Layer normalization and residual connections: The model uses layer normalization and residual connections to stabilize and speed up training. Feedforward neural networks: The output of the self-attention layer is passed through feedforward layers. These networks apply non-linear transformations to the token representations, allowing the model to capture complex patterns and relationships in the data. Stacked layers: Transformers typically consist of multiple layers stacked on top of each other. Each layer processes the output of the previous layer, gradually refining the representations. Stacking multiple layers enables the model to capture hierarchical and abstract features in the data. Output layer: In sequence-to-sequence tasks like neural machine translation, a separate decoder module can be added on top of the encoder to generate the output sequence. Training: Transformer models are trained using supervised learning, where they learn to minimize a loss function that quantifies the difference between the model's predictions and the ground truth for the given task. Training typically involves optimization techniques like Adam or stochastic gradient descent (SGD). Inference: After training, the model can be used for inference on new data. During inference, the input sequence is passed through the pre-trained model, and the model generates predictions or representations for the given task.</td>\n",
       "      <td>Joint</td>\n",
       "      <td>Contrast</td>\n",
       "    </tr>\n",
       "    <tr>\n",
       "      <th>3</th>\n",
       "      <td>140334317846368</td>\n",
       "      <td>There are two primary innovations that transformer models bring to the table.</td>\n",
       "      <td>Consider these two innovations within the context of predicting text. Positional encoding: Instead of looking at each word in the order that it appears in a sentence, a unique number is assigned to each word. This provides information about the position of each token (parts of the input such as words or subword pieces in NLP) in the sequence, allowing the model to consider the sequence's sequential information. Self-attention: Attention is a mechanism that calculates weights for every word in a sentence as they relate to every other word in the sentence, so the model can predict words which are likely to be used in sequence. This understanding is learned over time as a model is trained on lots of data. The self-attention mechanism allows each word to attend to every other word in the sequence in parallel, weighing their importance for the current token. In this way, it can be said that machine learning models can -learn- the rules of grammar, based on statistical probabilities of how words are typically used in language. Transformer models work by processing input data, which can be sequences of tokens or other structured data, through a series of layers that contain self-attention mechanisms and feedforward neural networks. The core idea behind how transformer models work can be broken down into several key steps. Let's imagine that you need to convert an English sentence into French. These are the steps you'd need to take to accomplish this task with a transformer model. Input embeddings: The input sentence is first transformed into numerical representations called embeddings. These capture the semantic meaning of the tokens in the input sequence. For sequences of words, these embeddings can be learned during training or obtained from pre-trained word embeddings. Positional encoding: Positional encoding is typically introduced as a set of additional values or vectors that are added to the token embeddings before feeding them into the transformer model. These positional encodings have specific patterns that encode the position information. Multi-head attention: Self-attention operates in multiple \"attention heads\" to capture different types of relationships between tokens. Softmax functions, a type of activation function, are used to calculate attention weights in the self-attention mechanism. Layer normalization and residual connections: The model uses layer normalization and residual connections to stabilize and speed up training. Feedforward neural networks: The output of the self-attention layer is passed through feedforward layers. These networks apply non-linear transformations to the token representations, allowing the model to capture complex patterns and relationships in the data. Stacked layers: Transformers typically consist of multiple layers stacked on top of each other. Each layer processes the output of the previous layer, gradually refining the representations. Stacking multiple layers enables the model to capture hierarchical and abstract features in the data. Output layer: In sequence-to-sequence tasks like neural machine translation, a separate decoder module can be added on top of the encoder to generate the output sequence. Training: Transformer models are trained using supervised learning, where they learn to minimize a loss function that quantifies the difference between the model's predictions and the ground truth for the given task. Training typically involves optimization techniques like Adam or stochastic gradient descent (SGD). Inference: After training, the model can be used for inference on new data. During inference, the input sequence is passed through the pre-trained model, and the model generates predictions or representations for the given task.</td>\n",
       "      <td>Joint</td>\n",
       "      <td>Textual-Organization</td>\n",
       "    </tr>\n",
       "    <tr>\n",
       "      <th>4</th>\n",
       "      <td>140334317845920</td>\n",
       "      <td>Consider these two innovations within the context of predicting text.</td>\n",
       "      <td>Positional encoding: Instead of looking at each word in the order that it appears in a sentence, a unique number is assigned to each word. This provides information about the position of each token (parts of the input such as words or subword pieces in NLP) in the sequence, allowing the model to consider the sequence's sequential information. Self-attention: Attention is a mechanism that calculates weights for every word in a sentence as they relate to every other word in the sentence, so the model can predict words which are likely to be used in sequence. This understanding is learned over time as a model is trained on lots of data. The self-attention mechanism allows each word to attend to every other word in the sequence in parallel, weighing their importance for the current token. In this way, it can be said that machine learning models can -learn- the rules of grammar, based on statistical probabilities of how words are typically used in language. Transformer models work by processing input data, which can be sequences of tokens or other structured data, through a series of layers that contain self-attention mechanisms and feedforward neural networks. The core idea behind how transformer models work can be broken down into several key steps. Let's imagine that you need to convert an English sentence into French. These are the steps you'd need to take to accomplish this task with a transformer model. Input embeddings: The input sentence is first transformed into numerical representations called embeddings. These capture the semantic meaning of the tokens in the input sequence. For sequences of words, these embeddings can be learned during training or obtained from pre-trained word embeddings. Positional encoding: Positional encoding is typically introduced as a set of additional values or vectors that are added to the token embeddings before feeding them into the transformer model. These positional encodings have specific patterns that encode the position information. Multi-head attention: Self-attention operates in multiple \"attention heads\" to capture different types of relationships between tokens. Softmax functions, a type of activation function, are used to calculate attention weights in the self-attention mechanism. Layer normalization and residual connections: The model uses layer normalization and residual connections to stabilize and speed up training. Feedforward neural networks: The output of the self-attention layer is passed through feedforward layers. These networks apply non-linear transformations to the token representations, allowing the model to capture complex patterns and relationships in the data. Stacked layers: Transformers typically consist of multiple layers stacked on top of each other. Each layer processes the output of the previous layer, gradually refining the representations. Stacking multiple layers enables the model to capture hierarchical and abstract features in the data. Output layer: In sequence-to-sequence tasks like neural machine translation, a separate decoder module can be added on top of the encoder to generate the output sequence. Training: Transformer models are trained using supervised learning, where they learn to minimize a loss function that quantifies the difference between the model's predictions and the ground truth for the given task. Training typically involves optimization techniques like Adam or stochastic gradient descent (SGD). Inference: After training, the model can be used for inference on new data. During inference, the input sequence is passed through the pre-trained model, and the model generates predictions or representations for the given task.</td>\n",
       "      <td>Joint</td>\n",
       "      <td>Textual-Organization</td>\n",
       "    </tr>\n",
       "    <tr>\n",
       "      <th>...</th>\n",
       "      <td>...</td>\n",
       "      <td>...</td>\n",
       "      <td>...</td>\n",
       "      <td>...</td>\n",
       "      <td>...</td>\n",
       "    </tr>\n",
       "    <tr>\n",
       "      <th>122</th>\n",
       "      <td>140334317791104</td>\n",
       "      <td>The model was first described in a 2017 paper called \"Attention is All You Need\" by Ashish Vaswani, a team at Google Brain, and a group from the University of Toronto.</td>\n",
       "      <td>The release of this paper is considered a watershed moment in the field, given how widespread transformers are now used in applications such as training LLMs.</td>\n",
       "      <td>Elaboration</td>\n",
       "      <td>Evaluation</td>\n",
       "    </tr>\n",
       "    <tr>\n",
       "      <th>123</th>\n",
       "      <td>140334317789872</td>\n",
       "      <td>The release of this paper is considered a watershed moment in the field,</td>\n",
       "      <td>given how widespread transformers are now used in applications such as training LLMs.</td>\n",
       "      <td>Elaboration</td>\n",
       "      <td>Explanation</td>\n",
       "    </tr>\n",
       "    <tr>\n",
       "      <th>124</th>\n",
       "      <td>140334317790488</td>\n",
       "      <td>given</td>\n",
       "      <td>how widespread transformers are now used in applications such as training LLMs.</td>\n",
       "      <td>Background</td>\n",
       "      <td>Attribution</td>\n",
       "    </tr>\n",
       "    <tr>\n",
       "      <th>126</th>\n",
       "      <td>140334317789536</td>\n",
       "      <td>A transformer model is a type of deep learning model that was introduced in 2017.</td>\n",
       "      <td>These models have quickly become fundamental in natural language processing (NLP), and have been applied to a wide range of tasks in machine learning and artificial intelligence.</td>\n",
       "      <td>Elaboration</td>\n",
       "      <td>Background</td>\n",
       "    </tr>\n",
       "    <tr>\n",
       "      <th>128</th>\n",
       "      <td>140334317790824</td>\n",
       "      <td>These models have quickly become fundamental in natural language processing</td>\n",
       "      <td>(NLP),</td>\n",
       "      <td>Elaboration</td>\n",
       "      <td>Summary</td>\n",
       "    </tr>\n",
       "  </tbody>\n",
       "</table>\n",
       "<p>61 rows × 5 columns</p>\n",
       "</div>"
      ],
      "text/plain": [
       "            pnode_id  \\\n",
       "0    140334317846256   \n",
       "1    140334317846144   \n",
       "2    140334317846312   \n",
       "3    140334317846368   \n",
       "4    140334317845920   \n",
       "..               ...   \n",
       "122  140334317791104   \n",
       "123  140334317789872   \n",
       "124  140334317790488   \n",
       "126  140334317789536   \n",
       "128  140334317790824   \n",
       "\n",
       "                                                                                                                                                                                                                                                                                                                                                                                                                                                                                                                                                                                                                                                                                                                                                                                                                                                                                                                                                                                                                                                                                                                                                                                                                                                                                                                                                                                                                                                                                                                                 nucleus  \\\n",
       "0                                                                                                                                                                                                                                                                                                                                                                                                                                                                                                                    A transformer model is a type of deep learning model that was introduced in 2017. These models have quickly become fundamental in natural language processing (NLP), and have been applied to a wide range of tasks in machine learning and artificial intelligence. The model was first described in a 2017 paper called \"Attention is All You Need\" by Ashish Vaswani, a team at Google Brain, and a group from the University of Toronto. The release of this paper is considered a watershed moment in the field, given how widespread transformers are now used in applications such as training LLMs. These models can translate text and speech in near-real-time. For example, there are apps that now allow tourists to communicate with locals on the street in their primary language. They help researchers better understand DNA and speed up drug design. They can hep detect anomalies and prevent fraud in finance and security. Vision transformers are similarly used for computer vision tasks.    \n",
       "1    OpenAI's popular ChatGPT text generation tool makes use of transformer architectures for prediction, summarization, question answering and more, because they allow the model to focus on the most relevant segments of input text. The - GPT- seen in the tool's various versions (e.g. GPT-2, GPT-3) stands for - generative pre-trained transformer.- Text-based generative AI tools such as ChatGPT benefit from transformer models because they can more readily predict the next word in a sequence of text, based on a large, complex data sets. The BERT model, or Bidirectional Encoder Representations from Transformers, is based on the transformer architecture. As of 2019, BERT was used for nearly all English-language Google search results, and has been rolled out to over 70 other languages. The key innovation of the transformer model is not having to rely on recurrent neural networks (RNNs) or convolutional neural networks (CNNs), neural network approaches which have significant drawbacks. Transformers process input sequences in parallel, making it highly efficient for training and inference - because you can't just speed things up by adding more GPUs. Transformer models need less training time than previous recurrent neural network architectures such as long short-term memory (LSTM). RNNs and LSTM date back to the 1920s and 1990s, respectively. These techniques compute each component of an input in sequence (e.g. word by word), so computation can take a long time.    \n",
       "2                                                                                                                                                                                                                                                                                                                                                                                                                                                                                                                                                                                                                                                                                                                                                                                                                                                                                                                                                                                                                                                                                                                                                                                                                                                                                                                                                                                         What's more, both approaches run into limitations in retaining context when the -distance- between pieces of information in an input is long.    \n",
       "3                                                                                                                                                                                                                                                                                                                                                                                                                                                                                                                                                                                                                                                                                                                                                                                                                                                                                                                                                                                                                                                                                                                                                                                                                                                                                                                                                                                                                                                         There are two primary innovations that transformer models bring to the table.    \n",
       "4                                                                                                                                                                                                                                                                                                                                                                                                                                                                                                                                                                                                                                                                                                                                                                                                                                                                                                                                                                                                                                                                                                                                                                                                                                                                                                                                                                                                                                                                 Consider these two innovations within the context of predicting text.    \n",
       "..                                                                                                                                                                                                                                                                                                                                                                                                                                                                                                                                                                                                                                                                                                                                                                                                                                                                                                                                                                                                                                                                                                                                                                                                                                                                                                                                                                                                                                                                                                                                   ...   \n",
       "122                                                                                                                                                                                                                                                                                                                                                                                                                                                                                                                                                                                                                                                                                                                                                                                                                                                                                                                                                                                                                                                                                                                                                                                                                                                                                                                                                             The model was first described in a 2017 paper called \"Attention is All You Need\" by Ashish Vaswani, a team at Google Brain, and a group from the University of Toronto.    \n",
       "123                                                                                                                                                                                                                                                                                                                                                                                                                                                                                                                                                                                                                                                                                                                                                                                                                                                                                                                                                                                                                                                                                                                                                                                                                                                                                                                                                                                                                                                            The release of this paper is considered a watershed moment in the field,    \n",
       "124                                                                                                                                                                                                                                                                                                                                                                                                                                                                                                                                                                                                                                                                                                                                                                                                                                                                                                                                                                                                                                                                                                                                                                                                                                                                                                                                                                                                                                                                                                                               given    \n",
       "126                                                                                                                                                                                                                                                                                                                                                                                                                                                                                                                                                                                                                                                                                                                                                                                                                                                                                                                                                                                                                                                                                                                                                                                                                                                                                                                                                                                                                                                   A transformer model is a type of deep learning model that was introduced in 2017.    \n",
       "128                                                                                                                                                                                                                                                                                                                                                                                                                                                                                                                                                                                                                                                                                                                                                                                                                                                                                                                                                                                                                                                                                                                                                                                                                                                                                                                                                                                                                                                         These models have quickly become fundamental in natural language processing    \n",
       "\n",
       "                                                                                                                                                                                                                                                                                                                                                                                                                                                                                                                                                                                                                                                                                                                                                                                                                                                                                                                                                                                                                                                                                                                                                                                                                                                                                                                                                                                                                                                                                                                                                                                                                                                                                                                                                                                                                                                                                                                                                                                                                                                                                                                                                                                                                                                                                                                                                                                                                                                                                                                                                                                                                                                                                                                                                                                                                                                                                                                                                                                                                                                                                                                                                                                                                                                                                                                                                                                                                                                                                                                                                                                                                                                                                                                                                                                                                                                                                                                                                                                                                                                                                                                                                                                                                                                                                                                                                                                                                                                                                                                                                                                                                                                                                                                                                                                                                                                                                                                                                                                                                                                                                                                                                                                                                                                                                                                                                                                                                                                                                                                                                                                                                                                                 satellite  \\\n",
       "0    OpenAI's popular ChatGPT text generation tool makes use of transformer architectures for prediction, summarization, question answering and more, because they allow the model to focus on the most relevant segments of input text. The - GPT- seen in the tool's various versions (e.g. GPT-2, GPT-3) stands for - generative pre-trained transformer.- Text-based generative AI tools such as ChatGPT benefit from transformer models because they can more readily predict the next word in a sequence of text, based on a large, complex data sets. The BERT model, or Bidirectional Encoder Representations from Transformers, is based on the transformer architecture. As of 2019, BERT was used for nearly all English-language Google search results, and has been rolled out to over 70 other languages. The key innovation of the transformer model is not having to rely on recurrent neural networks (RNNs) or convolutional neural networks (CNNs), neural network approaches which have significant drawbacks. Transformers process input sequences in parallel, making it highly efficient for training and inference - because you can't just speed things up by adding more GPUs. Transformer models need less training time than previous recurrent neural network architectures such as long short-term memory (LSTM). RNNs and LSTM date back to the 1920s and 1990s, respectively. These techniques compute each component of an input in sequence (e.g. word by word), so computation can take a long time. What's more, both approaches run into limitations in retaining context when the -distance- between pieces of information in an input is long. There are two primary innovations that transformer models bring to the table. Consider these two innovations within the context of predicting text. Positional encoding: Instead of looking at each word in the order that it appears in a sentence, a unique number is assigned to each word. This provides information about the position of each token (parts of the input such as words or subword pieces in NLP) in the sequence, allowing the model to consider the sequence's sequential information. Self-attention: Attention is a mechanism that calculates weights for every word in a sentence as they relate to every other word in the sentence, so the model can predict words which are likely to be used in sequence. This understanding is learned over time as a model is trained on lots of data. The self-attention mechanism allows each word to attend to every other word in the sequence in parallel, weighing their importance for the current token. In this way, it can be said that machine learning models can -learn- the rules of grammar, based on statistical probabilities of how words are typically used in language. Transformer models work by processing input data, which can be sequences of tokens or other structured data, through a series of layers that contain self-attention mechanisms and feedforward neural networks. The core idea behind how transformer models work can be broken down into several key steps. Let's imagine that you need to convert an English sentence into French. These are the steps you'd need to take to accomplish this task with a transformer model. Input embeddings: The input sentence is first transformed into numerical representations called embeddings. These capture the semantic meaning of the tokens in the input sequence. For sequences of words, these embeddings can be learned during training or obtained from pre-trained word embeddings. Positional encoding: Positional encoding is typically introduced as a set of additional values or vectors that are added to the token embeddings before feeding them into the transformer model. These positional encodings have specific patterns that encode the position information. Multi-head attention: Self-attention operates in multiple \"attention heads\" to capture different types of relationships between tokens. Softmax functions, a type of activation function, are used to calculate attention weights in the self-attention mechanism. Layer normalization and residual connections: The model uses layer normalization and residual connections to stabilize and speed up training. Feedforward neural networks: The output of the self-attention layer is passed through feedforward layers. These networks apply non-linear transformations to the token representations, allowing the model to capture complex patterns and relationships in the data. Stacked layers: Transformers typically consist of multiple layers stacked on top of each other. Each layer processes the output of the previous layer, gradually refining the representations. Stacking multiple layers enables the model to capture hierarchical and abstract features in the data. Output layer: In sequence-to-sequence tasks like neural machine translation, a separate decoder module can be added on top of the encoder to generate the output sequence. Training: Transformer models are trained using supervised learning, where they learn to minimize a loss function that quantifies the difference between the model's predictions and the ground truth for the given task. Training typically involves optimization techniques like Adam or stochastic gradient descent (SGD). Inference: After training, the model can be used for inference on new data. During inference, the input sequence is passed through the pre-trained model, and the model generates predictions or representations for the given task.    \n",
       "1                                                                                                                                                                                                                                                                                                                                                                                                                                                                                                                                                                                                                                                                                                                                                                                                                                                                                                                                                                                                                                                                                                                                                                                                                                                                                                                                                                                                                                                                                                                                       What's more, both approaches run into limitations in retaining context when the -distance- between pieces of information in an input is long. There are two primary innovations that transformer models bring to the table. Consider these two innovations within the context of predicting text. Positional encoding: Instead of looking at each word in the order that it appears in a sentence, a unique number is assigned to each word. This provides information about the position of each token (parts of the input such as words or subword pieces in NLP) in the sequence, allowing the model to consider the sequence's sequential information. Self-attention: Attention is a mechanism that calculates weights for every word in a sentence as they relate to every other word in the sentence, so the model can predict words which are likely to be used in sequence. This understanding is learned over time as a model is trained on lots of data. The self-attention mechanism allows each word to attend to every other word in the sequence in parallel, weighing their importance for the current token. In this way, it can be said that machine learning models can -learn- the rules of grammar, based on statistical probabilities of how words are typically used in language. Transformer models work by processing input data, which can be sequences of tokens or other structured data, through a series of layers that contain self-attention mechanisms and feedforward neural networks. The core idea behind how transformer models work can be broken down into several key steps. Let's imagine that you need to convert an English sentence into French. These are the steps you'd need to take to accomplish this task with a transformer model. Input embeddings: The input sentence is first transformed into numerical representations called embeddings. These capture the semantic meaning of the tokens in the input sequence. For sequences of words, these embeddings can be learned during training or obtained from pre-trained word embeddings. Positional encoding: Positional encoding is typically introduced as a set of additional values or vectors that are added to the token embeddings before feeding them into the transformer model. These positional encodings have specific patterns that encode the position information. Multi-head attention: Self-attention operates in multiple \"attention heads\" to capture different types of relationships between tokens. Softmax functions, a type of activation function, are used to calculate attention weights in the self-attention mechanism. Layer normalization and residual connections: The model uses layer normalization and residual connections to stabilize and speed up training. Feedforward neural networks: The output of the self-attention layer is passed through feedforward layers. These networks apply non-linear transformations to the token representations, allowing the model to capture complex patterns and relationships in the data. Stacked layers: Transformers typically consist of multiple layers stacked on top of each other. Each layer processes the output of the previous layer, gradually refining the representations. Stacking multiple layers enables the model to capture hierarchical and abstract features in the data. Output layer: In sequence-to-sequence tasks like neural machine translation, a separate decoder module can be added on top of the encoder to generate the output sequence. Training: Transformer models are trained using supervised learning, where they learn to minimize a loss function that quantifies the difference between the model's predictions and the ground truth for the given task. Training typically involves optimization techniques like Adam or stochastic gradient descent (SGD). Inference: After training, the model can be used for inference on new data. During inference, the input sequence is passed through the pre-trained model, and the model generates predictions or representations for the given task.    \n",
       "2                                                                                                                                                                                                                                                                                                                                                                                                                                                                                                                                                                                                                                                                                                                                                                                                                                                                                                                                                                                                                                                                                                                                                                                                                                                                                                                                                                                                                                                                                                                                                                                                                                                                                     There are two primary innovations that transformer models bring to the table. Consider these two innovations within the context of predicting text. Positional encoding: Instead of looking at each word in the order that it appears in a sentence, a unique number is assigned to each word. This provides information about the position of each token (parts of the input such as words or subword pieces in NLP) in the sequence, allowing the model to consider the sequence's sequential information. Self-attention: Attention is a mechanism that calculates weights for every word in a sentence as they relate to every other word in the sentence, so the model can predict words which are likely to be used in sequence. This understanding is learned over time as a model is trained on lots of data. The self-attention mechanism allows each word to attend to every other word in the sequence in parallel, weighing their importance for the current token. In this way, it can be said that machine learning models can -learn- the rules of grammar, based on statistical probabilities of how words are typically used in language. Transformer models work by processing input data, which can be sequences of tokens or other structured data, through a series of layers that contain self-attention mechanisms and feedforward neural networks. The core idea behind how transformer models work can be broken down into several key steps. Let's imagine that you need to convert an English sentence into French. These are the steps you'd need to take to accomplish this task with a transformer model. Input embeddings: The input sentence is first transformed into numerical representations called embeddings. These capture the semantic meaning of the tokens in the input sequence. For sequences of words, these embeddings can be learned during training or obtained from pre-trained word embeddings. Positional encoding: Positional encoding is typically introduced as a set of additional values or vectors that are added to the token embeddings before feeding them into the transformer model. These positional encodings have specific patterns that encode the position information. Multi-head attention: Self-attention operates in multiple \"attention heads\" to capture different types of relationships between tokens. Softmax functions, a type of activation function, are used to calculate attention weights in the self-attention mechanism. Layer normalization and residual connections: The model uses layer normalization and residual connections to stabilize and speed up training. Feedforward neural networks: The output of the self-attention layer is passed through feedforward layers. These networks apply non-linear transformations to the token representations, allowing the model to capture complex patterns and relationships in the data. Stacked layers: Transformers typically consist of multiple layers stacked on top of each other. Each layer processes the output of the previous layer, gradually refining the representations. Stacking multiple layers enables the model to capture hierarchical and abstract features in the data. Output layer: In sequence-to-sequence tasks like neural machine translation, a separate decoder module can be added on top of the encoder to generate the output sequence. Training: Transformer models are trained using supervised learning, where they learn to minimize a loss function that quantifies the difference between the model's predictions and the ground truth for the given task. Training typically involves optimization techniques like Adam or stochastic gradient descent (SGD). Inference: After training, the model can be used for inference on new data. During inference, the input sequence is passed through the pre-trained model, and the model generates predictions or representations for the given task.    \n",
       "3                                                                                                                                                                                                                                                                                                                                                                                                                                                                                                                                                                                                                                                                                                                                                                                                                                                                                                                                                                                                                                                                                                                                                                                                                                                                                                                                                                                                                                                                                                                                                                                                                                                                                                                                                                   Consider these two innovations within the context of predicting text. Positional encoding: Instead of looking at each word in the order that it appears in a sentence, a unique number is assigned to each word. This provides information about the position of each token (parts of the input such as words or subword pieces in NLP) in the sequence, allowing the model to consider the sequence's sequential information. Self-attention: Attention is a mechanism that calculates weights for every word in a sentence as they relate to every other word in the sentence, so the model can predict words which are likely to be used in sequence. This understanding is learned over time as a model is trained on lots of data. The self-attention mechanism allows each word to attend to every other word in the sequence in parallel, weighing their importance for the current token. In this way, it can be said that machine learning models can -learn- the rules of grammar, based on statistical probabilities of how words are typically used in language. Transformer models work by processing input data, which can be sequences of tokens or other structured data, through a series of layers that contain self-attention mechanisms and feedforward neural networks. The core idea behind how transformer models work can be broken down into several key steps. Let's imagine that you need to convert an English sentence into French. These are the steps you'd need to take to accomplish this task with a transformer model. Input embeddings: The input sentence is first transformed into numerical representations called embeddings. These capture the semantic meaning of the tokens in the input sequence. For sequences of words, these embeddings can be learned during training or obtained from pre-trained word embeddings. Positional encoding: Positional encoding is typically introduced as a set of additional values or vectors that are added to the token embeddings before feeding them into the transformer model. These positional encodings have specific patterns that encode the position information. Multi-head attention: Self-attention operates in multiple \"attention heads\" to capture different types of relationships between tokens. Softmax functions, a type of activation function, are used to calculate attention weights in the self-attention mechanism. Layer normalization and residual connections: The model uses layer normalization and residual connections to stabilize and speed up training. Feedforward neural networks: The output of the self-attention layer is passed through feedforward layers. These networks apply non-linear transformations to the token representations, allowing the model to capture complex patterns and relationships in the data. Stacked layers: Transformers typically consist of multiple layers stacked on top of each other. Each layer processes the output of the previous layer, gradually refining the representations. Stacking multiple layers enables the model to capture hierarchical and abstract features in the data. Output layer: In sequence-to-sequence tasks like neural machine translation, a separate decoder module can be added on top of the encoder to generate the output sequence. Training: Transformer models are trained using supervised learning, where they learn to minimize a loss function that quantifies the difference between the model's predictions and the ground truth for the given task. Training typically involves optimization techniques like Adam or stochastic gradient descent (SGD). Inference: After training, the model can be used for inference on new data. During inference, the input sequence is passed through the pre-trained model, and the model generates predictions or representations for the given task.    \n",
       "4                                                                                                                                                                                                                                                                                                                                                                                                                                                                                                                                                                                                                                                                                                                                                                                                                                                                                                                                                                                                                                                                                                                                                                                                                                                                                                                                                                                                                                                                                                                                                                                                                                                                                                                                                                                                                                         Positional encoding: Instead of looking at each word in the order that it appears in a sentence, a unique number is assigned to each word. This provides information about the position of each token (parts of the input such as words or subword pieces in NLP) in the sequence, allowing the model to consider the sequence's sequential information. Self-attention: Attention is a mechanism that calculates weights for every word in a sentence as they relate to every other word in the sentence, so the model can predict words which are likely to be used in sequence. This understanding is learned over time as a model is trained on lots of data. The self-attention mechanism allows each word to attend to every other word in the sequence in parallel, weighing their importance for the current token. In this way, it can be said that machine learning models can -learn- the rules of grammar, based on statistical probabilities of how words are typically used in language. Transformer models work by processing input data, which can be sequences of tokens or other structured data, through a series of layers that contain self-attention mechanisms and feedforward neural networks. The core idea behind how transformer models work can be broken down into several key steps. Let's imagine that you need to convert an English sentence into French. These are the steps you'd need to take to accomplish this task with a transformer model. Input embeddings: The input sentence is first transformed into numerical representations called embeddings. These capture the semantic meaning of the tokens in the input sequence. For sequences of words, these embeddings can be learned during training or obtained from pre-trained word embeddings. Positional encoding: Positional encoding is typically introduced as a set of additional values or vectors that are added to the token embeddings before feeding them into the transformer model. These positional encodings have specific patterns that encode the position information. Multi-head attention: Self-attention operates in multiple \"attention heads\" to capture different types of relationships between tokens. Softmax functions, a type of activation function, are used to calculate attention weights in the self-attention mechanism. Layer normalization and residual connections: The model uses layer normalization and residual connections to stabilize and speed up training. Feedforward neural networks: The output of the self-attention layer is passed through feedforward layers. These networks apply non-linear transformations to the token representations, allowing the model to capture complex patterns and relationships in the data. Stacked layers: Transformers typically consist of multiple layers stacked on top of each other. Each layer processes the output of the previous layer, gradually refining the representations. Stacking multiple layers enables the model to capture hierarchical and abstract features in the data. Output layer: In sequence-to-sequence tasks like neural machine translation, a separate decoder module can be added on top of the encoder to generate the output sequence. Training: Transformer models are trained using supervised learning, where they learn to minimize a loss function that quantifies the difference between the model's predictions and the ground truth for the given task. Training typically involves optimization techniques like Adam or stochastic gradient descent (SGD). Inference: After training, the model can be used for inference on new data. During inference, the input sequence is passed through the pre-trained model, and the model generates predictions or representations for the given task.    \n",
       "..                                                                                                                                                                                                                                                                                                                                                                                                                                                                                                                                                                                                                                                                                                                                                                                                                                                                                                                                                                                                                                                                                                                                                                                                                                                                                                                                                                                                                                                                                                                                                                                                                                                                                                                                                                                                                                                                                                                                                                                                                                                                                                                                                                                                                                                                                                                                                                                                                                                                                                                                                                                                                                                                                                                                                                                                                                                                                                                                                                                                                                                                                                                                                                                                                                                                                                                                                                                                                                                                                                                                                                                                                                                                                                                                                                                                                                                                                                                                                                                                                                                                                                                                                                                                                                                                                                                                                                                                                                                                                                                                                                                                                                                                                                                                                                                                                                                                                                                                                                                                                                                                                                                                                                                                                                                                                                                                                                                                                                                                                                                                                                                                                                                                     ...   \n",
       "122                                                                                                                                                                                                                                                                                                                                                                                                                                                                                                                                                                                                                                                                                                                                                                                                                                                                                                                                                                                                                                                                                                                                                                                                                                                                                                                                                                                                                                                                                                                                                                                                                                                                                                                                                                                                                                                                                                                                                                                                                                                                                                                                                                                                                                                                                                                                                                                                                                                                                                                                                                                                                                                                                                                                                                                                                                                                                                                                                                                                                                                                                                                                                                                                                                                                                                                                                                                                                                                                                                                                                                                                                                                                                                                                                                                                                                                                                                                                                                                                                                                                                                                                                                                                                                                                                                                                                                                                                                                                                                                                                                                                                                                                                                                                                                                                                                                                                                                                                                                                                                                                                                                                                                                                                                                                                                                                                                                                                                                                                                        The release of this paper is considered a watershed moment in the field, given how widespread transformers are now used in applications such as training LLMs.    \n",
       "123                                                                                                                                                                                                                                                                                                                                                                                                                                                                                                                                                                                                                                                                                                                                                                                                                                                                                                                                                                                                                                                                                                                                                                                                                                                                                                                                                                                                                                                                                                                                                                                                                                                                                                                                                                                                                                                                                                                                                                                                                                                                                                                                                                                                                                                                                                                                                                                                                                                                                                                                                                                                                                                                                                                                                                                                                                                                                                                                                                                                                                                                                                                                                                                                                                                                                                                                                                                                                                                                                                                                                                                                                                                                                                                                                                                                                                                                                                                                                                                                                                                                                                                                                                                                                                                                                                                                                                                                                                                                                                                                                                                                                                                                                                                                                                                                                                                                                                                                                                                                                                                                                                                                                                                                                                                                                                                                                                                                                                                                                                                                                                                 given how widespread transformers are now used in applications such as training LLMs.    \n",
       "124                                                                                                                                                                                                                                                                                                                                                                                                                                                                                                                                                                                                                                                                                                                                                                                                                                                                                                                                                                                                                                                                                                                                                                                                                                                                                                                                                                                                                                                                                                                                                                                                                                                                                                                                                                                                                                                                                                                                                                                                                                                                                                                                                                                                                                                                                                                                                                                                                                                                                                                                                                                                                                                                                                                                                                                                                                                                                                                                                                                                                                                                                                                                                                                                                                                                                                                                                                                                                                                                                                                                                                                                                                                                                                                                                                                                                                                                                                                                                                                                                                                                                                                                                                                                                                                                                                                                                                                                                                                                                                                                                                                                                                                                                                                                                                                                                                                                                                                                                                                                                                                                                                                                                                                                                                                                                                                                                                                                                                                                                                                                                                                       how widespread transformers are now used in applications such as training LLMs.    \n",
       "126                                                                                                                                                                                                                                                                                                                                                                                                                                                                                                                                                                                                                                                                                                                                                                                                                                                                                                                                                                                                                                                                                                                                                                                                                                                                                                                                                                                                                                                                                                                                                                                                                                                                                                                                                                                                                                                                                                                                                                                                                                                                                                                                                                                                                                                                                                                                                                                                                                                                                                                                                                                                                                                                                                                                                                                                                                                                                                                                                                                                                                                                                                                                                                                                                                                                                                                                                                                                                                                                                                                                                                                                                                                                                                                                                                                                                                                                                                                                                                                                                                                                                                                                                                                                                                                                                                                                                                                                                                                                                                                                                                                                                                                                                                                                                                                                                                                                                                                                                                                                                                                                                                                                                                                                                                                                                                                                                                                                                                                                                    These models have quickly become fundamental in natural language processing (NLP), and have been applied to a wide range of tasks in machine learning and artificial intelligence.    \n",
       "128                                                                                                                                                                                                                                                                                                                                                                                                                                                                                                                                                                                                                                                                                                                                                                                                                                                                                                                                                                                                                                                                                                                                                                                                                                                                                                                                                                                                                                                                                                                                                                                                                                                                                                                                                                                                                                                                                                                                                                                                                                                                                                                                                                                                                                                                                                                                                                                                                                                                                                                                                                                                                                                                                                                                                                                                                                                                                                                                                                                                                                                                                                                                                                                                                                                                                                                                                                                                                                                                                                                                                                                                                                                                                                                                                                                                                                                                                                                                                                                                                                                                                                                                                                                                                                                                                                                                                                                                                                                                                                                                                                                                                                                                                                                                                                                                                                                                                                                                                                                                                                                                                                                                                                                                                                                                                                                                                                                                                                                                                                                                                                                                                                                                (NLP),    \n",
       "\n",
       "    original_relation          new_relation  \n",
       "0         Elaboration            Background  \n",
       "1         Elaboration            Background  \n",
       "2               Joint              Contrast  \n",
       "3               Joint  Textual-Organization  \n",
       "4               Joint  Textual-Organization  \n",
       "..                ...                   ...  \n",
       "122       Elaboration            Evaluation  \n",
       "123       Elaboration           Explanation  \n",
       "124        Background           Attribution  \n",
       "126       Elaboration            Background  \n",
       "128       Elaboration               Summary  \n",
       "\n",
       "[61 rows x 5 columns]"
      ]
     },
     "execution_count": 86,
     "metadata": {},
     "output_type": "execute_result"
    }
   ],
   "source": [
    "# calculate porportion of changed labels\n",
    "\n",
    "diff = df.apply(lambda x: x['original_relation'] != x['new_relation'], axis=1)\n",
    "print(diff.sum(), \"changed relations out of\", df.shape[0], '(' + str(round(float(diff.sum()/df.shape[0]), 2)) + ')')\n",
    "df[diff]"
   ]
  },
  {
   "cell_type": "code",
   "execution_count": 87,
   "metadata": {},
   "outputs": [
    {
     "name": "stdout",
     "output_type": "stream",
     "text": [
      "\n",
      "No parent at node:  NS-Background \n",
      "\n",
      "NS-Background\n",
      "├── NS-Elaboration\n",
      "│   ├── NS-Background\n",
      "│   │   ├── NS-Elaboration\n",
      "│   │   │   ├──  EDU (1, 1): A transformer model is a type of deep learning model\n",
      "│   │   │   └──  EDU (2, 2): that was introduced in 2017.\n",
      "│   │   └── NN-Joint\n",
      "│   │       ├── NS-Summary\n",
      "│   │       │   ├──  EDU (3, 3): These models have quickly become fundamental in natural language processing\n",
      "│   │       │   └──  EDU (4, 4): (NLP),\n",
      "│   │       └──  EDU (5, 5): and have been applied to a wide range of tasks in machine learning and artificial intelligence.\n",
      "│   └── NS-Elaboration\n",
      "│       ├── NS-Evaluation\n",
      "│       │   ├── NS-Elaboration\n",
      "│       │   │   ├──  EDU (6, 6): The model was first described in a 2017 paper\n",
      "│       │   │   └──  EDU (7, 7): called \"Attention is All You Need\" by Ashish Vaswani, a team at Google Brain, and a group from the University of Toronto.\n",
      "│       │   └── NS-Explanation\n",
      "│       │       ├──  EDU (8, 8): The release of this paper is considered a watershed moment in the field,\n",
      "│       │       └── NN-Attribution\n",
      "│       │           ├──  EDU (9, 9): given\n",
      "│       │           └──  EDU (10, 10): how widespread transformers are now used in applications such as training LLMs.\n",
      "│       └── NS-Elaboration\n",
      "│           ├──  EDU (11, 11): These models can translate text and speech in near-real-time.\n",
      "│           └── NS-Joint\n",
      "│               ├── NS-Elaboration\n",
      "│               │   ├──  EDU (12, 12): For example, there are apps\n",
      "│               │   └──  EDU (13, 13): that now allow tourists to communicate with locals on the street in their primary language.\n",
      "│               └── NS-Joint\n",
      "│                   ├── NN-Joint\n",
      "│                   │   ├──  EDU (14, 14): They help researchers better understand DNA\n",
      "│                   │   └──  EDU (15, 15): and speed up drug design.\n",
      "│                   └── NS-Elaboration\n",
      "│                       ├── NN-Joint\n",
      "│                       │   ├──  EDU (16, 16): They can hep detect anomalies\n",
      "│                       │   └──  EDU (17, 17): and prevent fraud in finance and security.\n",
      "│                       └──  EDU (18, 18): Vision transformers are similarly used for computer vision tasks.\n",
      "└── NS-Background\n",
      "    ├── NS-Background\n",
      "    │   ├── NS-Cause\n",
      "    │   │   ├──  EDU (19, 19): OpenAI's popular ChatGPT text generation tool makes use of transformer architectures for prediction, summarization, question answering and more,\n",
      "    │   │   └── NS-Elaboration\n",
      "    │   │       ├──  EDU (20, 20): because they allow the model\n",
      "    │   │       └──  EDU (21, 21): to focus on the most relevant segments of input text.\n",
      "    │   └── NN-Textual-Organization\n",
      "    │       ├──  EDU (22, 22): The -\n",
      "    │       └── NN-Elaboration\n",
      "    │           ├── NS-Elaboration\n",
      "    │           │   ├──  EDU (23, 23): GPT- seen in the tool's various versions\n",
      "    │           │   └──  EDU (24, 24): (e.g.\n",
      "    │           └── NS-Elaboration\n",
      "    │               ├── NS-Summary\n",
      "    │               │   ├──  EDU (25, 25): GPT-2, GPT-3) stands for -\n",
      "    │               │   └── NS-Cause\n",
      "    │               │       ├──  EDU (26, 26): generative pre-trained transformer.- Text-based generative AI tools such as ChatGPT benefit from transformer models\n",
      "    │               │       └── NS-Manner-Means\n",
      "    │               │           ├──  EDU (27, 27): because they can more readily predict the next word in a sequence of text,\n",
      "    │               │           └──  EDU (28, 28): based on a large, complex data sets.\n",
      "    │               └── NS-Elaboration\n",
      "    │                   ├── NN-Same-Unit\n",
      "    │                   │   ├──  EDU (29, 29): The BERT model, or Bidirectional Encoder Representations from Transformers,\n",
      "    │                   │   └──  EDU (30, 30): is based on the transformer architecture.\n",
      "    │                   └── NS-Topic-Change\n",
      "    │                       ├── NN-Joint\n",
      "    │                       │   ├──  EDU (31, 31): As of 2019, BERT was used for nearly all English-language Google search results,\n",
      "    │                       │   └──  EDU (32, 32): and has been rolled out to over 70 other languages.\n",
      "    │                       └── NS-Explanation\n",
      "    │                           ├── NS-Elaboration\n",
      "    │                           │   ├──  EDU (33, 33): The key innovation of the transformer model is not having to rely on recurrent neural networks\n",
      "    │                           │   └── NS-Summary\n",
      "    │                           │       ├──  EDU (34, 34): (RNNs) or convolutional neural networks\n",
      "    │                           │       └── NS-Elaboration\n",
      "    │                           │           ├──  EDU (35, 35): (CNNs), neural network approaches\n",
      "    │                           │           └──  EDU (36, 36): which have significant drawbacks.\n",
      "    │                           └── NS-Contrast\n",
      "    │                               ├── NN-Topic-Change\n",
      "    │                               │   ├── NN-Explanation\n",
      "    │                               │   │   ├── NN-Cause\n",
      "    │                               │   │   │   ├──  EDU (37, 37): Transformers process input sequences in parallel,\n",
      "    │                               │   │   │   └──  EDU (38, 38): making it highly efficient for training and inference\n",
      "    │                               │   │   └── NS-Manner-Means\n",
      "    │                               │   │       ├──  EDU (39, 39): - because you can't just speed things up\n",
      "    │                               │   │       └──  EDU (40, 40): by adding more GPUs.\n",
      "    │                               │   └── NN-Background\n",
      "    │                               │       ├── NS-Summary\n",
      "    │                               │       │   ├──  EDU (41, 41): Transformer models need less training time than previous recurrent neural network architectures such as long short-term memory\n",
      "    │                               │       │   └──  EDU (42, 42): (LSTM).\n",
      "    │                               │       └──  EDU (43, 43): RNNs and LSTM date back to the 1920s and 1990s, respectively.\n",
      "    │                               └── NN-Cause\n",
      "    │                                   ├── NS-Manner-Means\n",
      "    │                                   │   ├──  EDU (44, 44): These techniques compute each component of an input in sequence\n",
      "    │                                   │   └──  EDU (45, 45): (e.g. word by word),\n",
      "    │                                   └──  EDU (46, 46): so computation can take a long time.\n",
      "    └── NN-Contrast\n",
      "        ├── NS-Elaboration\n",
      "        │   ├──  EDU (47, 47): What's more, both approaches run into limitations\n",
      "        │   └── NS-Condition\n",
      "        │       ├──  EDU (48, 48): in retaining context\n",
      "        │       └──  EDU (49, 49): when the -distance- between pieces of information in an input is long.\n",
      "        └── NN-Textual-Organization\n",
      "            ├── NS-Elaboration\n",
      "            │   ├──  EDU (50, 50): There are two primary innovations\n",
      "            │   └──  EDU (51, 51): that transformer models bring to the table.\n",
      "            └── NN-Textual-Organization\n",
      "                ├── NS-Elaboration\n",
      "                │   ├──  EDU (52, 52): Consider these two innovations within the context\n",
      "                │   └──  EDU (53, 53): of predicting text.\n",
      "                └── NN-Joint\n",
      "                    ├── NN-Same-Unit\n",
      "                    │   ├──  EDU (54, 54): Positional encoding: Instead\n",
      "                    │   └── SN-Manner-Means\n",
      "                    │       ├── NS-Elaboration\n",
      "                    │       │   ├──  EDU (55, 55): of looking at each word in the order\n",
      "                    │       │   └──  EDU (56, 56): that it appears in a sentence,\n",
      "                    │       └──  EDU (57, 57): a unique number is assigned to each word.\n",
      "                    └── NN-Joint\n",
      "                        ├── NS-Cause\n",
      "                        │   ├── NS-Elaboration\n",
      "                        │   │   ├──  EDU (58, 58): This provides information about the position of each token\n",
      "                        │   │   └──  EDU (59, 59): (parts of the input such as words or subword pieces in NLP) in the sequence,\n",
      "                        │   └── NS-Elaboration\n",
      "                        │       ├──  EDU (60, 60): allowing the model\n",
      "                        │       └──  EDU (61, 61): to consider the sequence's sequential information.\n",
      "                        └── NN-Elaboration\n",
      "                            ├── NN-Elaboration\n",
      "                            │   ├── NS-Elaboration\n",
      "                            │   │   ├──  EDU (62, 62): Self-attention: Attention is a mechanism\n",
      "                            │   │   └── NS-Enablement\n",
      "                            │   │       ├── NS-Background\n",
      "                            │   │       │   ├──  EDU (63, 63): that calculates weights for every word in a sentence\n",
      "                            │   │       │   └──  EDU (64, 64): as they relate to every other word in the sentence,\n",
      "                            │   │       └── NS-Elaboration\n",
      "                            │   │           ├──  EDU (65, 65): so the model can predict words\n",
      "                            │   │           └──  EDU (66, 66): which are likely to be used in sequence.\n",
      "                            │   └── NS-Elaboration\n",
      "                            │       ├── NS-Background\n",
      "                            │       │   ├──  EDU (67, 67): This understanding is learned over time\n",
      "                            │       │   └── NN-Same-Unit\n",
      "                            │       │       ├──  EDU (68, 68): as a model\n",
      "                            │       │       └──  EDU (69, 69): is trained on lots of data.\n",
      "                            │       └── NS-Elaboration\n",
      "                            │           ├── NS-Same-Unit\n",
      "                            │           │   ├──  EDU (70, 70): The self-attention mechanism allows each word\n",
      "                            │           │   └── NS-Manner-Means\n",
      "                            │           │       ├──  EDU (71, 71): to attend to every other word in the sequence in parallel,\n",
      "                            │           │       └──  EDU (72, 72): weighing their importance for the current token.\n",
      "                            │           └── NS-Summary\n",
      "                            │               ├── SN-Attribution\n",
      "                            │               │   ├──  EDU (73, 73): In this way, it can be said\n",
      "                            │               │   └── NS-Manner-Means\n",
      "                            │               │       ├──  EDU (74, 74): that machine learning models can -learn- the rules of grammar,\n",
      "                            │               │       └── NS-Elaboration\n",
      "                            │               │           ├──  EDU (75, 75): based on statistical probabilities\n",
      "                            │               │           └──  EDU (76, 76): of how words are typically used in language.\n",
      "                            │               └── NS-Elaboration\n",
      "                            │                   ├── SN-Manner-Means\n",
      "                            │                   │   ├──  EDU (77, 77): Transformer models work\n",
      "                            │                   │   └── NS-Elaboration\n",
      "                            │                   │       ├──  EDU (78, 78): by processing input data,\n",
      "                            │                   │       └── NS-Elaboration\n",
      "                            │                   │           ├──  EDU (79, 79): which can be sequences of tokens or other structured data, through a series of layers\n",
      "                            │                   │           └── NN-Same-Unit\n",
      "                            │                   │               ├──  EDU (80, 80): that contain self-attention mechanisms\n",
      "                            │                   │               └──  EDU (81, 81): and feedforward neural networks.\n",
      "                            │                   └── NS-Textual-Organization\n",
      "                            │                       ├── NN-Same-Unit\n",
      "                            │                       │   ├── NS-Elaboration\n",
      "                            │                       │   │   ├──  EDU (82, 82): The core idea\n",
      "                            │                       │   │   └──  EDU (83, 83): behind how transformer models work\n",
      "                            │                       │   └──  EDU (84, 84): can be broken down into several key steps.\n",
      "                            │                       └── NS-Background\n",
      "                            │                           ├── SN-Attribution\n",
      "                            │                           │   ├──  EDU (85, 85): Let's imagine\n",
      "                            │                           │   └── NS-Enablement\n",
      "                            │                           │       ├──  EDU (86, 86): that you need\n",
      "                            │                           │       └──  EDU (87, 87): to convert an English sentence into French.\n",
      "                            │                           └── NS-Elaboration\n",
      "                            │                               ├──  EDU (88, 88): These are the steps\n",
      "                            │                               └── NS-Enablement\n",
      "                            │                                   ├──  EDU (89, 89): you'd need to take\n",
      "                            │                                   └──  EDU (90, 90): to accomplish this task with a transformer model.\n",
      "                            └── NS-Elaboration\n",
      "                                ├── NS-Summary\n",
      "                                │   ├──  EDU (91, 91): Input embeddings: The input sentence is first transformed into numerical representations\n",
      "                                │   └──  EDU (92, 92): called embeddings.\n",
      "                                └── NS-Joint\n",
      "                                    ├── NS-Elaboration\n",
      "                                    │   ├──  EDU (93, 93): These capture the semantic meaning of the tokens in the input sequence.\n",
      "                                    │   └── NN-Joint\n",
      "                                    │       ├──  EDU (94, 94): For sequences of words, these embeddings can be learned during training\n",
      "                                    │       └──  EDU (95, 95): or obtained from pre-trained word embeddings.\n",
      "                                    └── NN-Textual-Organization\n",
      "                                        ├──  EDU (96, 96): Positional encoding:\n",
      "                                        └── NS-Elaboration\n",
      "                                            ├── NS-Elaboration\n",
      "                                            │   ├──  EDU (97, 97): Positional encoding is typically introduced as a set of additional values or vectors\n",
      "                                            │   └── NS-Background\n",
      "                                            │       ├──  EDU (98, 98): that are added to the token embeddings\n",
      "                                            │       └──  EDU (99, 99): before feeding them into the transformer model.\n",
      "                                            └── NN-Elaboration\n",
      "                                                ├── NS-Elaboration\n",
      "                                                │   ├──  EDU (100, 100): These positional encodings have specific patterns\n",
      "                                                │   └──  EDU (101, 101): that encode the position information.\n",
      "                                                └── NN-Joint\n",
      "                                                    ├── NS-Enablement\n",
      "                                                    │   ├──  EDU (102, 102): Multi-head attention: Self-attention operates in multiple \"attention heads\"\n",
      "                                                    │   └──  EDU (103, 103): to capture different types of relationships between tokens.\n",
      "                                                    └── NN-Joint\n",
      "                                                        ├── NN-Same-Unit\n",
      "                                                        │   ├──  EDU (104, 104): Softmax functions, a type of activation function,\n",
      "                                                        │   └── NS-Enablement\n",
      "                                                        │       ├──  EDU (105, 105): are used\n",
      "                                                        │       └──  EDU (106, 106): to calculate attention weights in the self-attention mechanism.\n",
      "                                                        └── NN-Joint\n",
      "                                                            ├── NS-Enablement\n",
      "                                                            │   ├──  EDU (107, 107): Layer normalization and residual connections: The model uses layer normalization and residual connections\n",
      "                                                            │   └──  EDU (108, 108): to stabilize and speed up training.\n",
      "                                                            └── NS-Textual-Organization\n",
      "                                                                ├──  EDU (109, 109): Feedforward neural networks:\n",
      "                                                                └── NS-Elaboration\n",
      "                                                                    ├──  EDU (110, 110): The output of the self-attention layer is passed through feedforward layers.\n",
      "                                                                    └── NS-Elaboration\n",
      "                                                                        ├── NS-Cause\n",
      "                                                                        │   ├──  EDU (111, 111): These networks apply non-linear transformations to the token representations,\n",
      "                                                                        │   └──  EDU (112, 112): allowing the model to capture complex patterns and relationships in the data.\n",
      "                                                                        └── NS-Elaboration\n",
      "                                                                            ├── NS-Elaboration\n",
      "                                                                            │   ├──  EDU (113, 113): Stacked layers: Transformers typically consist of multiple layers\n",
      "                                                                            │   └──  EDU (114, 114): stacked on top of each other.\n",
      "                                                                            └── NS-Elaboration\n",
      "                                                                                ├── NS-Manner-Means\n",
      "                                                                                │   ├──  EDU (115, 115): Each layer processes the output of the previous layer,\n",
      "                                                                                │   └──  EDU (116, 116): gradually refining the representations.\n",
      "                                                                                └── NS-Topic-Change\n",
      "                                                                                    ├── NS-Elaboration\n",
      "                                                                                    │   ├──  EDU (117, 117): Stacking multiple layers enables the model\n",
      "                                                                                    │   └──  EDU (118, 118): to capture hierarchical and abstract features in the data.\n",
      "                                                                                    └── NS-Textual-Organization\n",
      "                                                                                        ├──  EDU (119, 119): Output layer:\n",
      "                                                                                        └── NS-Topic-Change\n",
      "                                                                                            ├── NS-Enablement\n",
      "                                                                                            │   ├──  EDU (120, 120): In sequence-to-sequence tasks like neural machine translation, a separate decoder module can be added on top of the encoder\n",
      "                                                                                            │   └──  EDU (121, 121): to generate the output sequence.\n",
      "                                                                                            └── NN-Temporal\n",
      "                                                                                                ├── NS-Manner-Means\n",
      "                                                                                                │   ├──  EDU (122, 122): Training: Transformer models are trained\n",
      "                                                                                                │   └── NS-Manner-Means\n",
      "                                                                                                │       ├──  EDU (123, 123): using supervised learning,\n",
      "                                                                                                │       └── NS-Elaboration\n",
      "                                                                                                │           ├──  EDU (124, 124): where they learn to minimize a loss function\n",
      "                                                                                                │           └──  EDU (125, 125): that quantifies the difference between the model's predictions and the ground truth for the given task.\n",
      "                                                                                                └── NN-Elaboration\n",
      "                                                                                                    ├── NS-Summary\n",
      "                                                                                                    │   ├──  EDU (126, 126): Training typically involves optimization techniques like Adam or stochastic gradient descent\n",
      "                                                                                                    │   └──  EDU (127, 127): (SGD).\n",
      "                                                                                                    └── NS-Textual-Organization\n",
      "                                                                                                        ├──  EDU (128, 128): Inference:\n",
      "                                                                                                        └── NS-Temporal\n",
      "                                                                                                            ├──  EDU (129, 129): After training, the model can be used for inference on new data.\n",
      "                                                                                                            └── NN-Temporal\n",
      "                                                                                                                ├──  EDU (130, 130): During inference, the input sequence is passed through the pre-trained model,\n",
      "                                                                                                                └──  EDU (131, 131): and the model generates predictions or representations for the given task.\n",
      "\n"
     ]
    }
   ],
   "source": [
    "# fix old tree with new relations\n",
    "\n",
    "new_tree_dict = add_new_relations_to_tree_dict(tree_dict, df)\n",
    "new_rst_tree = visualize_rst_tree(new_tree_dict, get_root_id(new_tree_dict), edus, new_relation=True, get_edu_text=True)\n",
    "\n",
    "print(new_rst_tree.show(stdout=False, sorting=False)) # for visualizing rst_tree"
   ]
  },
  {
   "cell_type": "code",
   "execution_count": 88,
   "metadata": {},
   "outputs": [
    {
     "data": {
      "text/plain": [
       "<BarContainer object of 16 artists>"
      ]
     },
     "execution_count": 88,
     "metadata": {},
     "output_type": "execute_result"
    },
    {
     "data": {
      "image/png": "[encoded data removed]",
      "text/plain": [
       "<Figure size 1200x500 with 1 Axes>"
      ]
     },
     "metadata": {},
     "output_type": "display_data"
    }
   ],
   "source": [
    "label_cnt = pd.Series(pred_labels).value_counts()\n",
    "indices = pd.Series(label_shorthand).reindex(label_cnt.index, fill_value=0)\n",
    "\n",
    "plt.figure(figsize=(12, 5))\n",
    "plt.yticks(np.arange(1, max(label_cnt) + 1))\n",
    "plt.bar(indices, label_cnt)"
   ]
  },
  {
   "cell_type": "code",
   "execution_count": 89,
   "metadata": {},
   "outputs": [
    {
     "data": {
      "text/html": [
       "<div>\n",
       "<style scoped>\n",
       "    .dataframe tbody tr th:only-of-type {\n",
       "        vertical-align: middle;\n",
       "    }\n",
       "\n",
       "    .dataframe tbody tr th {\n",
       "        vertical-align: top;\n",
       "    }\n",
       "\n",
       "    .dataframe thead th {\n",
       "        text-align: right;\n",
       "    }\n",
       "</style>\n",
       "<table border=\"1\" class=\"dataframe\">\n",
       "  <thead>\n",
       "    <tr style=\"text-align: right;\">\n",
       "      <th></th>\n",
       "      <th>pnode_id</th>\n",
       "      <th>nucleus</th>\n",
       "      <th>satellite</th>\n",
       "      <th>original_relation</th>\n",
       "      <th>new_relation</th>\n",
       "    </tr>\n",
       "  </thead>\n",
       "  <tbody>\n",
       "    <tr>\n",
       "      <th>35</th>\n",
       "      <td>140334317843176</td>\n",
       "      <td>Each layer processes the output of the previous layer,</td>\n",
       "      <td>gradually refining the representations.</td>\n",
       "      <td>Cause</td>\n",
       "      <td>Manner-Means</td>\n",
       "    </tr>\n",
       "    <tr>\n",
       "      <th>70</th>\n",
       "      <td>140334317792000</td>\n",
       "      <td>This understanding is learned over time</td>\n",
       "      <td>as a model is trained on lots of data.</td>\n",
       "      <td>Cause</td>\n",
       "      <td>Background</td>\n",
       "    </tr>\n",
       "  </tbody>\n",
       "</table>\n",
       "</div>"
      ],
      "text/plain": [
       "           pnode_id                                                  nucleus  \\\n",
       "35  140334317843176  Each layer processes the output of the previous layer,    \n",
       "70  140334317792000                 This understanding is learned over time    \n",
       "\n",
       "                                   satellite original_relation  new_relation  \n",
       "35  gradually refining the representations.              Cause  Manner-Means  \n",
       "70   as a model is trained on lots of data.              Cause    Background  "
      ]
     },
     "execution_count": 89,
     "metadata": {},
     "output_type": "execute_result"
    }
   ],
   "source": [
    "# find occurences of a specific relation\n",
    "\n",
    "df[df[\"original_relation\"] == \"Cause\"]"
   ]
  },
  {
   "cell_type": "code",
   "execution_count": 90,
   "metadata": {},
   "outputs": [
    {
     "data": {
      "text/html": [
       "<div>\n",
       "<style scoped>\n",
       "    .dataframe tbody tr th:only-of-type {\n",
       "        vertical-align: middle;\n",
       "    }\n",
       "\n",
       "    .dataframe tbody tr th {\n",
       "        vertical-align: top;\n",
       "    }\n",
       "\n",
       "    .dataframe thead th {\n",
       "        text-align: right;\n",
       "    }\n",
       "</style>\n",
       "<table border=\"1\" class=\"dataframe\">\n",
       "  <thead>\n",
       "    <tr style=\"text-align: right;\">\n",
       "      <th></th>\n",
       "      <th>pnode_id</th>\n",
       "      <th>nucleus</th>\n",
       "      <th>satellite</th>\n",
       "      <th>original_relation</th>\n",
       "      <th>new_relation</th>\n",
       "    </tr>\n",
       "  </thead>\n",
       "  <tbody>\n",
       "    <tr>\n",
       "      <th>2</th>\n",
       "      <td>140334317846312</td>\n",
       "      <td>What's more, both approaches run into limitations in retaining context when the -distance- between pieces of information in an input is long.</td>\n",
       "      <td>There are two primary innovations that transformer models bring to the table. Consider these two innovations within the context of predicting text. Positional encoding: Instead of looking at each word in the order that it appears in a sentence, a unique number is assigned to each word. This provides information about the position of each token (parts of the input such as words or subword pieces in NLP) in the sequence, allowing the model to consider the sequence's sequential information. Self-attention: Attention is a mechanism that calculates weights for every word in a sentence as they relate to every other word in the sentence, so the model can predict words which are likely to be used in sequence. This understanding is learned over time as a model is trained on lots of data. The self-attention mechanism allows each word to attend to every other word in the sequence in parallel, weighing their importance for the current token. In this way, it can be said that machine learning models can -learn- the rules of grammar, based on statistical probabilities of how words are typically used in language. Transformer models work by processing input data, which can be sequences of tokens or other structured data, through a series of layers that contain self-attention mechanisms and feedforward neural networks. The core idea behind how transformer models work can be broken down into several key steps. Let's imagine that you need to convert an English sentence into French. These are the steps you'd need to take to accomplish this task with a transformer model. Input embeddings: The input sentence is first transformed into numerical representations called embeddings. These capture the semantic meaning of the tokens in the input sequence. For sequences of words, these embeddings can be learned during training or obtained from pre-trained word embeddings. Positional encoding: Positional encoding is typically introduced as a set of additional values or vectors that are added to the token embeddings before feeding them into the transformer model. These positional encodings have specific patterns that encode the position information. Multi-head attention: Self-attention operates in multiple \"attention heads\" to capture different types of relationships between tokens. Softmax functions, a type of activation function, are used to calculate attention weights in the self-attention mechanism. Layer normalization and residual connections: The model uses layer normalization and residual connections to stabilize and speed up training. Feedforward neural networks: The output of the self-attention layer is passed through feedforward layers. These networks apply non-linear transformations to the token representations, allowing the model to capture complex patterns and relationships in the data. Stacked layers: Transformers typically consist of multiple layers stacked on top of each other. Each layer processes the output of the previous layer, gradually refining the representations. Stacking multiple layers enables the model to capture hierarchical and abstract features in the data. Output layer: In sequence-to-sequence tasks like neural machine translation, a separate decoder module can be added on top of the encoder to generate the output sequence. Training: Transformer models are trained using supervised learning, where they learn to minimize a loss function that quantifies the difference between the model's predictions and the ground truth for the given task. Training typically involves optimization techniques like Adam or stochastic gradient descent (SGD). Inference: After training, the model can be used for inference on new data. During inference, the input sequence is passed through the pre-trained model, and the model generates predictions or representations for the given task.</td>\n",
       "      <td>Joint</td>\n",
       "      <td>Contrast</td>\n",
       "    </tr>\n",
       "    <tr>\n",
       "      <th>93</th>\n",
       "      <td>140334317791048</td>\n",
       "      <td>Transformers process input sequences in parallel, making it highly efficient for training and inference - because you can't just speed things up by adding more GPUs. Transformer models need less training time than previous recurrent neural network architectures such as long short-term memory (LSTM). RNNs and LSTM date back to the 1920s and 1990s, respectively.</td>\n",
       "      <td>These techniques compute each component of an input in sequence (e.g. word by word), so computation can take a long time.</td>\n",
       "      <td>Elaboration</td>\n",
       "      <td>Contrast</td>\n",
       "    </tr>\n",
       "  </tbody>\n",
       "</table>\n",
       "</div>"
      ],
      "text/plain": [
       "           pnode_id  \\\n",
       "2   140334317846312   \n",
       "93  140334317791048   \n",
       "\n",
       "                                                                                                                                                                                                                                                                                                                                                                        nucleus  \\\n",
       "2                                                                                                                                                                                                                                What's more, both approaches run into limitations in retaining context when the -distance- between pieces of information in an input is long.    \n",
       "93  Transformers process input sequences in parallel, making it highly efficient for training and inference - because you can't just speed things up by adding more GPUs. Transformer models need less training time than previous recurrent neural network architectures such as long short-term memory (LSTM). RNNs and LSTM date back to the 1920s and 1990s, respectively.    \n",
       "\n",
       "                                                                                                                                                                                                                                                                                                                                                                                                                                                                                                                                                                                                                                                                                                                                                                                                                                                                                                                                                                                                                                                                                                                                                                                                                                                                                                                                                                                                                                                                                                                                                                                                                                                                                                                                                                                                                                                                                                                                                                                                                                                                                                                                                                                                                                                                                                                                                                                                                                                                                                                                                                                                                                                                                                                                                                                                                                                                                                                                                                                                                                                                                                                                                                                                                                                                                                                                                                                                                                                                                                                                                                                                                                                                                                                                                                                                                                                                                                                                                                               satellite  \\\n",
       "2   There are two primary innovations that transformer models bring to the table. Consider these two innovations within the context of predicting text. Positional encoding: Instead of looking at each word in the order that it appears in a sentence, a unique number is assigned to each word. This provides information about the position of each token (parts of the input such as words or subword pieces in NLP) in the sequence, allowing the model to consider the sequence's sequential information. Self-attention: Attention is a mechanism that calculates weights for every word in a sentence as they relate to every other word in the sentence, so the model can predict words which are likely to be used in sequence. This understanding is learned over time as a model is trained on lots of data. The self-attention mechanism allows each word to attend to every other word in the sequence in parallel, weighing their importance for the current token. In this way, it can be said that machine learning models can -learn- the rules of grammar, based on statistical probabilities of how words are typically used in language. Transformer models work by processing input data, which can be sequences of tokens or other structured data, through a series of layers that contain self-attention mechanisms and feedforward neural networks. The core idea behind how transformer models work can be broken down into several key steps. Let's imagine that you need to convert an English sentence into French. These are the steps you'd need to take to accomplish this task with a transformer model. Input embeddings: The input sentence is first transformed into numerical representations called embeddings. These capture the semantic meaning of the tokens in the input sequence. For sequences of words, these embeddings can be learned during training or obtained from pre-trained word embeddings. Positional encoding: Positional encoding is typically introduced as a set of additional values or vectors that are added to the token embeddings before feeding them into the transformer model. These positional encodings have specific patterns that encode the position information. Multi-head attention: Self-attention operates in multiple \"attention heads\" to capture different types of relationships between tokens. Softmax functions, a type of activation function, are used to calculate attention weights in the self-attention mechanism. Layer normalization and residual connections: The model uses layer normalization and residual connections to stabilize and speed up training. Feedforward neural networks: The output of the self-attention layer is passed through feedforward layers. These networks apply non-linear transformations to the token representations, allowing the model to capture complex patterns and relationships in the data. Stacked layers: Transformers typically consist of multiple layers stacked on top of each other. Each layer processes the output of the previous layer, gradually refining the representations. Stacking multiple layers enables the model to capture hierarchical and abstract features in the data. Output layer: In sequence-to-sequence tasks like neural machine translation, a separate decoder module can be added on top of the encoder to generate the output sequence. Training: Transformer models are trained using supervised learning, where they learn to minimize a loss function that quantifies the difference between the model's predictions and the ground truth for the given task. Training typically involves optimization techniques like Adam or stochastic gradient descent (SGD). Inference: After training, the model can be used for inference on new data. During inference, the input sequence is passed through the pre-trained model, and the model generates predictions or representations for the given task.    \n",
       "93                                                                                                                                                                                                                                                                                                                                                                                                                                                                                                                                                                                                                                                                                                                                                                                                                                                                                                                                                                                                                                                                                                                                                                                                                                                                                                                                                                                                                                                                                                                                                                                                                                                                                                                                                                                                                                                                                                                                                                                                                                                                                                                                                                                                                                                                                                                                                                                                                                                                                                                                                                                                                                                                                                                                                                                                                                                                                                                                                                                                                                                                                                                                                                                                                                                                                                                                                                                                                                                                                                                                                                                                                                                                                                                                                                                                                                                            These techniques compute each component of an input in sequence (e.g. word by word), so computation can take a long time.    \n",
       "\n",
       "   original_relation new_relation  \n",
       "2              Joint     Contrast  \n",
       "93       Elaboration     Contrast  "
      ]
     },
     "execution_count": 90,
     "metadata": {},
     "output_type": "execute_result"
    }
   ],
   "source": [
    "# find occurences of a specific relation\n",
    "\n",
    "df[df[\"new_relation\"] == \"Contrast\"]"
   ]
  },
  {
   "cell_type": "markdown",
   "metadata": {},
   "source": [
    "Helper Block"
   ]
  },
  {
   "cell_type": "code",
   "execution_count": 690,
   "metadata": {},
   "outputs": [
    {
     "data": {
      "text/html": [
       "<span class=\"tex2jax_ignore\"><svg xmlns=\"http://www.w3.org/2000/svg\" xmlns:xlink=\"http://www.w3.org/1999/xlink\" xml:lang=\"en\" id=\"b3e92e4e5fd54f0899f9a32191af27bc-0\" class=\"displacy\" width=\"1275\" height=\"312.0\" direction=\"ltr\" style=\"max-width: none; height: 312.0px; color: #000000; background: #ffffff; font-family: Arial; direction: ltr\">\n",
       "<text class=\"displacy-token\" fill=\"currentColor\" text-anchor=\"middle\" y=\"222.0\">\n",
       "    <tspan class=\"displacy-word\" fill=\"currentColor\" x=\"50\">the</tspan>\n",
       "    <tspan class=\"displacy-tag\" dy=\"2em\" fill=\"currentColor\" x=\"50\">DET</tspan>\n",
       "</text>\n",
       "\n",
       "<text class=\"displacy-token\" fill=\"currentColor\" text-anchor=\"middle\" y=\"222.0\">\n",
       "    <tspan class=\"displacy-word\" fill=\"currentColor\" x=\"225\">model</tspan>\n",
       "    <tspan class=\"displacy-tag\" dy=\"2em\" fill=\"currentColor\" x=\"225\">NOUN</tspan>\n",
       "</text>\n",
       "\n",
       "<text class=\"displacy-token\" fill=\"currentColor\" text-anchor=\"middle\" y=\"222.0\">\n",
       "    <tspan class=\"displacy-word\" fill=\"currentColor\" x=\"400\">is</tspan>\n",
       "    <tspan class=\"displacy-tag\" dy=\"2em\" fill=\"currentColor\" x=\"400\">AUX</tspan>\n",
       "</text>\n",
       "\n",
       "<text class=\"displacy-token\" fill=\"currentColor\" text-anchor=\"middle\" y=\"222.0\">\n",
       "    <tspan class=\"displacy-word\" fill=\"currentColor\" x=\"575\">trained</tspan>\n",
       "    <tspan class=\"displacy-tag\" dy=\"2em\" fill=\"currentColor\" x=\"575\">VERB</tspan>\n",
       "</text>\n",
       "\n",
       "<text class=\"displacy-token\" fill=\"currentColor\" text-anchor=\"middle\" y=\"222.0\">\n",
       "    <tspan class=\"displacy-word\" fill=\"currentColor\" x=\"750\">using</tspan>\n",
       "    <tspan class=\"displacy-tag\" dy=\"2em\" fill=\"currentColor\" x=\"750\">VERB</tspan>\n",
       "</text>\n",
       "\n",
       "<text class=\"displacy-token\" fill=\"currentColor\" text-anchor=\"middle\" y=\"222.0\">\n",
       "    <tspan class=\"displacy-word\" fill=\"currentColor\" x=\"925\">supervised</tspan>\n",
       "    <tspan class=\"displacy-tag\" dy=\"2em\" fill=\"currentColor\" x=\"925\">VERB</tspan>\n",
       "</text>\n",
       "\n",
       "<text class=\"displacy-token\" fill=\"currentColor\" text-anchor=\"middle\" y=\"222.0\">\n",
       "    <tspan class=\"displacy-word\" fill=\"currentColor\" x=\"1100\">learning.</tspan>\n",
       "    <tspan class=\"displacy-tag\" dy=\"2em\" fill=\"currentColor\" x=\"1100\">NOUN</tspan>\n",
       "</text>\n",
       "\n",
       "<g class=\"displacy-arrow\">\n",
       "    <path class=\"displacy-arc\" id=\"arrow-b3e92e4e5fd54f0899f9a32191af27bc-0-0\" stroke-width=\"2px\" d=\"M70,177.0 C70,89.5 220.0,89.5 220.0,177.0\" fill=\"none\" stroke=\"currentColor\"/>\n",
       "    <text dy=\"1.25em\" style=\"font-size: 0.8em; letter-spacing: 1px\">\n",
       "        <textPath xlink:href=\"#arrow-b3e92e4e5fd54f0899f9a32191af27bc-0-0\" class=\"displacy-label\" startOffset=\"50%\" side=\"left\" fill=\"currentColor\" text-anchor=\"middle\">det</textPath>\n",
       "    </text>\n",
       "    <path class=\"displacy-arrowhead\" d=\"M70,179.0 L62,167.0 78,167.0\" fill=\"currentColor\"/>\n",
       "</g>\n",
       "\n",
       "<g class=\"displacy-arrow\">\n",
       "    <path class=\"displacy-arc\" id=\"arrow-b3e92e4e5fd54f0899f9a32191af27bc-0-1\" stroke-width=\"2px\" d=\"M245,177.0 C245,2.0 575.0,2.0 575.0,177.0\" fill=\"none\" stroke=\"currentColor\"/>\n",
       "    <text dy=\"1.25em\" style=\"font-size: 0.8em; letter-spacing: 1px\">\n",
       "        <textPath xlink:href=\"#arrow-b3e92e4e5fd54f0899f9a32191af27bc-0-1\" class=\"displacy-label\" startOffset=\"50%\" side=\"left\" fill=\"currentColor\" text-anchor=\"middle\">nsubjpass</textPath>\n",
       "    </text>\n",
       "    <path class=\"displacy-arrowhead\" d=\"M245,179.0 L237,167.0 253,167.0\" fill=\"currentColor\"/>\n",
       "</g>\n",
       "\n",
       "<g class=\"displacy-arrow\">\n",
       "    <path class=\"displacy-arc\" id=\"arrow-b3e92e4e5fd54f0899f9a32191af27bc-0-2\" stroke-width=\"2px\" d=\"M420,177.0 C420,89.5 570.0,89.5 570.0,177.0\" fill=\"none\" stroke=\"currentColor\"/>\n",
       "    <text dy=\"1.25em\" style=\"font-size: 0.8em; letter-spacing: 1px\">\n",
       "        <textPath xlink:href=\"#arrow-b3e92e4e5fd54f0899f9a32191af27bc-0-2\" class=\"displacy-label\" startOffset=\"50%\" side=\"left\" fill=\"currentColor\" text-anchor=\"middle\">auxpass</textPath>\n",
       "    </text>\n",
       "    <path class=\"displacy-arrowhead\" d=\"M420,179.0 L412,167.0 428,167.0\" fill=\"currentColor\"/>\n",
       "</g>\n",
       "\n",
       "<g class=\"displacy-arrow\">\n",
       "    <path class=\"displacy-arc\" id=\"arrow-b3e92e4e5fd54f0899f9a32191af27bc-0-3\" stroke-width=\"2px\" d=\"M595,177.0 C595,89.5 745.0,89.5 745.0,177.0\" fill=\"none\" stroke=\"currentColor\"/>\n",
       "    <text dy=\"1.25em\" style=\"font-size: 0.8em; letter-spacing: 1px\">\n",
       "        <textPath xlink:href=\"#arrow-b3e92e4e5fd54f0899f9a32191af27bc-0-3\" class=\"displacy-label\" startOffset=\"50%\" side=\"left\" fill=\"currentColor\" text-anchor=\"middle\">advcl</textPath>\n",
       "    </text>\n",
       "    <path class=\"displacy-arrowhead\" d=\"M745.0,179.0 L753.0,167.0 737.0,167.0\" fill=\"currentColor\"/>\n",
       "</g>\n",
       "\n",
       "<g class=\"displacy-arrow\">\n",
       "    <path class=\"displacy-arc\" id=\"arrow-b3e92e4e5fd54f0899f9a32191af27bc-0-4\" stroke-width=\"2px\" d=\"M945,177.0 C945,89.5 1095.0,89.5 1095.0,177.0\" fill=\"none\" stroke=\"currentColor\"/>\n",
       "    <text dy=\"1.25em\" style=\"font-size: 0.8em; letter-spacing: 1px\">\n",
       "        <textPath xlink:href=\"#arrow-b3e92e4e5fd54f0899f9a32191af27bc-0-4\" class=\"displacy-label\" startOffset=\"50%\" side=\"left\" fill=\"currentColor\" text-anchor=\"middle\">amod</textPath>\n",
       "    </text>\n",
       "    <path class=\"displacy-arrowhead\" d=\"M945,179.0 L937,167.0 953,167.0\" fill=\"currentColor\"/>\n",
       "</g>\n",
       "\n",
       "<g class=\"displacy-arrow\">\n",
       "    <path class=\"displacy-arc\" id=\"arrow-b3e92e4e5fd54f0899f9a32191af27bc-0-5\" stroke-width=\"2px\" d=\"M770,177.0 C770,2.0 1100.0,2.0 1100.0,177.0\" fill=\"none\" stroke=\"currentColor\"/>\n",
       "    <text dy=\"1.25em\" style=\"font-size: 0.8em; letter-spacing: 1px\">\n",
       "        <textPath xlink:href=\"#arrow-b3e92e4e5fd54f0899f9a32191af27bc-0-5\" class=\"displacy-label\" startOffset=\"50%\" side=\"left\" fill=\"currentColor\" text-anchor=\"middle\">dobj</textPath>\n",
       "    </text>\n",
       "    <path class=\"displacy-arrowhead\" d=\"M1100.0,179.0 L1108.0,167.0 1092.0,167.0\" fill=\"currentColor\"/>\n",
       "</g>\n",
       "</svg></span>"
      ],
      "text/plain": [
       "<IPython.core.display.HTML object>"
      ]
     },
     "metadata": {},
     "output_type": "display_data"
    }
   ],
   "source": [
    "import spacy\n",
    "from spacy import displacy\n",
    "if 'nlp' not in locals(): # prevent accidental re-run of cell\n",
    "    nlp = spacy.load('en_core_web_trf')\n",
    "\n",
    "sent = \"the model is trained using supervised learning.\"\n",
    "doc = nlp(sent)\n",
    "displacy.render(doc, style=\"dep\")"
   ]
  },
  {
   "cell_type": "markdown",
   "metadata": {},
   "source": []
  },
  {
   "cell_type": "code",
   "execution_count": 672,
   "metadata": {},
   "outputs": [
    {
     "ename": "TypeError",
     "evalue": "'generator' object is not subscriptable",
     "output_type": "error",
     "traceback": [
      "\u001b[0;31m---------------------------------------------------------------------------\u001b[0m",
      "\u001b[0;31mTypeError\u001b[0m                                 Traceback (most recent call last)",
      "Cell \u001b[0;32mIn[672], line 2\u001b[0m\n\u001b[1;32m      1\u001b[0m \u001b[38;5;28;01mfor\u001b[39;00m token \u001b[38;5;129;01min\u001b[39;00m doc:\n\u001b[0;32m----> 2\u001b[0m     \u001b[38;5;28mprint\u001b[39m(\u001b[43mtoken\u001b[49m\u001b[38;5;241;43m.\u001b[39;49m\u001b[43mchildren\u001b[49m\u001b[43m[\u001b[49m\u001b[38;5;241;43m0\u001b[39;49m\u001b[43m]\u001b[49m, \u001b[38;5;124m'\u001b[39m\u001b[38;5;124m-\u001b[39m\u001b[38;5;124m'\u001b[39m, token\u001b[38;5;241m.\u001b[39mtext, \u001b[38;5;124m'\u001b[39m\u001b[38;5;124m-\u001b[39m\u001b[38;5;124m'\u001b[39m, token\u001b[38;5;241m.\u001b[39ment_type_ , \u001b[38;5;124m'\u001b[39m\u001b[38;5;124m-\u001b[39m\u001b[38;5;124m'\u001b[39m, token\u001b[38;5;241m.\u001b[39mdep_)\n",
      "\u001b[0;31mTypeError\u001b[0m: 'generator' object is not subscriptable"
     ]
    }
   ],
   "source": [
    "for token in doc:\n",
    "    print(token.children., '-', token.text, '-', token.ent_type_ , '-', token.dep_)"
   ]
  },
  {
   "cell_type": "code",
   "execution_count": 641,
   "metadata": {},
   "outputs": [
    {
     "name": "stdout",
     "output_type": "stream",
     "text": [
      "I - I\n",
      "Tom - Tom\n",
      "midnight - midnight\n"
     ]
    }
   ],
   "source": [
    "for chunk in doc.noun_chunks:\n",
    "    print(chunk.root, '-', chunk)"
   ]
  },
  {
   "cell_type": "code",
   "execution_count": 619,
   "metadata": {},
   "outputs": [
    {
     "data": {
      "text/plain": [
       "'noun phrase'"
      ]
     },
     "execution_count": 619,
     "metadata": {},
     "output_type": "execute_result"
    }
   ],
   "source": [
    "spacy.explain('NP')"
   ]
  },
  {
   "cell_type": "markdown",
   "metadata": {},
   "source": []
  },
  {
   "cell_type": "markdown",
   "metadata": {},
   "source": [
    "End Helper Block"
   ]
  },
  {
   "cell_type": "markdown",
   "metadata": {},
   "source": [
    "Individual Inference"
   ]
  },
  {
   "cell_type": "code",
   "execution_count": 95,
   "metadata": {},
   "outputs": [
    {
     "data": {
      "text/plain": [
       "'Enablement'"
      ]
     },
     "execution_count": 95,
     "metadata": {},
     "output_type": "execute_result"
    }
   ],
   "source": [
    "device = 'cuda'\n",
    "model.to(device)\n",
    "model.eval()\n",
    "\n",
    "sep = tokenizer.sep_token\n",
    "text_n = \"She used the tool in the garden, \"\n",
    "text_s = \"in order to win.\"\n",
    "text = text_n + sep + text_s\n",
    "\n",
    "with torch.no_grad():\n",
    "    tokens = tokenizer(text, padding=True, truncation=True, return_tensors='pt').to(device)\n",
    "    output = model(**tokens)\n",
    "    logits = torch.Tensor.cpu(output.logits)\n",
    "    single_pred = int(np.argmax(logits, axis=-1))\n",
    "    \n",
    "le.inverse_transform([single_pred])[0]"
   ]
  },
  {
   "cell_type": "markdown",
   "metadata": {},
   "source": [
    "# Question Generation"
   ]
  },
  {
   "cell_type": "markdown",
   "metadata": {},
   "source": [
    "Utils"
   ]
  },
  {
   "cell_type": "code",
   "execution_count": 96,
   "metadata": {},
   "outputs": [],
   "source": [
    "RELATIVE_PRONOUNS = ['who', 'that', 'whose', 'which']"
   ]
  },
  {
   "cell_type": "code",
   "execution_count": 97,
   "metadata": {},
   "outputs": [],
   "source": [
    "import spacy\n",
    "from spacy import displacy\n",
    "\n",
    "nlp = spacy.load('en_core_web_trf')\n",
    "nlp_small = spacy.load(\"en_core_web_sm\")"
   ]
  },
  {
   "cell_type": "code",
   "execution_count": 98,
   "metadata": {},
   "outputs": [],
   "source": [
    "def get_subj(clause, accept_pron=True, accept_expl=False):\n",
    "    \"\"\"Return subject of clause, None of none found\n",
    "\n",
    "    Args:\n",
    "        clause (str): \n",
    "        accept_expl (bool, optional): If take expletive as subject. Defaults to False.\n",
    "        accept_expl (bool, optional): If take pronoun as subject. Defaults to True.\n",
    "\n",
    "    Returns:\n",
    "        str: The subject\n",
    "    \"\"\"\n",
    "    doc = nlp(clause)\n",
    "\n",
    "    for token in doc:\n",
    "        if 'nsubj' in token.dep_:\n",
    "            if token.pos_ == \"PRON\" and not accept_pron:\n",
    "                continue\n",
    "            for chunk in doc.noun_chunks:\n",
    "                if chunk.start <= token.i and token.i < chunk.end:\n",
    "                    return chunk.text\n",
    "        if accept_expl:\n",
    "            if 'expl' in token.dep_:\n",
    "                return token.text\n",
    "    return None"
   ]
  },
  {
   "cell_type": "code",
   "execution_count": 691,
   "metadata": {},
   "outputs": [],
   "source": [
    "# WORKING: make a more fool proof method of checking relative clause: inputing both source sents and text, and use pos tags to determine, refer to : is_dependent_clause()\n",
    "def check_relative_clause(text):\n",
    "    \"\"\"Return if the text (has to contain only one clause) is a relative clause, \n",
    "    relative clauses can start with \"which\", \"Ving, \"Ved\" (not including adverbial clause)\n",
    "\n",
    "    Args:\n",
    "        text\n",
    "    Return\n",
    "        boolean\n",
    "    \"\"\"\n",
    "    doc = nlp(text)\n",
    "\n",
    "    for token in doc:\n",
    "        if (token.dep_ == \"nsubj\"):\n",
    "            if (token.text.lower() in RELATIVE_PRONOUNS):\n",
    "                return 1 # relative clause starting with relative pronouns\n",
    "            return 0\n",
    "\n",
    "    for token in doc:\n",
    "        if token.pos_ not in ['SPACE', 'PUNCT']:\n",
    "            if (token.pos_ == \"VERB\") and (token.tag_ in ['VBG', 'VBN']):\n",
    "                # WORKING: Change way to check tense, use tag_ instead of morph\n",
    "                if len(token.morph.get('Tense')) == 0:\n",
    "                    return 0 # not relative clause\n",
    "                if (token.text.endswith('ing')) or (token.tag_ ==  'VBN'):\n",
    "                    return 2 # shortened relative clause (ending with Ving or Ved)\n",
    "            else: \n",
    "                return 0"
   ]
  },
  {
   "cell_type": "code",
   "execution_count": 676,
   "metadata": {},
   "outputs": [
    {
     "data": {
      "text/plain": [
       "0"
      ]
     },
     "execution_count": 676,
     "metadata": {},
     "output_type": "execute_result"
    }
   ],
   "source": [
    "check_relative_clause(\"where they learn to minimize a loss function that quantifies the difference between the model's predictions and the ground truth for the given task.\")"
   ]
  },
  {
   "cell_type": "code",
   "execution_count": 452,
   "metadata": {},
   "outputs": [],
   "source": [
    "def find_boundary(sent_doc, text_doc):\n",
    "    \"\"\"Find boundary indices of text_doc in sent_doc (given that text_doc is in sent_doc)\n",
    "\n",
    "    Args:\n",
    "        sent_doc (nlp Doc): \n",
    "        text_doc (nlp Doc): \n",
    "    \"\"\"\n",
    "    start_ind = 0\n",
    "    while start_ind < len(sent_doc):\n",
    "        if text_doc.text not in sent_doc[start_ind:].text:\n",
    "            break\n",
    "        start_ind += 1\n",
    "    start_ind -= 1\n",
    "\n",
    "    end_ind = len(sent_doc)\n",
    "    while end_ind > 0:\n",
    "        if (text_doc.text not in sent_doc[:end_ind].text) or (end_ind <= start_ind):\n",
    "            break\n",
    "        end_ind -= 1\n",
    "    end_ind += 1\n",
    "\n",
    "    return start_ind, end_ind\n",
    "\n",
    "def is_dependent_clause(src_sent, text):\n",
    "    # WORKING: may use this way to check relative clause as well\n",
    "    sent_doc = nlp(src_sent)\n",
    "    text_doc = nlp(text)   \n",
    "\n",
    "    start_ind, end_ind = find_boundary(sent_doc, text_doc)\n",
    "    if start_ind < 0 or end_ind > len(sent_doc):\n",
    "        print(\"\\nText not found in source sentence!\\n\")\n",
    "        return None\n",
    "\n",
    "    for token in sent_doc[start_ind:end_ind]:\n",
    "        if token.dep_ in ['acl', 'ccomp', 'advcl', 'xcomp']:\n",
    "            if token.head.i in range(start_ind, end_ind):\n",
    "                return False\n",
    "            return True\n",
    "    return False     "
   ]
  },
  {
   "cell_type": "code",
   "execution_count": 101,
   "metadata": {},
   "outputs": [
    {
     "data": {
      "text/plain": [
       "False"
      ]
     },
     "execution_count": 101,
     "metadata": {},
     "output_type": "execute_result"
    }
   ],
   "source": [
    "5 in range(6, 6)"
   ]
  },
  {
   "cell_type": "code",
   "execution_count": 688,
   "metadata": {},
   "outputs": [
    {
     "name": "stdout",
     "output_type": "stream",
     "text": [
      "learning\n"
     ]
    },
    {
     "data": {
      "text/plain": [
       "('Training: Transformer models are trained using which is supervised learning',\n",
       " 'using which is supervised learning')"
      ]
     },
     "execution_count": 688,
     "metadata": {},
     "output_type": "execute_result"
    }
   ],
   "source": [
    "unshorten_relative_clause(\"Training: Transformer models are trained using supervised learning\", \"using supervised learning\")"
   ]
  },
  {
   "cell_type": "code",
   "execution_count": 666,
   "metadata": {},
   "outputs": [],
   "source": [
    "import inflect\n",
    "p = inflect.engine()\n",
    "\n",
    "def unshorten_relative_clause(original_sent, clause):\n",
    "    \"\"\"Unshorten relative clause (make sure it's a relative clause before calling this method) ending with Ving or Ved, convert them to which/who + V\n",
    "\n",
    "    Args:\n",
    "        clause (str): relative clause containing Ving or Ved\n",
    "        original_sent (str): original sentence containing that clause\n",
    "    Return:\n",
    "        tuple(str, str): modified clause and source sentence\n",
    "    \"\"\"\n",
    "\n",
    "    clause_doc = nlp(clause)\n",
    "    text_doc = nlp(original_sent)\n",
    "    vb = \"\"\n",
    "\n",
    "    for token in clause_doc:\n",
    "        if token.pos_ not in ['SPACE', 'PUNCT']:\n",
    "            if (token.pos_ == \"VERB\") and (token.tag_ in ['VBG', 'VBN']): # finds Ving or Ved\n",
    "                vb = token\n",
    "\n",
    "    for v_token in text_doc:\n",
    "        # find verb in original sentence\n",
    "        if v_token.text == vb.text.strip():\n",
    "            c_i = vb.i\n",
    "            t_i = v_token.i\n",
    "            is_verb = True\n",
    "            while c_i < len(clause_doc) and t_i < len(text_doc):\n",
    "                if clause_doc[c_i].text.strip() != text_doc[t_i].text.strip():\n",
    "                    is_verb = False\n",
    "                    break\n",
    "                c_i += 1\n",
    "                t_i += 1\n",
    "            if is_verb:\n",
    "                break\n",
    "    \n",
    "    pointed_noun = v_token.head\n",
    "    pointed_noun_chunk = None\n",
    "    for chunk in text_doc.noun_chunks:\n",
    "        if chunk.start <= pointed_noun.i and pointed_noun.i < chunk.end:\n",
    "            pointed_noun_chunk = chunk\n",
    "    \n",
    "    if pointed_noun_chunk:\n",
    "        pointed_root_noun = pointed_noun_chunk.root\n",
    "    else:\n",
    "        pointed_root_noun = pointed_noun\n",
    "    \n",
    "    rel_pro = \"which\" \n",
    "    # not a fool-proof way to determine if noun is person\n",
    "    if pointed_root_noun.ent_type_:\n",
    "        if pointed_root_noun.ent_type_ == \"PERSON\":\n",
    "            rel_pro = \"who\"\n",
    "\n",
    "    # check plurality of noun/pronoun and conjugate accordingly\n",
    "    # only applicable for Present Tense, not for past or others\n",
    "    if pointed_root_noun.pos_.startswith(\"NOUN\"): # noun\n",
    "        plurality = pointed_root_noun.tag_ == \"NNS\"\n",
    "    elif \"PRON\" in pointed_root_noun.pos_:  # pronoun\n",
    "        plurality = (pointed_root_noun.lemma_ == \"we\") or (pointed_root_noun.lemma_ == \"you\") or (pointed_root_noun.lemma_ == \"they\") or ((pointed_root_noun.lemma_ == \"I\"))\n",
    "    else: # WORKING: for other cases where relative pronoun does not point to a noun, but a verb or a clause\n",
    "        plurality = False # temporary solution\n",
    "\n",
    "    if not plurality:\n",
    "        if vb.tag_ == 'VBG':\n",
    "            conj_vb = p.plural_noun(vb.lemma_) # get singular conjugation (plural_noun() method works with verbs too)\n",
    "        else:\n",
    "            if pointed_root_noun.text.strip() == \"I\":\n",
    "                aux = 'am'\n",
    "            else:\n",
    "                aux = 'is'\n",
    "            conj_vb = aux + ' ' + vb.text\n",
    "    else:\n",
    "        if vb.tag_ == 'VGB':\n",
    "            conj_vb = p.plural_verb(vb.lemma_) # get plural conjugation\n",
    "        else:\n",
    "            if pointed_root_noun.text.strip() == \"I\":\n",
    "                aux = 'am'\n",
    "            else:\n",
    "                aux = 'are'\n",
    "            conj_vb = aux + ' ' + vb.text\n",
    "\n",
    "    fixed_clause = clause.replace(vb.text, rel_pro + ' ' +  conj_vb, 1)# replace only the first occurence of the verb\n",
    "    fixed_sent = original_sent.replace(clause.strip(), fixed_clause.strip(), 1)\n",
    "    return  (fixed_sent, fixed_clause)"
   ]
  },
  {
   "cell_type": "code",
   "execution_count": 667,
   "metadata": {},
   "outputs": [
    {
     "name": "stdout",
     "output_type": "stream",
     "text": [
      "saw\n"
     ]
    },
    {
     "data": {
      "text/plain": [
       "('I saw Tom which walks at midnight', 'which walks at midnight')"
      ]
     },
     "execution_count": 667,
     "metadata": {},
     "output_type": "execute_result"
    }
   ],
   "source": [
    "unshorten_relative_clause(\"I saw Tom walking at midnight\", \"walking at midnight\")"
   ]
  },
  {
   "cell_type": "code",
   "execution_count": 593,
   "metadata": {},
   "outputs": [],
   "source": [
    "# WORKING: Need to handle all types of shortened relative clauses, for now, only Ving and Ved is covered."
   ]
  },
  {
   "cell_type": "code",
   "execution_count": 526,
   "metadata": {},
   "outputs": [],
   "source": [
    "def is_one_clause(text, count_relative_clause=True):\n",
    "    \"\"\"Check if input text is one clause or multiple.\n",
    "        NOTE: If not multiple clause, the method returns true, so does not account for the case of not a full clause, just check whether multiple clauses or not, cause a EDU is usually at least a clause semantically. \n",
    "\n",
    "    Args:\n",
    "        text (_type_): _description_\n",
    "\n",
    "    Returns:\n",
    "        _type_: _description_\n",
    "    \"\"\"\n",
    "    doc = nlp(text)\n",
    "\n",
    "    # check how many subjects\n",
    "    has_subj = False\n",
    "    for token in doc:\n",
    "        if \"nsubj\" in token.dep_:\n",
    "            if not count_relative_clause:\n",
    "                if token.text.lower() in ['who', 'whom', 'whose', 'which', 'that']:\n",
    "                    continue\n",
    "                if token.head.dep_ in ['relcl', 'acl', 'ccomp']:\n",
    "                    continue\n",
    "            if has_subj:\n",
    "                return False\n",
    "            else:\n",
    "                has_subj = True\n",
    "    return True # not return has_subj, so that even no subject will be 1 clause"
   ]
  },
  {
   "cell_type": "code",
   "execution_count": 105,
   "metadata": {},
   "outputs": [],
   "source": [
    "def has_aux(sentence):\n",
    "    \"\"\"Check if sentence has auxiliary verb.\n",
    "    Input one sentence only.\n",
    "    \"\"\"\n",
    "    doc = nlp(sentence)\n",
    "    for token in doc:\n",
    "        if \"AUX\" in token.pos_:\n",
    "            return True\n",
    "    return False"
   ]
  },
  {
   "cell_type": "code",
   "execution_count": 106,
   "metadata": {},
   "outputs": [],
   "source": [
    "def move_aux_to_beginning(sentence):\n",
    "    \"\"\"Move auxiliary verb to the beginning of sentence (to form question).\n",
    "    Input one sentence only. Make sure it has aux verb. Make sure sentence starts with subject.\n",
    "    \"\"\"\n",
    "    doc = nlp(sentence)\n",
    "    aux = \"\"\n",
    "    for token in doc:\n",
    "        if \"AUX\" in token.pos_:\n",
    "            aux = token.text\n",
    "            break\n",
    "    assert len(aux)\n",
    "\n",
    "\n",
    "    new_sent = aux + ' ' + sentence.strip().replace(aux, '', 1).replace(sentence[0], sentence[0].lower(), 1)\n",
    "\n",
    "    return new_sent"
   ]
  },
  {
   "cell_type": "code",
   "execution_count": 107,
   "metadata": {},
   "outputs": [
    {
     "name": "stdout",
     "output_type": "stream",
     "text": [
      "can the person on the right  be her father, I can do it if not.\n"
     ]
    }
   ],
   "source": [
    "# move aux test run\n",
    "\n",
    "txt = \"The person on the right can be her father, I can do it if not.\"\n",
    "if has_aux(txt):\n",
    "    print(move_aux_to_beginning(txt))"
   ]
  },
  {
   "cell_type": "code",
   "execution_count": 108,
   "metadata": {},
   "outputs": [],
   "source": [
    "def has_verb(sentence):\n",
    "    \"\"\"Check if sentence has normal verb.\n",
    "    Input one sentence only.\n",
    "    \"\"\"\n",
    "    doc = nlp(sentence)\n",
    "    for token in doc:\n",
    "        if \"VERB\" in token.pos_:\n",
    "            return True\n",
    "    return False"
   ]
  },
  {
   "cell_type": "code",
   "execution_count": 564,
   "metadata": {},
   "outputs": [],
   "source": [
    "def choose_and_replace_aux_for_verb(sentence):\n",
    "    \"\"\"Put appropriate aux at beginnging of clause \n",
    "    \"\"\"\n",
    "    doc = nlp(sentence)\n",
    "    main_verb = None\n",
    "\n",
    "    for token in doc:\n",
    "        if \"VERB\" in token.pos_:\n",
    "            main_verb = token\n",
    "            break\n",
    "            \n",
    "    if not main_verb:\n",
    "        print(\"\\nCan't find main verb in\", sentence, '!\\n')\n",
    "        return \"\"\n",
    "    \n",
    "    # check plurality\n",
    "    pointed_noun = main_verb.head\n",
    "    if pointed_noun.pos_.startswith(\"NOUN\"): # noun\n",
    "        plurality = pointed_noun.tag_ == \"NNS\"\n",
    "    elif pointed_noun.pos_.startswith(\"PRP\"):  # pronoun\n",
    "        plurality = (pointed_noun.lemma_ == \"we\") or (pointed_noun.lemma_ == \"you\") or (pointed_noun.lemma_ == \"they\")\n",
    "    else: # WORKING: for other cases where relative pronoun does not point to a noun, but a verb or a clause\n",
    "        plurality = True # temporary solution\n",
    "\n",
    "    # check tense\n",
    "    tense = \"present\" if main_verb.tag_ in ['VBZ', 'VBP'] else 'past'\n",
    "    # get aux\n",
    "    aux = {\n",
    "      \"present\": \"do\" if plurality else \"does\",\n",
    "      \"past\": \"did\",\n",
    "    }.get(tense)\n",
    "\n",
    "    # replace appropriate auxilary\n",
    "    new_sent = sentence.replace(main_verb.text, main_verb.lemma_, 1)\n",
    "    new_sent = aux + ' ' + new_sent\n",
    "\n",
    "    return new_sent"
   ]
  },
  {
   "cell_type": "code",
   "execution_count": 110,
   "metadata": {},
   "outputs": [
    {
     "name": "stdout",
     "output_type": "stream",
     "text": [
      "did he hit down.\n"
     ]
    }
   ],
   "source": [
    "# move verb test run\n",
    "\n",
    "txt = \"he hit down.\"\n",
    "if has_verb(txt):\n",
    "    print(choose_and_replace_aux_for_verb(txt))"
   ]
  },
  {
   "cell_type": "code",
   "execution_count": 111,
   "metadata": {},
   "outputs": [],
   "source": [
    "def remove_ending_special_chars(sentence):\n",
    "    \"\"\"Remove ending non-word characters of a sentence\n",
    "\n",
    "    Args:\n",
    "        sentence (str): sentence to be stripped\n",
    "\n",
    "    Returns:\n",
    "        str: stripped sentence \n",
    "    \"\"\"\n",
    "    sen_len = len(sentence)\n",
    "    for i in range(sen_len - 1, -1, -1):\n",
    "        char = sentence[i]\n",
    "\n",
    "        # check if the character is a punctuation mark\n",
    "        if char.isalnum():\n",
    "            return sentence\n",
    "        else:\n",
    "            sentence = sentence[:i]\n",
    "    return sentence.strip()"
   ]
  },
  {
   "cell_type": "code",
   "execution_count": 112,
   "metadata": {},
   "outputs": [],
   "source": [
    "def remove_leading_special_chars(sentence):\n",
    "    \"\"\"Remove leading non-word characters of a sentence\n",
    "\n",
    "    Args:\n",
    "        sentence (str): sentence to be stripped\n",
    "\n",
    "    Returns:\n",
    "        str: stripped sentence \n",
    "    \"\"\"\n",
    "\n",
    "    start_ind = 0\n",
    "    for i in range(0, len(sentence)):\n",
    "        char = sentence[i]\n",
    "        # check if the character is a punctuation mark\n",
    "        if char.isalnum():\n",
    "            break\n",
    "        else:\n",
    "            start_ind = i + 1\n",
    "\n",
    "    return sentence[start_ind: ].strip()"
   ]
  },
  {
   "cell_type": "code",
   "execution_count": 299,
   "metadata": {},
   "outputs": [],
   "source": [
    "import re\n",
    "def split_into_sentences(text):\n",
    "    \"\"\"Split text into sentence\n",
    "\n",
    "    Args:\n",
    "        text (str): text to be plited\n",
    "    Return: \n",
    "        list[str]: spit text\n",
    "    \"\"\"\n",
    "    sents = re.split(r\"(?<!\\w\\.\\w.)(?<![A-Z][a-z]\\.)(?<=\\.|\\?|\\!)\", text)\n",
    "    sents = [sent for sent in sents if len(sent.strip())]\n",
    "    return sents"
   ]
  },
  {
   "cell_type": "code",
   "execution_count": 315,
   "metadata": {},
   "outputs": [],
   "source": [
    "import math\n",
    "\n",
    "def find_source_sents(sents, text, span=2):\n",
    "    \"\"\"Find the sentences of which the text is a part. \n",
    "\n",
    "    Args:\n",
    "        sents (str): \n",
    "        text (str): \n",
    "        span (int): span of sentences to the left to return\n",
    "    \"\"\"\n",
    "    start_ind = 0\n",
    "    while start_ind < len(sents):\n",
    "        if text not in ''.join(sents[start_ind:]):\n",
    "            break\n",
    "        start_ind += 1\n",
    "    start_ind -= 1\n",
    "\n",
    "    end_ind = len(sents) # exclusive\n",
    "    while end_ind > 0:\n",
    "        if (text not in ''.join(sents[:end_ind])) or (end_ind <= start_ind):\n",
    "            break\n",
    "        end_ind -= 1\n",
    "    end_ind += 1\n",
    "\n",
    "    if (start_ind < 0) or (end_ind > len(sents)):\n",
    "        print(\"\\nCan't find source sentences\\n\")\n",
    "        return None\n",
    "    \n",
    "    src_sents = ''.join(sents[max(start_ind - span, 0):end_ind])\n",
    "    return src_sents"
   ]
  },
  {
   "cell_type": "code",
   "execution_count": null,
   "metadata": {},
   "outputs": [],
   "source": []
  },
  {
   "cell_type": "code",
   "execution_count": 579,
   "metadata": {},
   "outputs": [],
   "source": [
    "def add_subject_to_relative_clause(original_sent, clause):\n",
    "    \"\"\"Find and Prepend (with modifications) the subject of relative clause that does not contain one\n",
    "\n",
    "    Args:\n",
    "        original_sent (str): sentence from which the clause is extracted\n",
    "        clause (str): clause for which to find subject\n",
    "    Return:\n",
    "        str: subject\n",
    "    \"\"\"\n",
    "    doc = nlp(original_sent)\n",
    "    subj = \"\"\n",
    "    clause_start_ind = original_sent.find(clause)\n",
    "    for token in doc:\n",
    "        if (len(subj)):\n",
    "            break\n",
    "        if (token.dep_ in ['relcl', 'acl']) and (token.idx >= clause_start_ind) and (token.idx < (clause_start_ind + len(clause))): # relative clause is noun modifier\n",
    "            for chunk in doc.noun_chunks:\n",
    "                if token.head.i >= chunk.start and token.head.i < chunk.end:\n",
    "                    subj = chunk.text\n",
    "                    break\n",
    "        \n",
    "        # WORKING: relative clause is verb/adverb/adjective modifier, not sure if it's necessary tho\n",
    "        # 'cause adverbial clauses are often in relations that do not require unshortening of clause\n",
    "        if (token.dep_ in ['advcl', 'ccomp']) and (token.idx >= clause_start_ind) and (token.idx < (clause_start_ind + len(clause))): \n",
    "            print(\"\\nFound Adverbial Clause\\n\")\n",
    "            return None\n",
    "            # for chunk in doc.noun_chunks:\n",
    "            #     if token.head.i >= chunk.start and token.head.i < chunk.end:\n",
    "            #         subj = chunk.text\n",
    "            #         break\n",
    "                    \n",
    "    if not len(subj): # not found subject\n",
    "        print(\"\\nCan't find subject of\", original_sent, \"!\\n\")\n",
    "        return None         \n",
    "    \n",
    "    for token in doc:\n",
    "        if (token.dep_ == \"nsubj\") and (token.text.lower() in RELATIVE_PRONOUNS):\n",
    "            new_clause = clause.replace(token.text, subj) # contains more nuances (where -> in + N, which -> N, who -> N)\n",
    "            new_sent = original_sent.replace(clause.strip(), new_clause,strip(), 1)\n",
    "            return new_sent, new_clause"
   ]
  },
  {
   "cell_type": "code",
   "execution_count": 116,
   "metadata": {},
   "outputs": [],
   "source": [
    "# add subject test run\n",
    "txt =\"For instance, on the MNLI task, the BERT_base accuracy improves by 1.0% when that trains on 1M steps (128,000 words batch size)\"\n",
    "txt_c = \"that trains on 1M steps (128,000 words batch size)\"\n",
    "add_subject_to_relative_clause(txt, txt_c)"
   ]
  },
  {
   "cell_type": "code",
   "execution_count": 117,
   "metadata": {},
   "outputs": [],
   "source": [
    "def remove_leading_conjunction(original_sent, text):\n",
    "    \"\"\"Remove leading conjunctions from text, return intact if cannot find any\n",
    "\n",
    "    Args:\n",
    "        original_sent (_type_): _description_\n",
    "        text (_type_): _description_\n",
    "\n",
    "    Returns:\n",
    "        _type_: _description_\n",
    "    \"\"\"\n",
    "    doc = nlp(text)\n",
    "    \n",
    "    for token in doc:\n",
    "        if token.pos_ in ['PUNCT', 'SYM']:\n",
    "            continue\n",
    "        if \"CONJ\" not in token.pos_:\n",
    "            return (original_sent, text)\n",
    "        conj = token.text\n",
    "        break\n",
    "\n",
    "    new_text = text.replace(conj.strip(), '', 1)\n",
    "    new_sent = original_sent.replace(text, new_text)\n",
    "\n",
    "    return (new_sent, new_text)"
   ]
  },
  {
   "cell_type": "code",
   "execution_count": 118,
   "metadata": {},
   "outputs": [],
   "source": [
    "def remove_leading_adverb(original_sent, text):\n",
    "    \"\"\"Remove leading adverb from text, return intact if cannot find any\n",
    "\n",
    "    Args:\n",
    "        original_sent (_type_): _description_\n",
    "        text (_type_): _description_\n",
    "\n",
    "    Returns:\n",
    "        _type_: _description_\n",
    "    \"\"\"\n",
    "    doc = nlp(text)\n",
    "    \n",
    "    for token in doc:\n",
    "        if token.pos_ in ['PUNCT', 'SYM']:\n",
    "            continue\n",
    "        if token.pos_ != 'ADV':\n",
    "            return (original_sent, text)\n",
    "        adv = token.text\n",
    "        break\n",
    "\n",
    "    new_text = text.replace(adv.strip(), '', 1)\n",
    "    new_sent = original_sent.replace(text, new_text)\n",
    "\n",
    "    return (new_sent, new_text)"
   ]
  },
  {
   "cell_type": "code",
   "execution_count": 119,
   "metadata": {},
   "outputs": [],
   "source": [
    "DISCOURSE_MARKERS = [\n",
    "  'accordingly', 'additionally', 'afterward', 'also',\n",
    "  'although', 'as a final point', 'as a result', 'assuming that', 'because', 'this is because'\n",
    "  'besides', 'but also', 'compared to', 'consequently', 'conversely', 'despite',\n",
    "  'even though', 'finally', 'first', 'firstly', 'for example', 'for instance',\n",
    "  'for the purpose of', 'furthermore', 'hence', 'however', 'if', 'importantly',\n",
    "  'in addition', 'in case', 'in conclusion', 'in contrast', 'by contrast', 'in fact',\n",
    "  'in order to', 'in other words', 'in the event that', 'in the same way',\n",
    "  'indeed', 'just as', 'lastly', 'likewise', 'moreover', 'namely',\n",
    "  'nevertheless', 'next', 'nonetheless', 'not only', 'of course', 'on condition that',\n",
    "  'on the contrary', 'on the one hand', 'on the other hand', 'otherwise', 'plus', 'previously',\n",
    "  'provided that', 'second', 'secondly', 'similarly', 'similarly to', 'since',\n",
    "  'so', 'so that', 'specifically', 'subsequently', 'such as', 'that is to say', 'that is'\n",
    "  'then', 'therefore', 'third', 'thirdly', 'thus', 'to conclude', 'to illustrate',\n",
    "  'to put it differently', 'to sum up', 'ultimately', 'undoubtedly', 'unless',\n",
    "  'while', 'with the aim of', 'yet', 'then', 'and then'\n",
    "  'as a consequence', 'as a result',\n",
    "]"
   ]
  },
  {
   "cell_type": "code",
   "execution_count": 120,
   "metadata": {},
   "outputs": [],
   "source": [
    "import re\n",
    "\n",
    "def remove_leading_discourse_marker(original_sent, text):\n",
    "    \"\"\"Remove leading discourse markers from text, return intact if cannot find any\n",
    "\n",
    "    Args:\n",
    "        original_sent (_type_): _description_\n",
    "        text (_type_): _description_\n",
    "\n",
    "    Returns:\n",
    "        _type_: _description_\n",
    "    \"\"\"\n",
    "\n",
    "    discourse_marker = None\n",
    "    min_pos = len(text)\n",
    "    for dm in DISCOURSE_MARKERS:\n",
    "        find_result = text.lower().find(dm)\n",
    "        if find_result > -1:\n",
    "            if find_result < min_pos:\n",
    "                min_pos = find_result\n",
    "                discourse_marker = dm\n",
    "            if find_result == min_pos and len(dm) > len(discourse_marker):\n",
    "                discourse_marker = dm\n",
    "    \n",
    "    # check if found marker stand at the beginning of text\n",
    "        \n",
    "    if discourse_marker is not None:\n",
    "        for i in range(0, min_pos):\n",
    "            if text[i].isalnum() or text[min_pos + len(discourse_marker)].isalnum():\n",
    "                discourse_marker = None\n",
    "                break\n",
    "            \n",
    "    if not discourse_marker:\n",
    "        return (original_sent, text)\n",
    "\n",
    "    pattern = re.compile(discourse_marker, re.IGNORECASE)\n",
    "\n",
    "    new_text = pattern.sub(\"\", text, 1)\n",
    "    new_sent = original_sent.replace(text, new_text)\n",
    "    \n",
    "    return (new_sent, new_text)"
   ]
  },
  {
   "cell_type": "code",
   "execution_count": 121,
   "metadata": {},
   "outputs": [],
   "source": [
    "# to be integrated\n",
    "\n",
    "def replace_substr(text, substring, start_ind, end_ind):\n",
    "  \"\"\"Replace part of text with specified index [start_ind, end_ind) with substring\n",
    "  \"\"\"\n",
    "  try:\n",
    "    assert(len(substring)  == end_ind - start_ind)\n",
    "  except:\n",
    "    print('Text:', text, '--', sep='')\n",
    "    print('Substring:', substring, '--', sep='')\n",
    "\n",
    "  text_l = list(text)\n",
    "  text_l[start_ind:end_ind] = list(substring)\n",
    "\n",
    "  return ''.join(text_l)"
   ]
  },
  {
   "cell_type": "code",
   "execution_count": 122,
   "metadata": {},
   "outputs": [],
   "source": [
    "def is_in_ref(index, clusters):\n",
    "    \"\"\"Check if current index is in one of the references\n",
    "    \n",
    "    Args:\n",
    "        index (int): index to check\n",
    "        clusters (list(list(tuple))): list of cluster, each cluster containing a list of tuple correponding to indices of the references\n",
    "    Return:\n",
    "        tuple (verdict, (start, end), (ref_token_start, ref_token_end)): -1 both index if not found, ref_token is token to relace\n",
    "    \"\"\"\n",
    "    for cluster in clusters:\n",
    "        for token in cluster:\n",
    "            if cluster.index(token) == 0:\n",
    "                continue\n",
    "            if index >= token[0] and index < token[1]:\n",
    "                ref_token = (cluster[0][0], cluster[0][1])\n",
    "                return True, token, ref_token\n",
    "            \n",
    "    return False, (-1, -1), (-1, -1)"
   ]
  },
  {
   "cell_type": "code",
   "execution_count": 347,
   "metadata": {},
   "outputs": [],
   "source": [
    "def check_relative_clause_type(clause):\n",
    "    \"\"\"Check which type of relative clause \"clause\" is: \n",
    "    - which + V + clause (present subject is sufficient for being clause)\n",
    "    - which + V + (not clause)\n",
    "\n",
    "    Args:\n",
    "        sent (str): \n",
    "        clause (str): \n",
    "    Return: 0 or 1, -1 if not relative clause expected (not start with which + V), then it could be an adverbial clause\n",
    "    \"\"\"\n",
    "\n",
    "    doc = nlp(clause.strip())\n",
    "\n",
    "    i = 0\n",
    "    while i < len(doc):\n",
    "        token = doc[i]\n",
    "        if token.pos_ not in ['SPACE', 'PUNCT']:\n",
    "            if \"PRON\" not in token.pos_: \n",
    "                return -1\n",
    "            else:\n",
    "                break\n",
    "        i += 1\n",
    "\n",
    "    i += 1 \n",
    "    while i < len(doc):\n",
    "        token = doc[i]\n",
    "        if token.pos_ not in ['SPACE', 'PUNCT']:\n",
    "            if \"VERB\" not in token.pos_ and \"AUX\" not in token.pos_: \n",
    "                return -1        \n",
    "            else:\n",
    "                break\n",
    "        i += 1\n",
    "    \n",
    "    # if reach here, is expected relative clause type (which + V)\n",
    "    i += 1\n",
    "    t_i = i # use to this to check subject and not modify i\n",
    "    while t_i < len(doc):\n",
    "        token = doc[t_i]\n",
    "        if 'nsubj' in token.dep_:\n",
    "            return 0\n",
    "        t_i += 1\n",
    "\n",
    "    return 1    "
   ]
  },
  {
   "cell_type": "code",
   "execution_count": 124,
   "metadata": {},
   "outputs": [],
   "source": [
    "# to be integrated\n",
    "from fastcoref import FCoref, LingMessCoref\n",
    "if 'coref_resolver' not in locals(): # prevent accidental re-run of cell\n",
    "    coref_resolver = LingMessCoref(device='cuda:0')\n",
    "\n",
    "def resolve_coreference(original_sent, text):\n",
    "    \"\"\"Perfrom coreference resolution and replace corresponding text.\n",
    "\n",
    "    Args:\n",
    "        original_sent (str): Sentence the text was derived froms\n",
    "        text (str): Target text\n",
    "    \"\"\"\n",
    "\n",
    "    text_ind = original_sent.find(text) # starting index of text in original text\n",
    "    coref_preds = coref_resolver.predict(texts=[original_sent])\n",
    "    coref_clusters = coref_preds[0].get_clusters(as_strings=False)\n",
    "    new_sent = []\n",
    "    new_text = []\n",
    "\n",
    "    # interate string left to right while appending current char to a new list\n",
    "    # if current index in one of the token in one of the clusters, add the replacement to the list, keep the text intact, to know what index are at\n",
    "    i = 0\n",
    "\n",
    "    # if referred word is a verb, use have to notice and discard the sentence.\n",
    "    while i < len(original_sent):\n",
    "        find_result = is_in_ref(i, coref_clusters)\n",
    "        if find_result[0]:\n",
    "            token = find_result[1]\n",
    "            token_ref = find_result[2]\n",
    "            new_sent.append(original_sent[token_ref[0]:token_ref[1]])\n",
    "            if (i >= text_ind and i < text_ind + len(text)):\n",
    "                if (text_ind <= token[0] and token[1] <= text_ind + len(text)):\n",
    "                    new_text.append(original_sent[token_ref[0]:token_ref[1]])\n",
    "                else:\n",
    "                    new_text.append(original_sent[i:text_ind + len(text)])\n",
    "            i = token[1]\n",
    "        else:\n",
    "            new_sent.append(original_sent[i])\n",
    "            if i >= text_ind and i < text_ind + len(text):\n",
    "                new_text.append(original_sent[i])\n",
    "            i += 1\n",
    "\n",
    "    return ''.join(new_sent), ''.join(new_text)"
   ]
  },
  {
   "cell_type": "code",
   "execution_count": 373,
   "metadata": {},
   "outputs": [
    {
     "name": "stderr",
     "output_type": "stream",
     "text": [
      "05/06/2024 15:49:53 - INFO - \t Tokenize 1 inputs...\n",
      "Map: 100%|██████████| 1/1 [00:00<00:00, 140.32 examples/s]\n",
      "05/06/2024 15:49:53 - INFO - \t ***** Running Inference on 1 texts *****\n",
      "Inference: 100%|██████████| 1/1 [00:00<00:00,  9.00it/s]\n"
     ]
    },
    {
     "data": {
      "text/plain": [
       "[CorefResult(text=\"Transformers process input sequences in parallel, ...\", clusters=[['Transformers', 'them']])]"
      ]
     },
     "execution_count": 373,
     "metadata": {},
     "output_type": "execute_result"
    }
   ],
   "source": [
    "# coref test run    \n",
    "txt = \"Transformers process input sequences in parallel, making the them highly efficient for training and inference\"\n",
    "# sents = split_into_sentences(original_text)\n",
    "# src = find_source_sents(sents, txt, 5)\n",
    "# resolve_coreference(src, txt)\n",
    "coref_preds = coref_resolver.predict(texts=[txt])\n",
    "coref_clusters = coref_preds[0].get_clusters(as_strings=False)\n",
    "coref_preds"
   ]
  },
  {
   "cell_type": "code",
   "execution_count": 682,
   "metadata": {},
   "outputs": [],
   "source": [
    "def preprocessing_pipeline(original_text, text, retain_dm=False, retain_conj=False, retain_adv=False, add_subject_to_rel_clause=False):\n",
    "    \"\"\"Tranform raw text into a full clause to be fed to the question generation pipeline\n",
    "\n",
    "    Args:\n",
    "        text (str): raw text\n",
    "    Return:\n",
    "        (str): full clause from text\n",
    "    \"\"\"\n",
    "    sents = split_into_sentences(original_text)\n",
    "\n",
    "    # coreferen ce resolution\n",
    "    src_3_sents = find_source_sents(sents, text, 3)\n",
    "    src_3_sents, text = resolve_coreference(src_3_sents, text)\n",
    "    src_sent = find_source_sents(split_into_sentences(src_3_sents), text, 0)\n",
    "\n",
    "    # removal of irrelavent components\n",
    "    if not retain_dm:\n",
    "        src_sent, text = remove_leading_discourse_marker(src_sent, text)    \n",
    "    if not retain_conj:\n",
    "        src_sent, text = remove_leading_conjunction(src_sent, text)\n",
    "    if not retain_adv: \n",
    "        src_sent, text = remove_leading_adverb(src_sent, text)\n",
    "    src_sent = remove_leading_special_chars(src_sent)\n",
    "    text = remove_leading_special_chars(text)\n",
    "    # src_3_sents = remove_ending_special_chars(src_3_sents)\n",
    "    # text = remove_ending_special_chars(text)\n",
    "\n",
    "    # handle single relative clause\n",
    "    if is_one_clause(text, count_relative_clause=False):\n",
    "        cl_type = check_relative_clause(text)\n",
    "        if cl_type != 0: # is relative clause\n",
    "            if cl_type == 2:\n",
    "                print(\"\\nText here: \", src_sent, text)\n",
    "                src_sent, text = unshorten_relative_clause(src_sent, text)\n",
    "            if add_subject_to_rel_clause:\n",
    "                # WORKING: temporary solution before fixing add_subject_to_relative_clause()\n",
    "                if add_subject_to_relative_clause(src_sent, text):\n",
    "                    src_sent, text = add_subject_to_relative_clause(src_sent, text)\n",
    "\n",
    "    return src_sent, text  "
   ]
  },
  {
   "cell_type": "code",
   "execution_count": 684,
   "metadata": {},
   "outputs": [
    {
     "name": "stdout",
     "output_type": "stream",
     "text": [
      "learning\n"
     ]
    },
    {
     "data": {
      "text/plain": [
       "('Training: Transformer models are trained using supervised learning',\n",
       " 'using which is supervised learning.')"
      ]
     },
     "execution_count": 684,
     "metadata": {},
     "output_type": "execute_result"
    }
   ],
   "source": [
    "unshorten_relative_clause(\"Training: Transformer models are trained using supervised learning\", \"using supervised learning.\")"
   ]
  },
  {
   "cell_type": "code",
   "execution_count": 351,
   "metadata": {},
   "outputs": [
    {
     "data": {
      "text/plain": [
       "('She was talking to me, a person that is tackled.', ' that is tackled.')"
      ]
     },
     "execution_count": 351,
     "metadata": {},
     "output_type": "execute_result"
    }
   ],
   "source": [
    "\n",
    "unshorten_relative_clause(\"She was talking to me, a person tackled.\", \" a person tackled.\")"
   ]
  },
  {
   "cell_type": "code",
   "execution_count": 356,
   "metadata": {},
   "outputs": [
    {
     "name": "stderr",
     "output_type": "stream",
     "text": [
      "05/06/2024 15:40:36 - INFO - \t Tokenize 1 inputs...\n",
      "Map: 100%|██████████| 1/1 [00:00<00:00, 111.82 examples/s]\n",
      "05/06/2024 15:40:36 - INFO - \t ***** Running Inference on 1 texts *****\n",
      "Inference: 100%|██████████| 1/1 [00:00<00:00,  8.06it/s]\n"
     ]
    },
    {
     "data": {
      "text/plain": [
       "'a person tackled.'"
      ]
     },
     "execution_count": 356,
     "metadata": {},
     "output_type": "execute_result"
    }
   ],
   "source": [
    "preprocessing_pipeline(\"She was talking to me, a person tackled.\", \" a person tackled.\")"
   ]
  },
  {
   "cell_type": "markdown",
   "metadata": {},
   "source": [
    "# Question Templates"
   ]
  },
  {
   "cell_type": "markdown",
   "metadata": {},
   "source": [
    "WORKING: \n",
    "- Handle non-clause (maybe just keep all, discard \"which + V\" maybe)\n",
    "- Handle missing information (two EDUs still don't make a sentence) -> maybe segment longer texts"
   ]
  },
  {
   "cell_type": "code",
   "execution_count": 145,
   "metadata": {},
   "outputs": [],
   "source": [
    "# output file\n",
    "output_path = './output.txt'\n",
    "sents = split_into_sentences(original_text) # text split into sentences"
   ]
  },
  {
   "cell_type": "code",
   "execution_count": 386,
   "metadata": {},
   "outputs": [],
   "source": [
    "def cause_question_type_0(nucleus, satellite): # WORKING: nucleus cause satellite (but now model interpret both directions, needs fixing)\n",
    "    \"\"\"Make question based on CAUSE relationship\n",
    "    Type 0: satellite (result) is: relative clause: which + verb + clause (e.g. which made him happy.)\n",
    "\n",
    "    Args:\n",
    "        nucleus (str): nucleus stripped of ending punctuation and spaces \n",
    "        satellite (str): satellite stripped of ending punctuation and spaces \n",
    "    Returns:p \n",
    "        tuple(ques, ans)\n",
    "    \"\"\"\n",
    "    # experimenting:exactly the same as type_1\n",
    "    doc = nlp(satellite)\n",
    "    rel_pro = \"\"\n",
    "    for token in doc:\n",
    "        if token.pos_ not in ['SPACE', 'PUNCT']:\n",
    "            if \"PRON\" in token.pos_:\n",
    "                rel_pro = token.text\n",
    "                break\n",
    "        \n",
    "    assert len(rel_pro) > 0\n",
    "    question = satellite.replace(rel_pro.strip(), \"What\", 1) + '?'\n",
    "    answer = nucleus.strip() + '.'\n",
    "\n",
    "    return (question, answer)\n",
    "\n",
    "\n",
    "def cause_question_type_1(nucleus, satellite):\n",
    "    \"\"\"Make question based on CAUSE relationship\n",
    "    Type 1: satellite (result) is: relative clause: which + verb + (not clause) (e.g. which caused the noise.)\n",
    "\n",
    "    Args:\n",
    "        nucleus (str): nucleus stripped of ending punctuation and spaces \n",
    "        satellite (str): satellite stripped of ending punctuation and spaces \n",
    "    Returns:p \n",
    "        tuple(ques, ans)\n",
    "    \"\"\"\n",
    "    doc = nlp(satellite)\n",
    "    rel_pro = \"\"\n",
    "    for token in doc:\n",
    "        if token.pos_ not in ['SPACE', 'PUNCT']:\n",
    "            if \"PRON\" in token.pos_:\n",
    "                rel_pro = token.text\n",
    "                break\n",
    "        \n",
    "    assert len(rel_pro) > 0\n",
    "    question = satellite.replace(rel_pro.strip(), \"What\", 1) + '?'\n",
    "    answer = nucleus.strip() + '.'\n",
    "\n",
    "    return (question, answer)\n",
    "\n",
    "def cause_question_type_2(nucleus, satellite): \n",
    "    \"\"\"Make question based on CAUSE relationship\n",
    "    Type 2: satellite (result) is: full clause (not relative clause)\n",
    "\n",
    "    Args:\n",
    "        nucleus (str): nucleus stripped of ending punctuation and spaces \n",
    "        satellite (str): satellite stripped of ending punctuation and spaces \n",
    "    Returns:p \n",
    "        tuple(ques, ans)\n",
    "    \"\"\"\n",
    "\n",
    "    if has_aux(satellite):\n",
    "        new_sate = move_aux_to_beginning(satellite)\n",
    "    else: \n",
    "        new_sate = choose_and_replace_aux_for_verb(satellite)\n",
    "    question = \"Why \" + new_sate.strip() + '?'\n",
    "    answer = nucleus.strip() + '.'\n",
    "\n",
    "    return (question, answer)\n",
    "\n",
    "                                             \n",
    "def generate_cause_question(nucleus_pair, satellite_pair):\n",
    "    nucleus = nucleus_pair[1]\n",
    "    satellite = satellite_pair[1]\n",
    "    if is_one_clause(satellite, count_relative_clause=False):\n",
    "        cl_type = check_relative_clause(satellite)\n",
    "        if cl_type != 0: # is relative clause\n",
    "            rel_type = check_relative_clause_type(satellite)\n",
    "            if rel_type == 0:\n",
    "                return cause_question_type_0(nucleus, satellite)\n",
    "            elif rel_type == 1:\n",
    "                return cause_question_type_1(nucleus, satellite)\n",
    "    else:\n",
    "        return (\"\", \"\")\n",
    "    return cause_question_type_2(nucleus, satellite)"
   ]
  },
  {
   "cell_type": "code",
   "execution_count": 364,
   "metadata": {},
   "outputs": [
    {
     "data": {
      "text/plain": [
       "' These networks apply non-linear transformations to the token representations, allowing the model to capture complex patterns and relationships in the data.'"
      ]
     },
     "execution_count": 364,
     "metadata": {},
     "output_type": "execute_result"
    }
   ],
   "source": [
    "sents = split_into_sentences(original_text)\n",
    "find_source_sents(sents, \"These networks apply non-linear transformations to the token representations,\", 0)"
   ]
  },
  {
   "cell_type": "code",
   "execution_count": 387,
   "metadata": {},
   "outputs": [
    {
     "name": "stderr",
     "output_type": "stream",
     "text": [
      "05/06/2024 16:06:46 - INFO - \t Tokenize 1 inputs...\n",
      "Map: 100%|██████████| 1/1 [00:00<00:00, 91.07 examples/s]\n",
      "05/06/2024 16:06:46 - INFO - \t ***** Running Inference on 1 texts *****\n",
      "Inference: 100%|██████████| 1/1 [00:00<00:00,  8.25it/s]\n",
      "05/06/2024 16:06:47 - INFO - \t Tokenize 1 inputs...\n",
      "Map: 100%|██████████| 1/1 [00:00<00:00, 140.51 examples/s]\n",
      "05/06/2024 16:06:47 - INFO - \t ***** Running Inference on 1 texts *****\n",
      "Inference: 100%|██████████| 1/1 [00:00<00:00,  9.44it/s]\n",
      "05/06/2024 16:06:48 - INFO - \t Tokenize 1 inputs...\n",
      "Map: 100%|██████████| 1/1 [00:00<00:00, 95.66 examples/s]\n",
      "05/06/2024 16:06:48 - INFO - \t ***** Running Inference on 1 texts *****\n",
      "Inference: 100%|██████████| 1/1 [00:00<00:00,  8.55it/s]\n",
      "05/06/2024 16:06:48 - INFO - \t Tokenize 1 inputs...\n",
      "Map: 100%|██████████| 1/1 [00:00<00:00, 133.53 examples/s]\n",
      "05/06/2024 16:06:48 - INFO - \t ***** Running Inference on 1 texts *****\n",
      "Inference: 100%|██████████| 1/1 [00:00<00:00,  9.99it/s]\n",
      "05/06/2024 16:06:49 - INFO - \t Tokenize 1 inputs...\n",
      "Map: 100%|██████████| 1/1 [00:00<00:00, 99.21 examples/s]\n",
      "05/06/2024 16:06:49 - INFO - \t ***** Running Inference on 1 texts *****\n",
      "Inference: 100%|██████████| 1/1 [00:00<00:00,  9.15it/s]\n",
      "05/06/2024 16:06:50 - INFO - \t Tokenize 1 inputs...\n",
      "Map: 100%|██████████| 1/1 [00:00<00:00, 137.06 examples/s]\n",
      "05/06/2024 16:06:50 - INFO - \t ***** Running Inference on 1 texts *****\n",
      "Inference: 100%|██████████| 1/1 [00:00<00:00,  9.81it/s]\n",
      "05/06/2024 16:06:51 - INFO - \t Tokenize 1 inputs...\n",
      "Map: 100%|██████████| 1/1 [00:00<00:00, 97.66 examples/s]\n",
      "05/06/2024 16:06:51 - INFO - \t ***** Running Inference on 1 texts *****\n",
      "Inference: 100%|██████████| 1/1 [00:00<00:00,  7.47it/s]\n",
      "05/06/2024 16:06:51 - INFO - \t Tokenize 1 inputs...\n",
      "Map: 100%|██████████| 1/1 [00:00<00:00, 93.68 examples/s]\n",
      "05/06/2024 16:06:51 - INFO - \t ***** Running Inference on 1 texts *****\n",
      "Inference: 100%|██████████| 1/1 [00:00<00:00,  8.14it/s]\n",
      "05/06/2024 16:06:52 - INFO - \t Tokenize 1 inputs...\n",
      "Map: 100%|██████████| 1/1 [00:00<00:00, 106.47 examples/s]\n",
      "05/06/2024 16:06:52 - INFO - \t ***** Running Inference on 1 texts *****\n",
      "Inference: 100%|██████████| 1/1 [00:00<00:00,  8.11it/s]\n",
      "05/06/2024 16:06:52 - INFO - \t Tokenize 1 inputs...\n",
      "Map: 100%|██████████| 1/1 [00:00<00:00, 125.04 examples/s]\n",
      "05/06/2024 16:06:53 - INFO - \t ***** Running Inference on 1 texts *****\n",
      "Inference: 100%|██████████| 1/1 [00:00<00:00,  8.05it/s]\n",
      "05/06/2024 16:06:53 - INFO - \t Tokenize 1 inputs...\n",
      "Map: 100%|██████████| 1/1 [00:00<00:00, 113.68 examples/s]\n",
      "05/06/2024 16:06:53 - INFO - \t ***** Running Inference on 1 texts *****\n",
      "Inference: 100%|██████████| 1/1 [00:00<00:00,  8.51it/s]\n",
      "05/06/2024 16:06:54 - INFO - \t Tokenize 1 inputs...\n",
      "Map: 100%|██████████| 1/1 [00:00<00:00, 106.43 examples/s]\n",
      "05/06/2024 16:06:54 - INFO - \t ***** Running Inference on 1 texts *****\n",
      "Inference: 100%|██████████| 1/1 [00:00<00:00,  8.08it/s]\n"
     ]
    }
   ],
   "source": [
    "rel = 'Cause'\n",
    "for trip in df[df['new_relation'] == rel].iterrows():\n",
    "    with open(output_path, 'a') as f:\n",
    "        f.write(\"\\nRELATION: \" + rel + '\\n')\n",
    "        nucleus = trip[1]['nucleus'].strip()\n",
    "        satellite = trip[1]['satellite'].strip()\n",
    "        f.write(\"Original nucleus: \" + nucleus + '\\n')\n",
    "        f.write(\"Original satellite: \" + satellite + '\\n')\n",
    "\n",
    "        nucleus_pair = preprocessing_pipeline(original_text, nucleus)\n",
    "        satellite_pair = preprocessing_pipeline(original_text, satellite)\n",
    "        \n",
    "        if nucleus_pair[1] is None or satellite_pair[1] is None:\n",
    "            f.write(\"Can't process nucleus and satellite!\\n\")\n",
    "            continue\n",
    "        \n",
    "        ques, ans = generate_cause_question(nucleus_pair, satellite_pair) # WORKING: order of cause and serveral other relations are not consistant, fix dataset\n",
    "        if not ques.strip() or not ans.strip():\n",
    "            f.write(\"Can't generate questions!\\n\")\n",
    "        \n",
    "        f.write(\"\\nQuestion: \" + ques + '\\n')\n",
    "        f.write(\"Answer: \" + ans + '\\n')\n",
    "\n",
    "        ques, ans = generate_cause_question(satellite_pair, nucleus_pair) # WORKING: order of cause and serveral other relations are not consistant, fix dataset\n",
    "        if not ques.strip() or not ans.strip():\n",
    "            f.write(\"Can't generate questions!\\n\")\n",
    "        \n",
    "        f.write(\"\\nQuestion: \" + ques + '\\n')\n",
    "        f.write(\"Answer: \" + ans + '\\n')"
   ]
  },
  {
   "cell_type": "code",
   "execution_count": 390,
   "metadata": {},
   "outputs": [],
   "source": [
    "# contrast relation: ask what's different between two subjects.\n",
    "# retain discourse markers\n",
    "    \n",
    "def make_contrast_question_with_two_clauses(nucleus, satellite):\n",
    "    n_subj = get_subj(nucleus)\n",
    "    s_subj = get_subj(satellite)\n",
    "   \n",
    "    if (n_subj is None) or (s_subj is None):\n",
    "        print(\"\\nCan't find subject!\\n\")\n",
    "        return (\"\", \"\")\n",
    "     \n",
    "    if n_subj.strip().lower() == s_subj.strip().lower():\n",
    "        print(\"\\nSame subjects for nucleus and satellite!\\n\")\n",
    "        return (\"\", \"\")\n",
    "    \n",
    "    question = \"What is the difference between \" + n_subj + \" and \" + s_subj + '?'\n",
    "    answer = nucleus.strip() + ' ' + satellite.strip()\n",
    "    return (question, answer)\n",
    "\n",
    "def generate_contrast_question(nucleus_pair, satellite_pair):\n",
    "    nucleus = nucleus_pair[1]\n",
    "    satellite = satellite_pair[1]\n",
    "    \n",
    "    if is_one_clause(nucleus, count_relative_clause=False) and is_one_clause(satellite, count_relative_clause=False):\n",
    "        return make_contrast_question_with_two_clauses(nucleus, satellite)\n",
    "    return (\"\", \"\") # more than 1 clause"
   ]
  },
  {
   "cell_type": "code",
   "execution_count": 391,
   "metadata": {},
   "outputs": [
    {
     "name": "stderr",
     "output_type": "stream",
     "text": [
      "05/06/2024 16:08:48 - INFO - \t Tokenize 1 inputs...\n"
     ]
    },
    {
     "name": "stderr",
     "output_type": "stream",
     "text": [
      "Map: 100%|██████████| 1/1 [00:00<00:00, 109.63 examples/s]\n",
      "05/06/2024 16:08:48 - INFO - \t ***** Running Inference on 1 texts *****\n",
      "Inference: 100%|██████████| 1/1 [00:00<00:00,  7.95it/s]\n",
      "05/06/2024 16:08:48 - INFO - \t Tokenize 1 inputs...\n",
      "Map: 100%|██████████| 1/1 [00:00<00:00, 31.92 examples/s]\n",
      "05/06/2024 16:08:49 - INFO - \t ***** Running Inference on 1 texts *****\n",
      "Inference: 100%|██████████| 1/1 [00:00<00:00,  3.61it/s]\n",
      "05/06/2024 16:08:50 - INFO - \t Tokenize 1 inputs...\n",
      "Map: 100%|██████████| 1/1 [00:00<00:00, 96.92 examples/s]\n",
      "05/06/2024 16:08:50 - INFO - \t ***** Running Inference on 1 texts *****\n",
      "Inference: 100%|██████████| 1/1 [00:00<00:00,  8.05it/s]\n",
      "05/06/2024 16:08:50 - INFO - \t Tokenize 1 inputs...\n",
      "Map: 100%|██████████| 1/1 [00:00<00:00, 96.24 examples/s]\n",
      "05/06/2024 16:08:50 - INFO - \t ***** Running Inference on 1 texts *****\n",
      "Inference: 100%|██████████| 1/1 [00:00<00:00,  8.48it/s]\n"
     ]
    }
   ],
   "source": [
    "# test run for Contrast\n",
    "rel = 'Contrast'\n",
    "for trip in df[df['new_relation'] == rel].iterrows():\n",
    "    with open(output_path, 'a') as f:\n",
    "        f.write(\"\\nRELATION: \" + rel + '\\n')\n",
    "        nucleus = trip[1]['nucleus'].strip()\n",
    "        satellite = trip[1]['satellite'].strip()\n",
    "        \n",
    "        f.write(\"\\nOriginal nucleus: \" + trip[1]['nucleus'] + '\\n')\n",
    "        f.write(\"Original satellite: \" + trip[1]['satellite'] + '\\n')\n",
    "\n",
    "        nucleus_pair = preprocessing_pipeline(original_text, nucleus, retain_dm=True, add_subject_to_rel_clause=True)\n",
    "        satellite_pair = preprocessing_pipeline(original_text, satellite, retain_dm=True, retain_adv=True, retain_conj=True, add_subject_to_rel_clause=True)\n",
    "        \n",
    "        if nucleus[1] is None or satellite[1] is None:\n",
    "            f.write(\"Can't process nucleus and satellite!\\n\")\n",
    "            continue\n",
    "\n",
    "        ques, ans = generate_contrast_question(nucleus_pair, satellite_pair)\n",
    "        if not ques.strip() or not ans.strip():\n",
    "            continue\n",
    "        \n",
    "        f.write(\"\\nQuestion: \" + ques + '\\n')\n",
    "        f.write(\"Answer: \" + ans + '\\n')"
   ]
  },
  {
   "cell_type": "code",
   "execution_count": 393,
   "metadata": {},
   "outputs": [],
   "source": [
    "# condition relation\n",
    "\n",
    "def condition_question_type_0(nucleus, satellite): \n",
    "    \"\"\"Make question based on condition relationship\n",
    "    Type 0: satellite (result) is: relative clause: which + verb + clause (e.g. which made him happy.)\n",
    "\n",
    "    Args:\n",
    "        nucleus (str): nucleus stripped of ending punctuation and spaces \n",
    "        satellite (str): satellite stripped of ending punctuation and spaces \n",
    "    Returns:p \n",
    "        tuple(ques, ans)\n",
    "    \"\"\"\n",
    "    # experimenting:exactly the same as type_1\n",
    "    doc = nlp(satellite)\n",
    "    rel_pro = \"\"\n",
    "    for token in doc:\n",
    "        if token.pos_ not in ['SPACE', 'PUNCT']:\n",
    "            if \"PRON\" in token.pos_:\n",
    "                rel_pro = token.text\n",
    "                break\n",
    "        \n",
    "    assert len(rel_pro) > 0\n",
    "    question = satellite.replace(rel_pro.strip(), \"What condition\", 1) + '?'\n",
    "    answer = nucleus.strip() + '.'\n",
    "\n",
    "    return (question, answer)\n",
    "\n",
    "\n",
    "def condition_question_type_1(nucleus, satellite):\n",
    "    \"\"\"Make question based on condition relationship\n",
    "    Type 1: satellite (result) is: relative clause: which + verb + (not clause) (e.g. which conditiond the noise.)\n",
    "\n",
    "    Args:\n",
    "        nucleus (str): nucleus stripped of ending punctuation and spaces \n",
    "        satellite (str): satellite stripped of ending punctuation and spaces \n",
    "    Returns:p \n",
    "        tuple(ques, ans)\n",
    "    \"\"\"\n",
    "    doc = nlp(satellite)\n",
    "    rel_pro = \"\"\n",
    "    for token in doc:\n",
    "        if token.pos_ not in ['SPACE', 'PUNCT']:\n",
    "            if \"PRON\" in token.pos_:\n",
    "                rel_pro = token.text\n",
    "                break\n",
    "        \n",
    "    assert len(rel_pro) > 0\n",
    "    question = satellite.replace(rel_pro.strip(), \"What condition\", 1) + '?'\n",
    "    answer = nucleus.strip() + '.'\n",
    "\n",
    "    return (question, answer)\n",
    "\n",
    "def condition_question_type_2(nucleus, satellite): \n",
    "    \"\"\"Make question based on condition relationship\n",
    "    Type 2: satellite (result) is: full clause (not relative clause)\n",
    "\n",
    "    Args:\n",
    "        nucleus (str): nucleus stripped of ending punctuation and spaces \n",
    "        satellite (str): satellite stripped of ending punctuation and spaces \n",
    "    Returns:p \n",
    "        tuple(ques, ans)\n",
    "    \"\"\"\n",
    "\n",
    "    if has_aux(satellite):\n",
    "        new_sate = move_aux_to_beginning(satellite)\n",
    "    else: \n",
    "        new_sate = choose_and_replace_aux_for_verb(satellite)\n",
    "    question = \"In what condition \" + new_sate.strip() + '?'\n",
    "    answer = nucleus.strip() + '.'\n",
    "\n",
    "    return (question, answer)\n",
    "\n",
    "                                             \n",
    "def generate_condition_question(nucleus_pair, satellite_pair):\n",
    "    nucleus = nucleus_pair[1]\n",
    "    satellite = satellite_pair[1]\n",
    "    \n",
    "    if is_one_clause(satellite, count_relative_clause=False):\n",
    "        cl_type = check_relative_clause(satellite)\n",
    "        if cl_type != 0: # is relative clause\n",
    "            rel_type = check_relative_clause_type(satellite)\n",
    "            if rel_type == 0:\n",
    "                return condition_question_type_0(nucleus, satellite)\n",
    "            elif rel_type == 1:\n",
    "                return condition_question_type_1(nucleus, satellite)\n",
    "        else: # 1 clause, not relative clause \n",
    "            return condition_question_type_2(nucleus, satellite)\n",
    "    else:\n",
    "        return (\"\", \"\")"
   ]
  },
  {
   "cell_type": "code",
   "execution_count": 394,
   "metadata": {},
   "outputs": [
    {
     "name": "stderr",
     "output_type": "stream",
     "text": [
      "05/06/2024 16:09:38 - INFO - \t Tokenize 1 inputs...\n",
      "Map: 100%|██████████| 1/1 [00:00<00:00, 126.91 examples/s]\n",
      "05/06/2024 16:09:38 - INFO - \t ***** Running Inference on 1 texts *****\n",
      "Inference: 100%|██████████| 1/1 [00:00<00:00,  8.17it/s]\n",
      "05/06/2024 16:09:38 - INFO - \t Tokenize 1 inputs...\n",
      "Map: 100%|██████████| 1/1 [00:00<00:00, 44.64 examples/s]\n",
      "05/06/2024 16:09:38 - INFO - \t ***** Running Inference on 1 texts *****\n",
      "Inference: 100%|██████████| 1/1 [00:00<00:00,  5.17it/s]\n"
     ]
    }
   ],
   "source": [
    "# for Condition relation\n",
    "\n",
    "rel = 'Condition'\n",
    "for trip in df[df['new_relation'] == rel].iterrows():\n",
    "    with open(output_path, 'a') as f:\n",
    "        f.write(\"\\nRELATION: \" + rel + '\\n')\n",
    "        nucleus = trip[1]['nucleus']\n",
    "        satellite = trip[1]['satellite']\n",
    "\n",
    "        f.write(\"Original nucleus: \" + nucleus + '\\n')\n",
    "        f.write(\"Original satellite: \" + satellite + '\\n')\n",
    "\n",
    "        nucleus_pair = preprocessing_pipeline(original_text, nucleus)\n",
    "        satellite_pair = preprocessing_pipeline(original_text, satellite)\n",
    "        \n",
    "        if nucleus[1] is None or satellite[1] is None:\n",
    "            f.write(\"Can't process nucleus and satellite!\\n\")\n",
    "            continue\n",
    "        \n",
    "        ques, ans = generate_condition_question(nucleus_pair, satellite_pair)\n",
    "        if not ques.strip() or not ans.strip():\n",
    "            f.write(\"Can't generate questions!\\n\")\n",
    "        \n",
    "        f.write(\"\\nQuestion: \" + ques + '\\n')\n",
    "        f.write(\"Answer: \" + ans + '\\n')\n",
    "\n",
    "        ques, ans = generate_condition_question(satellite_pair, nucleus_pair)\n",
    "        if not ques.strip() or not ans.strip():\n",
    "            f.write(\"Can't generate questions!\\n\")\n",
    "        \n",
    "        f.write(\"\\nQuestion: \" + ques + '\\n')\n",
    "        f.write(\"Answer: \" + ans + '\\n')"
   ]
  },
  {
   "cell_type": "code",
   "execution_count": null,
   "metadata": {},
   "outputs": [],
   "source": [
    "# for enablement's purpose: \n",
    "# clause -> reverse\n",
    "# preposition/adposition -> keep \n",
    "# relative clause (both types) -> keep"
   ]
  },
  {
   "cell_type": "code",
   "execution_count": 474,
   "metadata": {},
   "outputs": [],
   "source": [
    "# enablement relation\n",
    "# difference to manner-means: enablement encapsulate manner-means, as all means can \"enable\" the goal,\n",
    "# but enablement also contains situational aid, an event lead (may not intentionally) to another event\n",
    "    \n",
    "# enablement relation\n",
    "\n",
    "def enablement_question_type_0(nucleus, satellite): \n",
    "    \"\"\"Make question based on enablement relationship\n",
    "    Type 0: satellite (result) is: relative clause: which + verb + clause (e.g. which made him happy.)\n",
    "\n",
    "    Args:\n",
    "        nucleus (str): nucleus stripped of ending punctuation and spaces \n",
    "        satellite (str): satellite stripped of ending punctuation and spaces \n",
    "    Returns:p \n",
    "        tuple(ques, ans)\n",
    "    \"\"\"\n",
    "    # experimenting: exactly the same as type_1\n",
    "    doc = nlp(nucleus)\n",
    "    rel_pro = \"\"\n",
    "    for token in doc:\n",
    "        if token.pos_ not in ['SPACE', 'PUNCT']:\n",
    "            if \"PRON\" in token.pos_:\n",
    "                rel_pro = token.text\n",
    "                break\n",
    "        \n",
    "    assert len(rel_pro) > 0\n",
    "    question = nucleus.replace(rel_pro.strip(), \"What \", 1) + '?'\n",
    "    answer = satellite.strip() + '.'\n",
    "\n",
    "    return (question, answer)\n",
    "\n",
    "\n",
    "def enablement_question_type_1(nucleus, satellite):\n",
    "    \"\"\"Make question based on enablement relationship\n",
    "    Type 1: satellite (result) is: relative clause: which + verb + (not clause) (e.g. which enablementd the noise.)\n",
    "\n",
    "    Args:\n",
    "        nucleus (str): nucleus stripped of ending punctuation and spaces \n",
    "        satellite (str): satellite stripped of ending punctuation and spaces \n",
    "    Returns:p \n",
    "        tuple(ques, ans)\n",
    "    \"\"\"\n",
    "    doc = nlp(nucleus)\n",
    "    rel_pro = \"\"\n",
    "    for token in doc:\n",
    "        if token.pos_ not in ['SPACE', 'PUNCT']:\n",
    "            if \"PRON\" in token.pos_:\n",
    "                rel_pro = token.text\n",
    "                break\n",
    "        \n",
    "    assert len(rel_pro) > 0\n",
    "    question = nucleus.replace(rel_pro.strip(), \"What \", 1) + '?'\n",
    "    answer = satellite.strip() + '.'\n",
    "\n",
    "    return (question, answer)\n",
    "\n",
    "def enablement_question_type_2(nucleus, satellite): \n",
    "    \"\"\"Make question based on enablement relationship\n",
    "    Type 2: satellite (result) is: full clause (not relative clause)\n",
    "\n",
    "    Args:\n",
    "        nucleus (str): nucleus stripped of ending punctuation and spaces \n",
    "        satellite (str): satellite stripped of ending punctuation and spaces \n",
    "    Returns:p \n",
    "        tuple(ques, ans)\n",
    "    \"\"\"\n",
    "\n",
    "    if has_aux(nucleus):\n",
    "        new_nuc = move_aux_to_beginning(nucleus)\n",
    "    else: \n",
    "        new_nuc = choose_and_replace_aux_for_verb(nucleus)\n",
    "    question = \"How \" + new_nuc.strip() + '?'\n",
    "    answer = satellite.strip() + '.'\n",
    "\n",
    "    return (question, answer)\n",
    "\n",
    "def enablement_question_type_3(nucleus, satellite): \n",
    "    \"\"\"Make question based on enablement relationship\n",
    "    Type 2: satellite (result) is: relative clause but not start with relative pronoun (most probably adverbial clause)\n",
    "\n",
    "    Args:\n",
    "        nucleus (str): nucleus stripped of ending punctuation and spaces \n",
    "        satellite (str): satellite stripped of ending punctuation and spaces \n",
    "    Returns:p \n",
    "        tuple(ques, ans)\n",
    "    \"\"\"\n",
    "\n",
    "    question = \"What can be done \" + nucleus.strip() + '?'\n",
    "    answer = satellite.strip() + '.'\n",
    "\n",
    "    return (question, answer)\n",
    "\n",
    "def generate_enablement_question(nucleus_pair, satellite_pair):\n",
    "    nucleus = nucleus_pair[1]\n",
    "    satellite = satellite_pair[1]\n",
    "\n",
    "    if is_one_clause(nucleus, count_relative_clause=False):\n",
    "        cl_type = check_relative_clause(nucleus)\n",
    "        if cl_type != 0: # is relative clause\n",
    "            rel_type = check_relative_clause_type(nucleus)\n",
    "            if rel_type == 0:\n",
    "                return enablement_question_type_0(nucleus, satellite)\n",
    "            elif rel_type == 1:\n",
    "                return enablement_question_type_1(nucleus, satellite)\n",
    "        else:\n",
    "            if is_dependent_clause(nucleus_pair[0], nucleus):\n",
    "                return enablement_question_type_3(nucleus, satellite)\n",
    "            return enablement_question_type_2(nucleus, satellite)\n",
    "    return (\"\", \"\")"
   ]
  },
  {
   "cell_type": "code",
   "execution_count": 476,
   "metadata": {},
   "outputs": [
    {
     "name": "stderr",
     "output_type": "stream",
     "text": [
      "05/06/2024 16:41:49 - INFO - \t Tokenize 1 inputs...\n",
      "Map:   0%|          | 0/1 [00:00<?, ? examples/s]"
     ]
    },
    {
     "name": "stderr",
     "output_type": "stream",
     "text": [
      "Map: 100%|██████████| 1/1 [00:00<00:00, 93.56 examples/s]\n",
      "05/06/2024 16:41:49 - INFO - \t ***** Running Inference on 1 texts *****\n",
      "Inference: 100%|██████████| 1/1 [00:00<00:00,  7.90it/s]\n",
      "05/06/2024 16:41:49 - INFO - \t Tokenize 1 inputs...\n",
      "Map: 100%|██████████| 1/1 [00:00<00:00, 91.71 examples/s]\n",
      "05/06/2024 16:41:49 - INFO - \t ***** Running Inference on 1 texts *****\n",
      "Inference: 100%|██████████| 1/1 [00:00<00:00,  8.37it/s]\n"
     ]
    },
    {
     "name": "stdout",
     "output_type": "stream",
     "text": [
      "3 27\n",
      "In sequence-to-sequence tasks like neural machine translation, a separate decoder module can be added on top of the encoder\n"
     ]
    },
    {
     "name": "stderr",
     "output_type": "stream",
     "text": [
      "05/06/2024 16:41:50 - INFO - \t Tokenize 1 inputs...\n"
     ]
    },
    {
     "name": "stdout",
     "output_type": "stream",
     "text": [
      "27 33\n",
      "to generate the output sequence.\n"
     ]
    },
    {
     "name": "stderr",
     "output_type": "stream",
     "text": [
      "Map: 100%|██████████| 1/1 [00:00<00:00, 113.62 examples/s]\n",
      "05/06/2024 16:41:50 - INFO - \t ***** Running Inference on 1 texts *****\n",
      "Inference: 100%|██████████| 1/1 [00:00<00:00,  8.22it/s]\n",
      "05/06/2024 16:41:51 - INFO - \t Tokenize 1 inputs...\n",
      "Map: 100%|██████████| 1/1 [00:00<00:00, 100.66 examples/s]\n",
      "05/06/2024 16:41:51 - INFO - \t ***** Running Inference on 1 texts *****\n",
      "Inference: 100%|██████████| 1/1 [00:00<00:00,  8.45it/s]\n"
     ]
    },
    {
     "name": "stdout",
     "output_type": "stream",
     "text": [
      "0 14\n",
      "Layer normalization and residual connections: The model uses layer normalization and residual connections\n"
     ]
    },
    {
     "name": "stderr",
     "output_type": "stream",
     "text": [
      "05/06/2024 16:41:52 - INFO - \t Tokenize 1 inputs...\n"
     ]
    },
    {
     "name": "stdout",
     "output_type": "stream",
     "text": [
      "14 21\n",
      "to stabilize and speed up training.\n"
     ]
    },
    {
     "name": "stderr",
     "output_type": "stream",
     "text": [
      "Map: 100%|██████████| 1/1 [00:00<00:00, 55.39 examples/s]\n",
      "05/06/2024 16:41:52 - INFO - \t ***** Running Inference on 1 texts *****\n",
      "Inference: 100%|██████████| 1/1 [00:00<00:00,  4.49it/s]\n",
      "05/06/2024 16:41:52 - INFO - \t Tokenize 1 inputs...\n",
      "Map: 100%|██████████| 1/1 [00:00<00:00, 77.86 examples/s]\n",
      "05/06/2024 16:41:52 - INFO - \t ***** Running Inference on 1 texts *****\n",
      "Inference: 100%|██████████| 1/1 [00:00<00:00,  7.37it/s]\n"
     ]
    },
    {
     "name": "stdout",
     "output_type": "stream",
     "text": [
      "9 11\n",
      "are used\n"
     ]
    },
    {
     "name": "stderr",
     "output_type": "stream",
     "text": [
      "05/06/2024 16:41:53 - INFO - \t Tokenize 1 inputs...\n"
     ]
    },
    {
     "name": "stdout",
     "output_type": "stream",
     "text": [
      "11 22\n",
      "to calculate attention weights in the self-attention mechanism.\n"
     ]
    },
    {
     "name": "stderr",
     "output_type": "stream",
     "text": [
      "Map: 100%|██████████| 1/1 [00:00<00:00, 116.34 examples/s]\n",
      "05/06/2024 16:41:53 - INFO - \t ***** Running Inference on 1 texts *****\n",
      "Inference: 100%|██████████| 1/1 [00:00<00:00,  8.33it/s]\n",
      "05/06/2024 16:41:54 - INFO - \t Tokenize 1 inputs...\n",
      "Map: 100%|██████████| 1/1 [00:00<00:00, 104.39 examples/s]\n",
      "05/06/2024 16:41:54 - INFO - \t ***** Running Inference on 1 texts *****\n",
      "Inference: 100%|██████████| 1/1 [00:00<00:00,  8.43it/s]\n",
      "05/06/2024 16:41:54 - INFO - \t Tokenize 1 inputs...\n"
     ]
    },
    {
     "name": "stdout",
     "output_type": "stream",
     "text": [
      "15 24\n",
      "to capture different types of relationships between tokens.\n"
     ]
    },
    {
     "name": "stderr",
     "output_type": "stream",
     "text": [
      "Map: 100%|██████████| 1/1 [00:00<00:00, 115.81 examples/s]\n",
      "05/06/2024 16:41:54 - INFO - \t ***** Running Inference on 1 texts *****\n",
      "Inference: 100%|██████████| 1/1 [00:00<00:00,  8.33it/s]\n",
      "05/06/2024 16:41:55 - INFO - \t Tokenize 1 inputs...\n",
      "Map: 100%|██████████| 1/1 [00:00<00:00, 112.22 examples/s]\n",
      "05/06/2024 16:41:55 - INFO - \t ***** Running Inference on 1 texts *****\n",
      "Inference: 100%|██████████| 1/1 [00:00<00:00,  8.44it/s]\n"
     ]
    },
    {
     "name": "stdout",
     "output_type": "stream",
     "text": [
      "6 11\n",
      "you'd need to take\n"
     ]
    },
    {
     "name": "stderr",
     "output_type": "stream",
     "text": [
      "05/06/2024 16:41:56 - INFO - \t Tokenize 1 inputs...\n"
     ]
    },
    {
     "name": "stdout",
     "output_type": "stream",
     "text": [
      "11 19\n",
      "to accomplish convert with a transformer model.\n"
     ]
    },
    {
     "name": "stderr",
     "output_type": "stream",
     "text": [
      "Map: 100%|██████████| 1/1 [00:00<00:00, 100.95 examples/s]\n",
      "05/06/2024 16:41:56 - INFO - \t ***** Running Inference on 1 texts *****\n",
      "Inference: 100%|██████████| 1/1 [00:00<00:00,  8.57it/s]\n",
      "05/06/2024 16:41:56 - INFO - \t Tokenize 1 inputs...\n",
      "Map: 100%|██████████| 1/1 [00:00<00:00, 102.05 examples/s]\n",
      "05/06/2024 16:41:56 - INFO - \t ***** Running Inference on 1 texts *****\n",
      "Inference: 100%|██████████| 1/1 [00:00<00:00,  8.39it/s]\n"
     ]
    },
    {
     "name": "stdout",
     "output_type": "stream",
     "text": [
      "3 6\n",
      "that you need\n"
     ]
    },
    {
     "name": "stderr",
     "output_type": "stream",
     "text": [
      "05/06/2024 16:41:57 - INFO - \t Tokenize 1 inputs...\n"
     ]
    },
    {
     "name": "stdout",
     "output_type": "stream",
     "text": [
      "6 14\n",
      "to convert an English sentence into French.\n"
     ]
    },
    {
     "name": "stderr",
     "output_type": "stream",
     "text": [
      "Map: 100%|██████████| 1/1 [00:00<00:00, 112.90 examples/s]\n",
      "05/06/2024 16:41:57 - INFO - \t ***** Running Inference on 1 texts *****\n",
      "Inference: 100%|██████████| 1/1 [00:00<00:00,  8.31it/s]\n",
      "05/06/2024 16:41:57 - INFO - \t Tokenize 1 inputs...\n",
      "Map: 100%|██████████| 1/1 [00:00<00:00, 95.62 examples/s]\n",
      "05/06/2024 16:41:57 - INFO - \t ***** Running Inference on 1 texts *****\n",
      "Inference: 100%|██████████| 1/1 [00:00<00:00,  8.48it/s]\n"
     ]
    },
    {
     "name": "stdout",
     "output_type": "stream",
     "text": [
      "33 47\n",
      "the model can predict words which are likely to be used in sequence.\n"
     ]
    }
   ],
   "source": [
    "# test run for Enablement\n",
    "rel = 'Enablement'\n",
    "\n",
    "with open(output_path, 'a') as f:\n",
    "    for trip in df[df['new_relation'] == rel].iterrows():\n",
    "        nucleus = trip[1]['nucleus']\n",
    "        satellite = trip[1]['satellite']\n",
    "\n",
    "        f.write(\"\\nRELATION: \" + rel + '\\n')\n",
    "        f.write(\"\\nOriginal nucleus: \" + nucleus + '\\n')\n",
    "        f.write(\"Original satellite: \" + satellite + '\\n')\n",
    "\n",
    "        nucleus_pair = preprocessing_pipeline(original_text, nucleus, retain_dm=True, retain_conj=True, retain_adv=True)\n",
    "        satellite_pair = preprocessing_pipeline(original_text, satellite)\n",
    "       \n",
    "        if nucleus_pair[1] is None or satellite_pair[1] is None:\n",
    "            f.write(\"Can't process nucleus and satellite!\\n\")\n",
    "            continue\n",
    "\n",
    "        ques, ans = generate_enablement_question(nucleus_pair, satellite_pair)\n",
    "        if not ques.strip() or not ans.strip():\n",
    "            f.write(\"Can't generate questions!\\n\")\n",
    "        \n",
    "        f.write(\"\\nQuestion: \" + ques + '\\n')\n",
    "        f.write(\"Answer: \" + ans + '\\n')\n",
    "\n",
    "        ques, ans = generate_enablement_question(satellite_pair, nucleus_pair)\n",
    "        if not ques.strip() or not ans.strip():\n",
    "            f.write(\"Can't generate questions!\\n\")\n",
    "        \n",
    "        f.write(\"\\nQuestion: \" + ques + '\\n')\n",
    "        f.write(\"Answer: \" + ans + '\\n')"
   ]
  },
  {
   "cell_type": "code",
   "execution_count": 565,
   "metadata": {},
   "outputs": [],
   "source": [
    "# Manner-Means relation\n",
    "    \n",
    "# manner-means relation\n",
    "# difference to manner-means: manner-means encapsulate manner-means, as all means can \"enable\" the goal,\n",
    "# but manner-means also contains situational aid, an event lead (may not intentionally) to another event\n",
    "    \n",
    "# manner-means relation\n",
    "\n",
    "def means_question_type_0(nucleus, satellite): \n",
    "    \"\"\"Make question based on manner-means relationship\n",
    "    Type 0: satellite (result) is: relative clause: which + verb + clause (e.g. which made him happy.)\n",
    "\n",
    "    Args:\n",
    "        nucleus (str): nucleus stripped of ending punctuation and spaces \n",
    "        satellite (str): satellite stripped of ending punctuation and spaces \n",
    "    Returns:p \n",
    "        tuple(ques, ans)\n",
    "    \"\"\"\n",
    "    # experimenting: exactly the same as type_1\n",
    "    doc = nlp(nucleus)\n",
    "    rel_pro = \"\"\n",
    "    for token in doc:\n",
    "        if token.pos_ not in ['SPACE', 'PUNCT']:\n",
    "            if \"PRON\" in token.pos_:\n",
    "                rel_pro = token.text\n",
    "                break\n",
    "        \n",
    "    assert len(rel_pro) > 0\n",
    "    question = nucleus.replace(rel_pro.strip(), \"What method \", 1) + '?'\n",
    "    answer = satellite.strip() + '.'\n",
    "\n",
    "    return (question, answer)\n",
    "\n",
    "\n",
    "def means_question_type_1(nucleus, satellite):\n",
    "    \"\"\"Make question based on manner-means relationship\n",
    "    Type 1: satellite (result) is: relative clause: which + verb + (not clause) (e.g. which caused the noise.)\n",
    "\n",
    "    Args:\n",
    "        nucleus (str): nucleus stripped of ending punctuation and spaces \n",
    "        satellite (str): satellite stripped of ending punctuation and spaces \n",
    "    Returns:p \n",
    "        tuple(ques, ans)\n",
    "    \"\"\"\n",
    "    doc = nlp(nucleus)\n",
    "    rel_pro = \"\"\n",
    "    for token in doc:\n",
    "        if token.pos_ not in ['SPACE', 'PUNCT']:\n",
    "            if \"PRON\" in token.pos_:\n",
    "                rel_pro = token.text\n",
    "                break\n",
    "        \n",
    "    assert len(rel_pro) > 0\n",
    "    question = nucleus.replace(rel_pro.strip(), \"What method \", 1) + '?'\n",
    "    answer = satellite.strip() + '.'\n",
    "\n",
    "    return (question, answer)\n",
    "\n",
    "def means_question_type_2(nucleus, satellite): \n",
    "    \"\"\"Make question based on manner-means relationship\n",
    "    Type 2: satellite (result) is: full clause (not relative clause)\n",
    "\n",
    "    Args:\n",
    "        nucleus (str): nucleus stripped of ending punctuation and spaces \n",
    "        satellite (str): satellite stripped of ending punctuation and spaces \n",
    "    Returns:p \n",
    "        tuple(ques, ans)\n",
    "    \"\"\"\n",
    "\n",
    "    if has_aux(nucleus):\n",
    "        new_nuc = move_aux_to_beginning(nucleus)\n",
    "    else: \n",
    "        new_nuc = choose_and_replace_aux_for_verb(nucleus)\n",
    "    question = \"By what method \" + new_nuc.strip() + '?'\n",
    "    answer = satellite.strip() + '.'\n",
    "\n",
    "    return (question, answer)\n",
    "\n",
    "def means_question_type_3(nucleus, satellite): \n",
    "    \"\"\"Make question based on manner-means relationship\n",
    "    Type 2: satellite (result) is: relative clause but not start with relative pronoun (most probably adverbial clause)\n",
    "\n",
    "    Args:\n",
    "        nucleus (str): nucleus stripped of ending punctuation and spaces \n",
    "        satellite (str): satellite stripped of ending punctuation and spaces \n",
    "    Returns:p \n",
    "        tuple(ques, ans)\n",
    "    \"\"\"\n",
    "\n",
    "    question = \"What strategy can be employed \" + nucleus.strip() + '?'\n",
    "    answer = satellite.strip() + '.'\n",
    "\n",
    "    return (question, answer)\n",
    "\n",
    "def generate_means_question(nucleus_pair, satellite_pair):\n",
    "    nucleus = nucleus_pair[1]\n",
    "    satellite = satellite_pair[1]\n",
    "    \n",
    "    if is_one_clause(nucleus, count_relative_clause=False):\n",
    "        cl_type = check_relative_clause(nucleus)\n",
    "        if cl_type != 0: # is relative clause\n",
    "            rel_type = check_relative_clause_type(nucleus)\n",
    "            if rel_type == 0:\n",
    "                return means_question_type_0(nucleus, satellite)\n",
    "            elif rel_type == 1:\n",
    "                return means_question_type_1(nucleus, satellite)\n",
    "        else:\n",
    "            if is_dependent_clause(nucleus_pair[0], nucleus):\n",
    "                return means_question_type_3(nucleus, satellite)\n",
    "            return means_question_type_2(nucleus, satellite)\n",
    "    return (\"\", \"\")"
   ]
  },
  {
   "cell_type": "code",
   "execution_count": 683,
   "metadata": {},
   "outputs": [
    {
     "name": "stderr",
     "output_type": "stream",
     "text": [
      "05/06/2024 22:52:45 - INFO - \t Tokenize 1 inputs...\n",
      "Map: 100%|██████████| 1/1 [00:00<00:00, 113.78 examples/s]\n",
      "05/06/2024 22:52:45 - INFO - \t ***** Running Inference on 1 texts *****\n",
      "Inference: 100%|██████████| 1/1 [00:00<00:00,  7.43it/s]\n",
      "05/06/2024 22:52:46 - INFO - \t Tokenize 1 inputs...\n",
      "Map: 100%|██████████| 1/1 [00:00<00:00, 118.12 examples/s]\n",
      "05/06/2024 22:52:46 - INFO - \t ***** Running Inference on 1 texts *****\n",
      "Inference: 100%|██████████| 1/1 [00:00<00:00,  9.04it/s]\n"
     ]
    },
    {
     "name": "stdout",
     "output_type": "stream",
     "text": [
      "0 6\n",
      "Training: Transformer models are trained\n"
     ]
    },
    {
     "name": "stderr",
     "output_type": "stream",
     "text": [
      "05/06/2024 22:52:47 - INFO - \t Tokenize 1 inputs...\n"
     ]
    },
    {
     "name": "stdout",
     "output_type": "stream",
     "text": [
      "6 36\n",
      "using supervised learning, where Transformer models learn to minimize a loss function that quantifies the difference between Transformer models predictions and the ground truth for the given task.\n"
     ]
    },
    {
     "name": "stderr",
     "output_type": "stream",
     "text": [
      "Map: 100%|██████████| 1/1 [00:00<00:00, 87.50 examples/s]\n",
      "05/06/2024 22:52:47 - INFO - \t ***** Running Inference on 1 texts *****\n",
      "Inference: 100%|██████████| 1/1 [00:00<00:00,  9.45it/s]\n"
     ]
    },
    {
     "name": "stdout",
     "output_type": "stream",
     "text": [
      "\n",
      "Text here:  Training: Transformer models are trained using supervised learning, where Transformer models learn to minimize a loss function that quantifies the difference between Transformer models predictions and the ground truth for the given task. using supervised learning,\n",
      "learning\n",
      "\n",
      "Found Adverbial Clause\n",
      "\n"
     ]
    },
    {
     "ename": "TypeError",
     "evalue": "cannot unpack non-iterable NoneType object",
     "output_type": "error",
     "traceback": [
      "\u001b[0;31m---------------------------------------------------------------------------\u001b[0m",
      "\u001b[0;31mTypeError\u001b[0m                                 Traceback (most recent call last)",
      "Cell \u001b[0;32mIn[683], line 12\u001b[0m\n\u001b[1;32m      9\u001b[0m f\u001b[38;5;241m.\u001b[39mwrite(\u001b[38;5;124m\"\u001b[39m\u001b[38;5;130;01m\\n\u001b[39;00m\u001b[38;5;124mOriginal nucleus: \u001b[39m\u001b[38;5;124m\"\u001b[39m \u001b[38;5;241m+\u001b[39m nucleus \u001b[38;5;241m+\u001b[39m \u001b[38;5;124m'\u001b[39m\u001b[38;5;130;01m\\n\u001b[39;00m\u001b[38;5;124m'\u001b[39m)\n\u001b[1;32m     10\u001b[0m f\u001b[38;5;241m.\u001b[39mwrite(\u001b[38;5;124m\"\u001b[39m\u001b[38;5;124mOriginal satellite: \u001b[39m\u001b[38;5;124m\"\u001b[39m \u001b[38;5;241m+\u001b[39m satellite \u001b[38;5;241m+\u001b[39m \u001b[38;5;124m'\u001b[39m\u001b[38;5;130;01m\\n\u001b[39;00m\u001b[38;5;124m'\u001b[39m)\n\u001b[0;32m---> 12\u001b[0m nucleus_pair \u001b[38;5;241m=\u001b[39m \u001b[43mpreprocessing_pipeline\u001b[49m\u001b[43m(\u001b[49m\u001b[43moriginal_text\u001b[49m\u001b[43m,\u001b[49m\u001b[43m \u001b[49m\u001b[43mnucleus\u001b[49m\u001b[43m,\u001b[49m\u001b[43m \u001b[49m\u001b[43mretain_dm\u001b[49m\u001b[38;5;241;43m=\u001b[39;49m\u001b[38;5;28;43;01mTrue\u001b[39;49;00m\u001b[43m,\u001b[49m\u001b[43m \u001b[49m\u001b[43mretain_conj\u001b[49m\u001b[38;5;241;43m=\u001b[39;49m\u001b[38;5;28;43;01mTrue\u001b[39;49;00m\u001b[43m,\u001b[49m\u001b[43m \u001b[49m\u001b[43mretain_adv\u001b[49m\u001b[38;5;241;43m=\u001b[39;49m\u001b[38;5;28;43;01mTrue\u001b[39;49;00m\u001b[43m,\u001b[49m\u001b[43m \u001b[49m\u001b[43madd_subject_to_rel_clause\u001b[49m\u001b[38;5;241;43m=\u001b[39;49m\u001b[38;5;28;43;01mTrue\u001b[39;49;00m\u001b[43m)\u001b[49m\n\u001b[1;32m     13\u001b[0m satellite_pair \u001b[38;5;241m=\u001b[39m preprocessing_pipeline(original_text, satellite)\n\u001b[1;32m     15\u001b[0m \u001b[38;5;28;01mif\u001b[39;00m nucleus_pair[\u001b[38;5;241m1\u001b[39m] \u001b[38;5;129;01mis\u001b[39;00m \u001b[38;5;28;01mNone\u001b[39;00m \u001b[38;5;129;01mor\u001b[39;00m satellite_pair[\u001b[38;5;241m1\u001b[39m] \u001b[38;5;129;01mis\u001b[39;00m \u001b[38;5;28;01mNone\u001b[39;00m:\n",
      "Cell \u001b[0;32mIn[682], line 36\u001b[0m, in \u001b[0;36mpreprocessing_pipeline\u001b[0;34m(original_text, text, retain_dm, retain_conj, retain_adv, add_subject_to_rel_clause)\u001b[0m\n\u001b[1;32m     34\u001b[0m             src_sent, text \u001b[38;5;241m=\u001b[39m unshorten_relative_clause(src_sent, text)\n\u001b[1;32m     35\u001b[0m         \u001b[38;5;28;01mif\u001b[39;00m add_subject_to_rel_clause:\n\u001b[0;32m---> 36\u001b[0m             src_sent, text \u001b[38;5;241m=\u001b[39m add_subject_to_relative_clause(src_sent, text)\n\u001b[1;32m     38\u001b[0m \u001b[38;5;28;01mreturn\u001b[39;00m src_sent, text\n",
      "\u001b[0;31mTypeError\u001b[0m: cannot unpack non-iterable NoneType object"
     ]
    }
   ],
   "source": [
    "# test run for Manner-Means\n",
    "rel = 'Manner-Means'\n",
    "with open(output_path, 'a') as f:\n",
    "    for trip in df[df['new_relation'] == rel].iterrows():\n",
    "        nucleus = trip[1]['nucleus']\n",
    "        satellite = trip[1]['satellite']\n",
    "\n",
    "        f.write(\"\\nRELATION: \" + rel + '\\n')\n",
    "        f.write(\"\\nOriginal nucleus: \" + nucleus + '\\n')\n",
    "        f.write(\"Original satellite: \" + satellite + '\\n')\n",
    "\n",
    "        nucleus_pair = preprocessing_pipeline(original_text, nucleus, retain_dm=True, retain_conj=True, retain_adv=True, add_subject_to_rel_clause=True)\n",
    "        satellite_pair = preprocessing_pipeline(original_text, satellite)\n",
    "\n",
    "        if nucleus_pair[1] is None or satellite_pair[1] is None:\n",
    "            f.write(\"Can't process nucleus and satellite!\\n\")\n",
    "            continue\n",
    "\n",
    "        ques, ans = generate_means_question(nucleus_pair, satellite_pair) \n",
    "        if not ques.strip() or not ans.strip():\n",
    "            f.write(\"Can't generate questions!\\n\")\n",
    "        \n",
    "        f.write(\"\\nQuestion: \" + ques + '\\n')\n",
    "        f.write(\"Answer: \" + ans + '\\n')\n",
    "\n",
    "        ques, ans = generate_means_question(satellite_pair, nucleus_pair) \n",
    "        if not ques.strip() or not ans.strip():\n",
    "            f.write(\"Can't generate questions!\\n\")\n",
    "            \n",
    "        f.write(\"\\nQuestion: \" + ques + '\\n')\n",
    "        f.write(\"Answer: \" + ans + '\\n')"
   ]
  },
  {
   "cell_type": "code",
   "execution_count": 580,
   "metadata": {},
   "outputs": [
    {
     "name": "stdout",
     "output_type": "stream",
     "text": [
      "\n",
      "Can't find subject of Attention allows each word to attend to every other word in the sequence in parallel, that weighs every other word in the sequence importance for the current token !\n",
      "\n",
      "None\n"
     ]
    }
   ],
   "source": [
    "print(add_subject_to_relative_clause(\"Attention allows each word to attend to every other word in the sequence in parallel, that weighs every other word in the sequence importance for the current token\", \"that weighs every other word in the sequence importance for the current token\"))"
   ]
  },
  {
   "cell_type": "code",
   "execution_count": null,
   "metadata": {},
   "outputs": [],
   "source": [
    "# WORKING: for questions based on BACKGROUND relation, haven't adapted to new preprocessing pipeline\n",
    "\n",
    "def make_background_question_with_two_clauses(nucleus, satellite): \n",
    "    question = \"Under what circumstance that \" + nucleus.strip() + '?'\n",
    "    answer = satellite\n",
    "\n",
    "    return (question, answer)\n",
    "\n",
    "def generate_background_question(original_text, nucleus, satellite):\n",
    "    nucleus = preprocessing_pipeline(original_text, nucleus, retain_dm=False, retain_conj=True, retain_adv=True) # NOTE: may not want to retain dm here, 'cause need only the dm between nuc and sate\n",
    "    satellite = preprocessing_pipeline(original_text, satellite, retain_dm=False, retain_conj=True, retain_adv=True)\n",
    "    \n",
    "    if nucleus is None or satellite is None:\n",
    "        print(\"\\nCan't process nucleus and satellite!\\n\")\n",
    "        return (\"\", \"\")\n",
    "    \n",
    "    if is_one_clause(nucleus) and is_one_clause(satellite):\n",
    "        return make_background_question_with_two_clauses(nucleus, satellite)\n",
    "    else:\n",
    "        return make_background_question_with_two_clauses(nucleus, satellite)\n",
    "        return (\"\", \"\") # other cases, not case with two clauses"
   ]
  },
  {
   "cell_type": "code",
   "execution_count": null,
   "metadata": {},
   "outputs": [],
   "source": [
    "# test run for Background\n",
    "rel = 'Background'\n",
    "for trip in df[df['new_relation'] == rel].iterrows():\n",
    "    with open(output_path, 'a') as f:\n",
    "        f.write(\"\\nRELATION: \" + rel + '\\n')\n",
    "\n",
    "        f.write(\"\\nOriginal nucleus: \" + trip[1]['nucleus'] + '\\n')\n",
    "        f.write(\"Original satellite: \" + trip[1]['satellite'] + '\\n')\n",
    "        f.write('\\n')\n",
    "        \n",
    "        ques, ans = generate_background_question(original_text, trip[1]['nucleus'], trip[1]['satellite'])\n",
    "        if not ques.strip() or not ans.strip():\n",
    "            continue\n",
    "        \n",
    "        f.write(\"\\nQuestion: \" + ques + '\\n')\n",
    "        f.write(\"Answer: \" + ans + '\\n')"
   ]
  },
  {
   "cell_type": "markdown",
   "metadata": {},
   "source": [
    "Individual Question Generator (for random testings)"
   ]
  },
  {
   "cell_type": "code",
   "execution_count": null,
   "metadata": {},
   "outputs": [
    {
     "data": {
      "text/plain": [
       "False"
      ]
     },
     "execution_count": 76,
     "metadata": {},
     "output_type": "execute_result"
    }
   ],
   "source": [
    "is_one_clause(\"This characteristic allows the model to learn the context of a word \", count_relative_clause=True)"
   ]
  },
  {
   "cell_type": "code",
   "execution_count": 559,
   "metadata": {},
   "outputs": [
    {
     "name": "stderr",
     "output_type": "stream",
     "text": [
      "05/06/2024 17:37:58 - INFO - \t Tokenize 1 inputs...\n",
      "Map: 100%|██████████| 1/1 [00:00<00:00, 111.72 examples/s]\n",
      "05/06/2024 17:37:58 - INFO - \t ***** Running Inference on 1 texts *****\n",
      "Inference: 100%|██████████| 1/1 [00:00<00:00,  7.77it/s]\n",
      "05/06/2024 17:37:58 - INFO - \t Tokenize 1 inputs...\n",
      "Map: 100%|██████████| 1/1 [00:00<00:00, 122.66 examples/s]\n",
      "05/06/2024 17:37:58 - INFO - \t ***** Running Inference on 1 texts *****\n",
      "Inference: 100%|██████████| 1/1 [00:00<00:00,  8.10it/s]\n"
     ]
    },
    {
     "name": "stdout",
     "output_type": "stream",
     "text": [
      "Each layer processes the output of the previous layer,  that refines the representations. that refines the representations.\n",
      "\n",
      "Question: What method  refines the representations.?\n",
      "Answer: Each layer processes the output of the previous layer,.\n",
      "\n"
     ]
    }
   ],
   "source": [
    "# miscellaneous test run\n",
    "nuc = \"\"\"Each layer processes the output of the previous layer, \"\"\"\n",
    "sate = \"gradually refining the representations.\" \n",
    "org = nuc + sate\n",
    "\n",
    "nucleus_pair = preprocessing_pipeline(original_text, nuc, retain_dm=True, retain_conj=True, retain_adv=True)\n",
    "satellite_pair = preprocessing_pipeline(original_text, sate)\n",
    "\n",
    "if nucleus_pair[1] is None or satellite_pair[1] is None:\n",
    "    print(\"Can't process nucleus and satellite!\\n\")\n",
    "\n",
    "ques, ans = generate_means_question(satellite_pair, nucleus_pair)\n",
    "if not ques.strip() or not ans.strip():\n",
    "    print(\"Can't generate questions!\\n\")\n",
    "        \n",
    "print(\"\\nQuestion: \" + ques)\n",
    "print(\"Answer: \" + ans + '\\n')"
   ]
  },
  {
   "cell_type": "code",
   "execution_count": 558,
   "metadata": {},
   "outputs": [
    {
     "name": "stdout",
     "output_type": "stream",
     "text": [
      "\n",
      "Found Adverbial Clause\n",
      "\n"
     ]
    }
   ],
   "source": [
    "add_subject_to_relative_clause(org, sate)"
   ]
  },
  {
   "cell_type": "code",
   "execution_count": 449,
   "metadata": {},
   "outputs": [
    {
     "name": "stdout",
     "output_type": "stream",
     "text": [
      "14 21\n",
      "to stabilize and speed up training.\n"
     ]
    },
    {
     "data": {
      "text/plain": [
       "False"
      ]
     },
     "execution_count": 449,
     "metadata": {},
     "output_type": "execute_result"
    }
   ],
   "source": [
    "is_dependent_clause(satellite_pair[0], \"to stabilize and speed up training.\")"
   ]
  },
  {
   "cell_type": "code",
   "execution_count": null,
   "metadata": {},
   "outputs": [
    {
     "data": {
      "text/plain": [
       "' BERT_large, with 345 million parameters, is the largest model of its kind. It is demonstrably superior on small-scale tasks to BERT_base, which uses the same architecture with -only- 110 million parameters.'"
      ]
     },
     "execution_count": 78,
     "metadata": {},
     "output_type": "execute_result"
    }
   ],
   "source": [
    "sents = split_into_sentences(original_text)\n",
    "src_sent = find_source_sents(sents, \"is the largest model of its kind. It is demonstrably superior on\", span=0)\n",
    "src_sent"
   ]
  }
 ],
 "metadata": {
  "kernelspec": {
   "display_name": ".venv",
   "language": "python",
   "name": "python3"
  },
  "language_info": {
   "codemirror_mode": {
    "name": "ipython",
    "version": 3
   },
   "file_extension": ".py",
   "mimetype": "text/x-python",
   "name": "python",
   "nbconvert_exporter": "python",
   "pygments_lexer": "ipython3",
   "version": "3.11.9"
  }
 },
 "nbformat": 4,
 "nbformat_minor": 2
}
